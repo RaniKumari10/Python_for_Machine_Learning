{
 "cells": [
  {
   "cell_type": "code",
   "execution_count": 5,
   "id": "b56adee6",
   "metadata": {},
   "outputs": [
    {
     "name": "stdout",
     "output_type": "stream",
     "text": [
      "15\n"
     ]
    }
   ],
   "source": [
    "#1 What will be the output of the following code snippet? \n",
    "def func(a,b):\n",
    "    return b if a == 0 else func(b%a, a)\n",
    "print(func(30,75))    "
   ]
  },
  {
   "cell_type": "code",
   "execution_count": null,
   "id": "652b6216",
   "metadata": {},
   "outputs": [],
   "source": [
    "#X mod (%) Y = X/Y =reminder\n",
    "# 75/30  =reminder =15"
   ]
  },
  {
   "cell_type": "code",
   "execution_count": 15,
   "id": "035fbe5a",
   "metadata": {},
   "outputs": [
    {
     "name": "stdout",
     "output_type": "stream",
     "text": [
      "<class 'filter'>\n"
     ]
    }
   ],
   "source": [
    "#2\n",
    "numbers = (4, 7, 19, 2, 89, 45,72,22)\n",
    "sorted_numbers = sorted(numbers)\n",
    "even = lambda a: a % 2 == 0 \n",
    "even_numbers = filter(even, sorted_numbers)\n",
    "print(type(even_numbers)) "
   ]
  },
  {
   "cell_type": "markdown",
   "id": "f69bdf48",
   "metadata": {},
   "source": [
    "# Python Filter() \n",
    "Python filter() function applies another function on a given iterable (List/String/Dictionary, etc.) to test which of its item to keep or discard. In simple words, it filters the ones that don't pass the test and returns the rest as a filter object. The filter object is of the iterable type."
   ]
  },
  {
   "cell_type": "raw",
   "id": "10f481f0",
   "metadata": {},
   "source": [
    "3) As what datatype are the *args stored, when passed into\n",
    "a) Tuple "
   ]
  },
  {
   "cell_type": "raw",
   "id": "3c5af7b6",
   "metadata": {},
   "source": [
    "*args allow a function to take any number of positional arguments. The parameters passed to the addition function are stored in a tuple."
   ]
  },
  {
   "cell_type": "code",
   "execution_count": 18,
   "id": "56e72a9f",
   "metadata": {},
   "outputs": [
    {
     "ename": "TypeError",
     "evalue": "unsupported operand type(s) for +: 'set' and 'set'",
     "output_type": "error",
     "traceback": [
      "\u001b[1;31m---------------------------------------------------------------------------\u001b[0m",
      "\u001b[1;31mTypeError\u001b[0m                                 Traceback (most recent call last)",
      "\u001b[1;32m~\\AppData\\Local\\Temp\\ipykernel_15148\\300314375.py\u001b[0m in \u001b[0;36m<module>\u001b[1;34m\u001b[0m\n\u001b[0;32m      4\u001b[0m \u001b[0mset3\u001b[0m\u001b[1;33m=\u001b[0m\u001b[1;33m{\u001b[0m\u001b[1;36m99\u001b[0m\u001b[1;33m,\u001b[0m\u001b[1;36m22\u001b[0m\u001b[1;33m,\u001b[0m\u001b[1;36m17\u001b[0m\u001b[1;33m}\u001b[0m\u001b[1;33m\u001b[0m\u001b[1;33m\u001b[0m\u001b[0m\n\u001b[0;32m      5\u001b[0m \u001b[1;31m#print(len(set1) + len(set2) + len(set3))\u001b[0m\u001b[1;33m\u001b[0m\u001b[1;33m\u001b[0m\u001b[0m\n\u001b[1;32m----> 6\u001b[1;33m \u001b[0mprint\u001b[0m\u001b[1;33m(\u001b[0m\u001b[0mlen\u001b[0m\u001b[1;33m(\u001b[0m\u001b[0mset1\u001b[0m \u001b[1;33m+\u001b[0m \u001b[0mset2\u001b[0m \u001b[1;33m+\u001b[0m \u001b[0mset3\u001b[0m\u001b[1;33m)\u001b[0m\u001b[1;33m)\u001b[0m\u001b[1;33m\u001b[0m\u001b[1;33m\u001b[0m\u001b[0m\n\u001b[0m",
      "\u001b[1;31mTypeError\u001b[0m: unsupported operand type(s) for +: 'set' and 'set'"
     ]
    }
   ],
   "source": [
    "#4) print length of sets\n",
    "set1 = {14, 3, 55} \n",
    "set2 = {82, 49, 62} \n",
    "set3={99,22,17} \n",
    "#print(len(set1) + len(set2) + len(set3)) : workable\n",
    "print(len(set1 + set2 + set3)) "
   ]
  },
  {
   "cell_type": "raw",
   "id": "2e8d8da7",
   "metadata": {},
   "source": [
    "5) What keyword is used in Python to raise exceptions? \n",
    "a) raise "
   ]
  },
  {
   "cell_type": "code",
   "execution_count": 19,
   "id": "f0d7efb1",
   "metadata": {},
   "outputs": [
    {
     "ename": "TypeError",
     "evalue": "Only integers are allowed",
     "output_type": "error",
     "traceback": [
      "\u001b[1;31m---------------------------------------------------------------------------\u001b[0m",
      "\u001b[1;31mTypeError\u001b[0m                                 Traceback (most recent call last)",
      "\u001b[1;32m~\\AppData\\Local\\Temp\\ipykernel_15148\\2407302476.py\u001b[0m in \u001b[0;36m<module>\u001b[1;34m\u001b[0m\n\u001b[0;32m      2\u001b[0m \u001b[1;33m\u001b[0m\u001b[0m\n\u001b[0;32m      3\u001b[0m \u001b[1;32mif\u001b[0m \u001b[1;32mnot\u001b[0m \u001b[0mtype\u001b[0m\u001b[1;33m(\u001b[0m\u001b[0mx\u001b[0m\u001b[1;33m)\u001b[0m \u001b[1;32mis\u001b[0m \u001b[0mint\u001b[0m\u001b[1;33m:\u001b[0m\u001b[1;33m\u001b[0m\u001b[1;33m\u001b[0m\u001b[0m\n\u001b[1;32m----> 4\u001b[1;33m   \u001b[1;32mraise\u001b[0m \u001b[0mTypeError\u001b[0m\u001b[1;33m(\u001b[0m\u001b[1;34m\"Only integers are allowed\"\u001b[0m\u001b[1;33m)\u001b[0m\u001b[1;33m\u001b[0m\u001b[1;33m\u001b[0m\u001b[0m\n\u001b[0m",
      "\u001b[1;31mTypeError\u001b[0m: Only integers are allowed"
     ]
    }
   ],
   "source": [
    "x = \"hello\"\n",
    "\n",
    "if not type(x) is int:\n",
    "  raise TypeError(\"Only integers are allowed\")"
   ]
  },
  {
   "cell_type": "raw",
   "id": "a7515162",
   "metadata": {},
   "source": [
    "6) Which of the following modules need to be imported to handle date time computations in \n",
    "Python?\n",
    "a) timedate \n",
    "b) date \n",
    "c) datetime \n",
    "d) time \n",
    "\n",
    "c) datetime \n",
    "\n",
    "#Reason :  The datetime module needs to be imported to handle date "
   ]
  },
  {
   "cell_type": "code",
   "execution_count": 20,
   "id": "d878dfb4",
   "metadata": {},
   "outputs": [
    {
     "name": "stdout",
     "output_type": "stream",
     "text": [
      "208\n"
     ]
    }
   ],
   "source": [
    "#7 print the below function\n",
    "print(4**3 + (7 + 5)**(1 + 1)) "
   ]
  },
  {
   "cell_type": "raw",
   "id": "258b0491",
   "metadata": {},
   "source": [
    "8) Which of the following functions converts date to corresponding time in Python? \n",
    "a) strptime \n",
    "b) strftime \n",
    "c) both a) and b) \n",
    "d) None \n",
    "\n",
    "a)strptime"
   ]
  },
  {
   "cell_type": "raw",
   "id": "50291bf3",
   "metadata": {},
   "source": [
    "The  method creates a datetime object from the given string.\n",
    "\n",
    "Note: You cannot create datetime object from every string. The string needs to be in a certain format."
   ]
  },
  {
   "cell_type": "code",
   "execution_count": 29,
   "id": "15b6ca38",
   "metadata": {},
   "outputs": [
    {
     "name": "stdout",
     "output_type": "stream",
     "text": [
      "date_string = 21 June, 2018\n",
      "type of date_string = <class 'str'>\n",
      "date_object = 2018-06-21 00:00:00\n",
      "type of date_object = <class 'datetime.datetime'>\n"
     ]
    }
   ],
   "source": [
    "from datetime import datetime\n",
    "\n",
    "date_string = \"21 June, 2018\"\n",
    "\n",
    "print(\"date_string =\", date_string)\n",
    "print(\"type of date_string =\", type(date_string))\n",
    "\n",
    "date_object = datetime.strptime(date_string, \"%d %B, %Y\")\n",
    "\n",
    "print(\"date_object =\", date_object)\n",
    "print(\"type of date_object =\", type(date_object))"
   ]
  },
  {
   "cell_type": "raw",
   "id": "6d1280fd",
   "metadata": {},
   "source": [
    "The strftime() method returns a string representing date and time using date, time or datetime object."
   ]
  },
  {
   "cell_type": "code",
   "execution_count": 24,
   "id": "b84364b0",
   "metadata": {},
   "outputs": [
    {
     "name": "stdout",
     "output_type": "stream",
     "text": [
      "year: 2023\n",
      "month: 06\n",
      "day: 14\n",
      "time: 14:44:58\n",
      "date and time: 06/14/2023, 14:44:58\n"
     ]
    }
   ],
   "source": [
    "from datetime import datetime\n",
    "\n",
    "now = datetime.now() # current date and time\n",
    "\n",
    "year = now.strftime(\"%Y\")\n",
    "print(\"year:\", year)\n",
    "\n",
    "month = now.strftime(\"%m\")\n",
    "print(\"month:\", month)\n",
    "\n",
    "day = now.strftime(\"%d\")\n",
    "print(\"day:\", day)\n",
    "\n",
    "time = now.strftime(\"%H:%M:%S\")\n",
    "print(\"time:\", time)\n",
    "\n",
    "date_time = now.strftime(\"%m/%d/%Y, %H:%M:%S\")\n",
    "print(\"date and time:\",date_time)"
   ]
  },
  {
   "cell_type": "raw",
   "id": "fa8e9dee",
   "metadata": {},
   "source": [
    "9) The python tuple is _____ in nature. \n",
    "b)immutable "
   ]
  },
  {
   "cell_type": "raw",
   "id": "3b3706e3",
   "metadata": {},
   "source": [
    "10) The ___ is a built-in function that returns a range object that consists series of integer numbers, which we can iterate using a for loop.\n",
    "\n",
    "range()"
   ]
  },
  {
   "cell_type": "raw",
   "id": "5c685f3f",
   "metadata": {},
   "source": [
    "This type represents an immutable sequence of numbers and is commonly used in for loops to repeat a \n",
    "specific number of times a given sequence of numbers. The range() function in Python generates an \n",
    "immutable sequence of numbers beginning with the given start integer and ending with the given stop \n",
    "integer. For loops, we can use the range() built-in function to return an object that contains a series of \n",
    "integer numbers, which we can then iterate through using a for loop. "
   ]
  },
  {
   "cell_type": "raw",
   "id": "ce2b8caa",
   "metadata": {},
   "source": [
    "11. Amongst which of the following is a function which does not have any name?\n",
    "\n",
    "Del function\n",
    "Show function\n",
    "Lambda function\n",
    "None of the mentioned above\n",
    "\n",
    "Answer: C) Lambda function"
   ]
  },
  {
   "cell_type": "raw",
   "id": "e05560f1",
   "metadata": {},
   "source": [
    "Explanation:\n",
    "\n",
    "Lambda function is an anonymous function, which means that it does not have a name, as opposed to other functions. Unlike other programming languages, Python allows us to declare functions without using the def keyword, which is what we would normally do to declare a function. As an alternative, the lambda keyword is used to declare the anonymous functions that will be used throughout the program. When compared to other functions, lambda functions can accept any number of arguments, but they can only return a single value, which is represented by an expression.\n",
    "\n",
    "Syntax:\n",
    "\n",
    "lambda arguments: expression"
   ]
  },
  {
   "cell_type": "raw",
   "id": "d422445c",
   "metadata": {},
   "source": [
    "Question 12 \n",
    "The module Pickle is used to ___. \n",
    "A. Serializing Python object structure\n",
    "B. De-serializing Python object structure\n",
    "C. Both A and B \n",
    "D. None of the mentioned above \n",
    "C. Both A and B "
   ]
  },
  {
   "cell_type": "raw",
   "id": "936cac0d",
   "metadata": {},
   "source": [
    "Explanation: \n",
    "Pickle is a Python module that allows you to save any object structure along with its associated data. \n",
    "Pickle is a Python module that can be used to serialize and de-serialize any type of Python object structure. \n",
    "Serialization is the process of converting data or an object stored in memory to a stream of bytes known as byte streams, which is a type of data stream. These byte streams, which are contained within a binary file, can then be stored on a disc, in a database, or transmitted over a network. Pickling is another term for the serialization process. De-serialization, also known as unpickling, is the inverse of the pickling process, in which a byte stream is converted back to a Python object through the pickling process. "
   ]
  },
  {
   "cell_type": "raw",
   "id": "73bde39a",
   "metadata": {},
   "source": [
    "13. Amongst which of the following is / are the method of convert Python objects for writing data in a binary file? \n",
    "A. set() method \n",
    "B. dump() method \n",
    "C. load() method \n",
    "D. None of the mentioned above \n",
    "B. dump() method "
   ]
  },
  {
   "cell_type": "raw",
   "id": "9f1cb8ff",
   "metadata": {},
   "source": [
    "The dump() method is used to convert Python objects into binary data that can be written to a binary file. The file into which the data is to be written must be opened in binary write mode before the data can be written. To make use of the dump() method, we can call this function with the parameters data object and file object. \n",
    "\n",
    "There are two objects in this case: data object and file object. The data object object is the object that needs to be dumped to the file with the file handle named file_ object. "
   ]
  },
  {
   "cell_type": "raw",
   "id": "d884a9e8",
   "metadata": {},
   "source": [
    "14. Amongst which of the following is / are the method used to unpickling data from a binary file? \n",
    "A. load() \n",
    "B. set() method \n",
    "C. dump() method \n",
    "D. None of the mentioned above \n",
    "A. load() "
   ]
  },
  {
   "cell_type": "raw",
   "id": "8cd4a039",
   "metadata": {},
   "source": [
    "Explanation: \n",
    "The load() method is used to unpickle data from a binary file that has been compressed. The binary read (rb) mode is used to load the file that is to be loaded. If we want to use the load() method, we can write Store object = load(file object) in our program. The pickled Python object is loaded from a file with a file handle named file object and stored in a new file handle named store object. The pickled Python object is loaded from a file with a file handle named file object and stored in a new file handle named store object. "
   ]
  },
  {
   "cell_type": "raw",
   "id": "32fc65de",
   "metadata": {},
   "source": [
    "15. A text file contains only textual information consisting of ___. \n",
    "A. Alphabets \n",
    "B. Numbers \n",
    "C. Special symbols \n",
    "D. All of the mentioned above "
   ]
  },
  {
   "cell_type": "raw",
   "id": "7b3c1b1a",
   "metadata": {},
   "source": [
    "D. All of the mentioned above \n",
    "\n",
    "Explanation: \n",
    "Unlike other types of files, text files contain only textual information, which can be represented by alphabets, numbers, and other special symbols. These types of files are saved with extensions such as .txt,.py,.c,.csv,.html, and so on. Each byte in a text file corresponds to one character in the text. "
   ]
  },
  {
   "cell_type": "raw",
   "id": "03362148",
   "metadata": {},
   "source": [
    "#16  \n",
    "Which Python code could replace the ellipsis (...) below to get the following output? (Select all that \n",
    "apply.) \n",
    "captains = { \n",
    "    \"Enterprise\": \"Picard\", \n",
    "    \"Voyager\": \"Janeway\", \n",
    "    \"Defiant\": \"Sisko\", \n",
    " } \n",
    "Enterprise Picard, \n",
    "    Voyager Janeway \n",
    "    Defiant Sisko \n",
    "\n",
    " \n",
    "\n",
    "a) for ship, captain in captains.items(): \n",
    "    print(ship, captain) \n",
    "b) for ship in captains: \n",
    "    print(ship, captains[ship]) \n",
    "c) for ship in captains: \n",
    "\n",
    "\n",
    "    print(ship, captains) \n",
    "d) both a and b\n",
    "ANSWER : d) both a and b"
   ]
  },
  {
   "cell_type": "code",
   "execution_count": 35,
   "id": "ec065943",
   "metadata": {},
   "outputs": [
    {
     "name": "stdout",
     "output_type": "stream",
     "text": [
      "Enterprise Picard\n",
      "Voyager Janeway\n",
      "Defiant Sisko\n"
     ]
    }
   ],
   "source": [
    "captains = { \n",
    "    \"Enterprise\": \"Picard\", \n",
    "    \"Voyager\": \"Janeway\", \n",
    "    \"Defiant\": \"Sisko\", \n",
    " } \n",
    "\n",
    "\n",
    " \n",
    "\n",
    "for ship, captain in captains.items(): \n",
    "    print(ship, captain) \n"
   ]
  },
  {
   "cell_type": "code",
   "execution_count": 34,
   "id": "a8c91c55",
   "metadata": {},
   "outputs": [
    {
     "name": "stdout",
     "output_type": "stream",
     "text": [
      "Enterprise Picard\n",
      "Voyager Janeway\n",
      "Defiant Sisko\n"
     ]
    }
   ],
   "source": [
    "captains = { \n",
    "    \"Enterprise\": \"Picard\", \n",
    "    \"Voyager\": \"Janeway\", \n",
    "    \"Defiant\": \"Sisko\", \n",
    " } \n",
    "for ship in captains: \n",
    "    print(ship, captains[ship])"
   ]
  },
  {
   "cell_type": "code",
   "execution_count": 33,
   "id": "811ba8e1",
   "metadata": {},
   "outputs": [
    {
     "name": "stdout",
     "output_type": "stream",
     "text": [
      "Enterprise {'Enterprise': 'Picard', 'Voyager': 'Janeway', 'Defiant': 'Sisko'}\n",
      "Voyager {'Enterprise': 'Picard', 'Voyager': 'Janeway', 'Defiant': 'Sisko'}\n",
      "Defiant {'Enterprise': 'Picard', 'Voyager': 'Janeway', 'Defiant': 'Sisko'}\n"
     ]
    }
   ],
   "source": [
    "captains = { \n",
    "    \"Enterprise\": \"Picard\", \n",
    "    \"Voyager\": \"Janeway\", \n",
    "    \"Defiant\": \"Sisko\", \n",
    " } \n",
    "\n",
    "for ship in captains: \n",
    "    print(ship, captains) "
   ]
  },
  {
   "cell_type": "raw",
   "id": "51307a2f",
   "metadata": {},
   "source": [
    "17) \n",
    "Which of the following lines of code will create an empty dictionary named captains? \n",
    "a) captains = {dict} \n",
    "b) type(captains) \n",
    "c) captains.dict() \n",
    "d) captains = {} "
   ]
  },
  {
   "cell_type": "code",
   "execution_count": 54,
   "id": "c2472076",
   "metadata": {},
   "outputs": [
    {
     "data": {
      "text/plain": [
       "{}"
      ]
     },
     "execution_count": 54,
     "metadata": {},
     "output_type": "execute_result"
    }
   ],
   "source": [
    "captains = {} \n",
    "captains"
   ]
  },
  {
   "cell_type": "raw",
   "id": "71da5570",
   "metadata": {},
   "source": [
    " d) captains = {}\n",
    "Explanation: To create a new empty dictionary, you use the syntax name = {} "
   ]
  },
  {
   "cell_type": "raw",
   "id": "08214304",
   "metadata": {},
   "source": [
    "18)  Now you have your empty dictionary named captains. It’s time to add some data! \n",
    "Specifically, you want to add the key-value pairs \"Enterprise\": \"Picard\", \"Voyager\": \"Janeway\", and \"Defiant\": \"Sisko\". \n",
    "Which of the following code snippets will successfully add these key-value pairs to the \n",
    "existing captains dictionary? \n",
    "\n",
    "a) captains{\"Enterprise\" = \"Picard\"} \n",
    "captains{\"Voyager\" = \"Janeway\"} \n",
    "captains{\"Defiant\" = \"Sisko\"} \n",
    "\n",
    " \n",
    "\n",
    "b) captains[\"Enterprise\"] = \"Picard\" \n",
    "captains[\"Voyager\"] = \"Janeway\" \n",
    "captains[\"Defiant\"] = \"Sisko\" \n",
    "\n",
    " \n",
    "\n",
    "c) captains = { \n",
    "    \"Enterprise\": \"Picard\", \n",
    "    \"Voyager\": \"Janeway\", \n",
    "    \"Defiant\": \"Sisko\", \n",
    "} \n",
    "d) None of the above \n",
    "\n",
    "Answer:\n",
    "b) captains[\"Enterprise\"] = \"Picard\" \n",
    "captains[\"Voyager\"] = \"Janeway\" \n",
    "captains[\"Defiant\"] = \"Sisko\" "
   ]
  },
  {
   "cell_type": "code",
   "execution_count": 37,
   "id": "83271a48",
   "metadata": {},
   "outputs": [
    {
     "data": {
      "text/plain": [
       "{'Enterprise': 'Picard', 'Voyager': 'Janeway', 'Defiant': 'Sisko'}"
      ]
     },
     "execution_count": 37,
     "metadata": {},
     "output_type": "execute_result"
    }
   ],
   "source": [
    "captains ={}\n",
    "captains[\"Enterprise\"] = \"Picard\" \n",
    "captains[\"Voyager\"] = \"Janeway\" \n",
    "captains[\"Defiant\"] = \"Sisko\"\n",
    "captains"
   ]
  },
  {
   "cell_type": "code",
   "execution_count": 40,
   "id": "5ae79543",
   "metadata": {},
   "outputs": [
    {
     "data": {
      "text/plain": [
       "{'Enterprise': 'Picard', 'Voyager': 'Janeway', 'Defiant': 'Sisko'}"
      ]
     },
     "execution_count": 40,
     "metadata": {},
     "output_type": "execute_result"
    }
   ],
   "source": [
    " captains = { \n",
    "    \"Enterprise\": \"Picard\", \n",
    "    \"Voyager\": \"Janeway\", \n",
    "    \"Defiant\": \"Sisko\", \n",
    "}\n",
    "captains"
   ]
  },
  {
   "cell_type": "raw",
   "id": "bac24b62",
   "metadata": {},
   "source": [
    "19 )  You’re really building out the Federation Starfleet now! Here’s what you have: \n",
    "captains = { \n",
    "    \"Enterprise\": \"Picard\", \n",
    "    \"Voyager\": \"Janeway\", \n",
    "    \"Defiant\": \"Sisko\", \n",
    "    \"Discovery\": \"unknown\", \n",
    "}\n",
    "Now, say you want to display the ship and captain names contained in the dictionary, but you also \n",
    "want to provide some additional context. How could you do it? \n",
    "a) for item in captains.items(): \n",
    "    print(f\"The [ship] is captained by [captain].\") \n",
    "b) for ship, captain in captains.items(): \n",
    "    print(f\"The {ship} is captained by {captain}.\") \n",
    "c) for captain, ship in captains.items(): \n",
    "    print(f\"The {ship} is captained by {captain}.\") \n",
    "d) All are correct \n",
    "\n",
    "b) for ship, captain in captains.items(): \n",
    "    print(f\"The {ship} is captained by {captain}.\") "
   ]
  },
  {
   "cell_type": "raw",
   "id": "f7a77573",
   "metadata": {},
   "source": [
    "Explanation: \n",
    "In this code, you’re iterating over the dictionary with a for loop and the .items() dictionary method. \n",
    "It’s important to put ship, captain in the correct order, where ship corresponds to the dictionary’s keys, \n",
    "and captain refers to the values. Otherwise, you’d end up with \"The Picard is captained by \n",
    "Enterprise.\" Then, you’re using an f-string to streamline your print."
   ]
  },
  {
   "cell_type": "code",
   "execution_count": 41,
   "id": "461e12fb",
   "metadata": {},
   "outputs": [
    {
     "name": "stdout",
     "output_type": "stream",
     "text": [
      "The [ship] is captained by [captain].\n",
      "The [ship] is captained by [captain].\n",
      "The [ship] is captained by [captain].\n",
      "The [ship] is captained by [captain].\n"
     ]
    }
   ],
   "source": [
    "captains = { \n",
    "    \"Enterprise\": \"Picard\", \n",
    "    \"Voyager\": \"Janeway\", \n",
    "    \"Defiant\": \"Sisko\", \n",
    "    \"Discovery\": \"unknown\", \n",
    "}\n",
    "\n",
    "for item in captains.items(): \n",
    "    print(f\"The [ship] is captained by [captain].\") "
   ]
  },
  {
   "cell_type": "code",
   "execution_count": 42,
   "id": "aef7353b",
   "metadata": {},
   "outputs": [
    {
     "name": "stdout",
     "output_type": "stream",
     "text": [
      "The Enterprise is captained by Picard.\n",
      "The Voyager is captained by Janeway.\n",
      "The Defiant is captained by Sisko.\n",
      "The Discovery is captained by unknown.\n"
     ]
    }
   ],
   "source": [
    "captains = { \n",
    "    \"Enterprise\": \"Picard\", \n",
    "    \"Voyager\": \"Janeway\", \n",
    "    \"Defiant\": \"Sisko\", \n",
    "    \"Discovery\": \"unknown\", \n",
    "}\n",
    "for ship, captain in captains.items(): \n",
    "    print(f\"The {ship} is captained by {captain}.\") "
   ]
  },
  {
   "cell_type": "code",
   "execution_count": 43,
   "id": "c8a65f99",
   "metadata": {},
   "outputs": [
    {
     "name": "stdout",
     "output_type": "stream",
     "text": [
      "The Picard is captained by Enterprise.\n",
      "The Janeway is captained by Voyager.\n",
      "The Sisko is captained by Defiant.\n",
      "The unknown is captained by Discovery.\n"
     ]
    }
   ],
   "source": [
    "captains = { \n",
    "    \"Enterprise\": \"Picard\", \n",
    "    \"Voyager\": \"Janeway\", \n",
    "    \"Defiant\": \"Sisko\", \n",
    "    \"Discovery\": \"unknown\", \n",
    "}\n",
    "for captain, ship in captains.items(): \n",
    "    print(f\"The {ship} is captained by {captain}.\") "
   ]
  },
  {
   "cell_type": "raw",
   "id": "45f555df",
   "metadata": {},
   "source": [
    "20 )\n",
    "\n",
    "You’ve created a dictionary, added data, checked for the existence of keys, and iterated over it with\n",
    "a for loop. Now you’re ready to delete a key from this dictionary:\n",
    "\n",
    "captains = {\n",
    "\n",
    "\"Enterprise\": \"Picard\",\n",
    "\n",
    "\"Voyager\": \"Janeway\",\n",
    "\n",
    "\"Defiant\": \"Sisko\",\n",
    "\n",
    "\"Discovery\": \"unknown\",\n",
    "\n",
    "}\n",
    "\f",
    "What statement will remove the entry for the key \"Discovery\"?\n",
    "\n",
    "a) del captains\n",
    "b) captains.remove()\n",
    "c) del captains[\"Discovery\"]\n",
    "d) captains[\"Discovery\"].pop()\n",
    "\n",
    "c) del captains[\"Discovery\"]"
   ]
  },
  {
   "cell_type": "raw",
   "id": "9bcd94ad",
   "metadata": {},
   "source": [
    "You can use the del statement to remove a key-value pair from a dictionary. It’s very important to \n",
    "include the square brackets with the key. Otherwise, you would delete the whole dictionary "
   ]
  },
  {
   "cell_type": "code",
   "execution_count": 44,
   "id": "dc66a64f",
   "metadata": {},
   "outputs": [],
   "source": [
    "captains = {\n",
    "\n",
    "\"Enterprise\": \"Picard\",\n",
    "\n",
    "\"Voyager\": \"Janeway\",\n",
    "\n",
    "\"Defiant\": \"Sisko\",\n",
    "\n",
    "\"Discovery\": \"unknown\",\n",
    "\n",
    "}\n",
    "del captains"
   ]
  },
  {
   "cell_type": "code",
   "execution_count": 45,
   "id": "3f0c4377",
   "metadata": {},
   "outputs": [
    {
     "ename": "NameError",
     "evalue": "name 'captains' is not defined",
     "output_type": "error",
     "traceback": [
      "\u001b[1;31m---------------------------------------------------------------------------\u001b[0m",
      "\u001b[1;31mNameError\u001b[0m                                 Traceback (most recent call last)",
      "\u001b[1;32m~\\AppData\\Local\\Temp\\ipykernel_15148\\157509875.py\u001b[0m in \u001b[0;36m<module>\u001b[1;34m\u001b[0m\n\u001b[1;32m----> 1\u001b[1;33m \u001b[0mcaptains\u001b[0m\u001b[1;33m\u001b[0m\u001b[1;33m\u001b[0m\u001b[0m\n\u001b[0m",
      "\u001b[1;31mNameError\u001b[0m: name 'captains' is not defined"
     ]
    }
   ],
   "source": [
    "captains"
   ]
  },
  {
   "cell_type": "code",
   "execution_count": 46,
   "id": "e07eae11",
   "metadata": {},
   "outputs": [
    {
     "ename": "AttributeError",
     "evalue": "'dict' object has no attribute 'remove'",
     "output_type": "error",
     "traceback": [
      "\u001b[1;31m---------------------------------------------------------------------------\u001b[0m",
      "\u001b[1;31mAttributeError\u001b[0m                            Traceback (most recent call last)",
      "\u001b[1;32m~\\AppData\\Local\\Temp\\ipykernel_15148\\3969818084.py\u001b[0m in \u001b[0;36m<module>\u001b[1;34m\u001b[0m\n\u001b[0;32m      9\u001b[0m \u001b[1;33m\u001b[0m\u001b[0m\n\u001b[0;32m     10\u001b[0m }\n\u001b[1;32m---> 11\u001b[1;33m \u001b[0mcaptains\u001b[0m\u001b[1;33m.\u001b[0m\u001b[0mremove\u001b[0m\u001b[1;33m(\u001b[0m\u001b[1;33m)\u001b[0m\u001b[1;33m\u001b[0m\u001b[1;33m\u001b[0m\u001b[0m\n\u001b[0m",
      "\u001b[1;31mAttributeError\u001b[0m: 'dict' object has no attribute 'remove'"
     ]
    }
   ],
   "source": [
    "captains = {\n",
    "\"Enterprise\": \"Picard\",\n",
    "\n",
    "\"Voyager\": \"Janeway\",\n",
    "\n",
    "\"Defiant\": \"Sisko\",\n",
    "\n",
    "\"Discovery\": \"unknown\",\n",
    "\n",
    "}\n",
    "captains.remove()"
   ]
  },
  {
   "cell_type": "code",
   "execution_count": 48,
   "id": "e9f552be",
   "metadata": {},
   "outputs": [
    {
     "data": {
      "text/plain": [
       "{'Enterprise': 'Picard', 'Voyager': 'Janeway', 'Defiant': 'Sisko'}"
      ]
     },
     "execution_count": 48,
     "metadata": {},
     "output_type": "execute_result"
    }
   ],
   "source": [
    "captains = {\n",
    "\n",
    "\"Enterprise\": \"Picard\",\n",
    "\n",
    "\"Voyager\": \"Janeway\",\n",
    "\n",
    "\"Defiant\": \"Sisko\",\n",
    "\n",
    "\"Discovery\": \"unknown\",\n",
    "\n",
    "}\n",
    "del captains[\"Discovery\"]\n",
    "captains"
   ]
  },
  {
   "cell_type": "code",
   "execution_count": 49,
   "id": "ab23f329",
   "metadata": {},
   "outputs": [
    {
     "ename": "AttributeError",
     "evalue": "'str' object has no attribute 'pop'",
     "output_type": "error",
     "traceback": [
      "\u001b[1;31m---------------------------------------------------------------------------\u001b[0m",
      "\u001b[1;31mAttributeError\u001b[0m                            Traceback (most recent call last)",
      "\u001b[1;32m~\\AppData\\Local\\Temp\\ipykernel_15148\\2101742318.py\u001b[0m in \u001b[0;36m<module>\u001b[1;34m\u001b[0m\n\u001b[0;32m     10\u001b[0m \u001b[1;33m\u001b[0m\u001b[0m\n\u001b[0;32m     11\u001b[0m }\n\u001b[1;32m---> 12\u001b[1;33m \u001b[0mcaptains\u001b[0m\u001b[1;33m[\u001b[0m\u001b[1;34m\"Discovery\"\u001b[0m\u001b[1;33m]\u001b[0m\u001b[1;33m.\u001b[0m\u001b[0mpop\u001b[0m\u001b[1;33m(\u001b[0m\u001b[1;33m)\u001b[0m\u001b[1;33m\u001b[0m\u001b[1;33m\u001b[0m\u001b[0m\n\u001b[0m\u001b[0;32m     13\u001b[0m \u001b[0mcaptains\u001b[0m\u001b[1;33m\u001b[0m\u001b[1;33m\u001b[0m\u001b[0m\n",
      "\u001b[1;31mAttributeError\u001b[0m: 'str' object has no attribute 'pop'"
     ]
    }
   ],
   "source": [
    "captains = {\n",
    "\n",
    "\"Enterprise\": \"Picard\",\n",
    "\n",
    "\"Voyager\": \"Janeway\",\n",
    "\n",
    "\"Defiant\": \"Sisko\",\n",
    "\n",
    "\"Discovery\": \"unknown\",\n",
    "\n",
    "}\n",
    "captains[\"Discovery\"].pop()\n",
    "captains"
   ]
  },
  {
   "cell_type": "code",
   "execution_count": 50,
   "id": "3753f5c7",
   "metadata": {},
   "outputs": [
    {
     "data": {
      "text/plain": [
       "{'Enterprise': 'Picard', 'Voyager': 'Janeway', 'Defiant': 'Sisko'}"
      ]
     },
     "execution_count": 50,
     "metadata": {},
     "output_type": "execute_result"
    }
   ],
   "source": [
    "captains = {\n",
    "\n",
    "\"Enterprise\": \"Picard\",\n",
    "\n",
    "\"Voyager\": \"Janeway\",\n",
    "\n",
    "\"Defiant\": \"Sisko\",\n",
    "\n",
    "\"Discovery\": \"unknown\",\n",
    "\n",
    "}\n",
    "captains.pop(\"Discovery\")\n",
    "captains"
   ]
  },
  {
   "cell_type": "raw",
   "id": "dd0893b5",
   "metadata": {},
   "source": [
    "21  When implementing linear regression of some dependent variable 𝑦 on the set of independent \n",
    "variables 𝐱 = (𝑥₁, …, 𝑥ᵣ), where 𝑟 is the number of predictors, which of the following statements will \n",
    "be true? \n",
    "a) 𝛽₀, 𝛽₁, …, 𝛽ᵣ are the regression coefficients. \n",
    "b) Linear regression is about determining the best predicted weights by using the method of \n",
    "ordinary least squares. \n",
    "c) E is the random interval \n",
    "d) Both and b \n",
    "\n",
    " a) 𝛽₀, 𝛽₁, …, 𝛽ᵣ are the regression coefficients. "
   ]
  },
  {
   "cell_type": "raw",
   "id": "765b70bf",
   "metadata": {},
   "source": [
    "\n",
    "d) Both a) 𝛽₀, 𝛽₁, …, 𝛽ᵣ are the regression coefficients, and b) Linear regression is about determining the best predicted weights by using the method of ordinary least squares.\n",
    "\n",
    "When implementing linear regression, the goal is to estimate the regression coefficients (𝛽₀, 𝛽₁, …, 𝛽ᵣ) that represent the weights or coefficients assigned to each independent variable 𝑥₁, 𝑥₂, ..., 𝑥ᵣ. These coefficients determine the impact of each predictor on the dependent variable 𝑦. So, statement a) is true.\n",
    "\n",
    "Linear regression aims to find the best predicted weights by minimizing the sum of squared residuals through the method of ordinary least squares (OLS). OLS is a common approach to estimate the regression coefficients by minimizing the vertical distance between the observed values and the predicted values. Thus, statement b) is also true.\n",
    "\n",
    "Statement c) \"E is the random interval\" is not accurate in the context of linear regression, so it is false.\n"
   ]
  },
  {
   "cell_type": "raw",
   "id": "599dfe5e",
   "metadata": {},
   "source": [
    "22What indicates that you have a perfect fit in linear regression\n",
    "a) The value 𝑅² < 1, which corresponds to SSR = 0 \n",
    "b) The value 𝑅² = 0, which corresponds to SSR = 1 \n",
    "c) The value 𝑅² > 0, which corresponds to SSR = 1 \n",
    "d) The value 𝑅² = 1, which corresponds to SSR = 0 \n",
    "\n",
    "d) The value 𝑅² = 1, which corresponds to SSR = 0 "
   ]
  },
  {
   "cell_type": "raw",
   "id": "d39d704a",
   "metadata": {},
   "source": [
    "In linear regression, 𝑅² (R-squared) is a measure of how well the regression model fits the observed data. It indicates the proportion of the variance in the dependent variable that can be explained by the independent variables. A perfect fit in linear regression would mean that the regression model explains all the variance in the dependent variable, resulting in an 𝑅² value of 1.\n",
    "\n",
    "SSR (Sum of Squared Residuals) is the sum of the squared differences between the observed values and the predicted values. When the regression model has a perfect fit, the predicted values would match the observed values exactly, resulting in SSR = 0."
   ]
  },
  {
   "cell_type": "raw",
   "id": "b5e8a849",
   "metadata": {},
   "source": [
    "23)  \n",
    "In simple linear regression, the value of what shows the point where the estimated regression line \n",
    "crosses the 𝑦 axis? \n",
    "a) Y \n",
    "b) B0 \n",
    "c) B1 \n",
    "d) F \n",
    "\n",
    "b) B0"
   ]
  },
  {
   "cell_type": "raw",
   "id": "f9cd6b6f",
   "metadata": {},
   "source": [
    "24)  \n",
    "Check out these four linear regression plots:    "
   ]
  },
  {
   "cell_type": "markdown",
   "id": "6ca85c1a",
   "metadata": {},
   "source": [
    "<img src=\"img_11.jpg\">"
   ]
  },
  {
   "cell_type": "raw",
   "id": "571f222b",
   "metadata": {},
   "source": [
    "Which one represents an underfitted model? \n",
    "\n",
    " \n",
    "\n",
    "a)The bottom-left plot \n",
    "b) The top-right plot \n",
    "c) The bottom-right plot \n",
    "d) The top-left plot \n",
    "\n",
    "Answer_ d) The top-left plot "
   ]
  },
  {
   "cell_type": "raw",
   "id": "869bf10c",
   "metadata": {},
   "source": [
    "25) \n",
    "There are five basic steps when you’re implementing linear regression: \n",
    "• a. Check the results of model fitting to know whether the model is satisfactory.4 \n",
    "• b. Provide data to work with, and eventually do appropriate transformations. 2\n",
    "• c. Apply the model for predictions.5 \n",
    "• d. Import the packages and classes that you need. 1 \n",
    "• e. Create a regression model and fit it with existing data. 3\n",
    "However, those steps are currently listed in the wrong order. What’s the correct order? \n",
    "\n",
    "a) e, c, a, b, d \n",
    "b) e, d, b, a, c \n",
    "c) d, e, c, b, a \n",
    "d) d, b, e, a, c \n",
    "\n",
    "Answer _ d) d, b, e, a, c "
   ]
  },
  {
   "cell_type": "raw",
   "id": "7b45fbd0",
   "metadata": {},
   "source": [
    "26 ) Which of the following are optional parameters to LinearRegression in scikit-learn? \n",
    "a) Fit \n",
    "b) fit_intercept \n",
    "c) normalize \n",
    "d) copy_X \n",
    "e) n_jobs \n",
    "f) reshape \n",
    "\n",
    "b) fit_intercept\n",
    "c) normalize\n",
    "d) copy_X \n",
    "e) n_jobs\n",
    "f) reshape "
   ]
  },
  {
   "cell_type": "raw",
   "id": "56adbced",
   "metadata": {},
   "source": [
    "27) While working with scikit-learn, in which type of regression do you need to transform the array of \n",
    "inputs to include nonlinear terms such as 𝑥²? \n",
    "a)Multiple linear regression \n",
    "b) Simple linear regression \n",
    "c) Polynomial regression \n",
    "\n",
    "\n",
    "c) Polynomial regression "
   ]
  },
  {
   "cell_type": "raw",
   "id": "8f7b243d",
   "metadata": {},
   "source": [
    "28) You should choose statsmodels over scikit-learn when:\n",
    "    \n",
    "A)You want graphical representations of your data. \n",
    "b) You’re working with nonlinear terms. \n",
    "c) You need more detailed results. \n",
    "d) You need to include optional parameters.\n",
    "\n",
    "A)You want graphical representations of your data.\n",
    "c) You need more detailed results. "
   ]
  },
  {
   "cell_type": "raw",
   "id": "3f8e5baa",
   "metadata": {},
   "source": [
    "The correct options for choosing statsmodels over scikit-learn are:\n",
    "\n",
    "A) You want graphical representations of your data.\n",
    "c) You need more detailed results.\n",
    "\n",
    "Statsmodels is a Python library specifically designed for statistical modeling and econometrics. It provides detailed statistical analysis and modeling capabilities, including various statistical tests, confidence intervals, and p-values. It also offers graphical representations of data such as diagnostic plots for regression models.\n",
    "\n",
    "On the other hand, scikit-learn is primarily focused on machine learning tasks, including various algorithms for classification, regression, clustering, and dimensionality reduction. It emphasizes predictive modeling and performance evaluation rather than detailed statistical analysis.\n",
    "\n",
    "Regarding the other options:\n",
    "\n",
    "b) You're working with nonlinear terms: Both statsmodels and scikit-learn support linear and nonlinear regression modeling, so this is not a decisive factor for choosing one over the other.\n",
    "\n",
    "d) You need to include optional parameters: Both statsmodels and scikit-learn provide optional parameters for their respective models, so this is not a differentiating factor between the two libraries."
   ]
  },
  {
   "cell_type": "raw",
   "id": "4f5cef09",
   "metadata": {},
   "source": [
    "29)   ________ is a fundamental package for scientific computing with Python. It offers \n",
    "comprehensive mathematical functions, random number generators, linear algebra routines, Fourier \n",
    "transforms, and more. It provides a high-level syntax that makes it accessible and productive. \n",
    "a) Pandas \n",
    "b) Numpy \n",
    "c) Statsmodel \n",
    "d) scipy \n",
    "\n",
    "b) Numpy "
   ]
  },
  {
   "cell_type": "raw",
   "id": "6b797c4b",
   "metadata": {},
   "source": [
    "30 )  _________  is a Python data visualization library based on Matplotlib. It provides a high-level \n",
    "interface for drawing attractive and informative statistical graphics that allow you to explore and \n",
    "understand your data. It integrates closely with pandas data structures. \n",
    "\n",
    "a) Bokeh \n",
    "b) Seaborn\n",
    "c) Matplotlib\n",
    "d) Dash \n",
    "\n",
    "b) Seaborn"
   ]
  }
 ],
 "metadata": {
  "kernelspec": {
   "display_name": "Python 3 (ipykernel)",
   "language": "python",
   "name": "python3"
  },
  "language_info": {
   "codemirror_mode": {
    "name": "ipython",
    "version": 3
   },
   "file_extension": ".py",
   "mimetype": "text/x-python",
   "name": "python",
   "nbconvert_exporter": "python",
   "pygments_lexer": "ipython3",
   "version": "3.11.5"
  }
 },
 "nbformat": 4,
 "nbformat_minor": 5
}
