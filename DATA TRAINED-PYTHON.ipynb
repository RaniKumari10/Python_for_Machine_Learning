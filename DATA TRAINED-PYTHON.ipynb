{
 "cells": [
  {
   "cell_type": "markdown",
   "id": "3bffd53a",
   "metadata": {},
   "source": [
    "### python"
   ]
  },
  {
   "cell_type": "raw",
   "id": "36ea8d44",
   "metadata": {},
   "source": [
    "python is high-level, interpreted, intractive and object-oriented scrpting language and wiedly used in data science."
   ]
  },
  {
   "cell_type": "raw",
   "id": "da90804a",
   "metadata": {},
   "source": [
    "programming means a set of instructions that tell a computer how to perform a task. set of instructions means written in a language that computer can understand."
   ]
  },
  {
   "cell_type": "markdown",
   "id": "07b50eeb",
   "metadata": {},
   "source": [
    "### print()"
   ]
  },
  {
   "cell_type": "raw",
   "id": "a1fdbfce",
   "metadata": {},
   "source": [
    "The print() function prints the specified message to the screen, or other standard output device. The message can be a string, or any other object, the object will be converted into a string before written to the screen."
   ]
  },
  {
   "cell_type": "markdown",
   "id": "41627e1a",
   "metadata": {},
   "source": [
    "###### Fancier Output Formatting¶"
   ]
  },
  {
   "cell_type": "raw",
   "id": "876c970f",
   "metadata": {},
   "source": [
    "To use formatted string literals, begin a string with f or F before the opening quotation mark or triple quotation mark. Inside this string, you can write a Python expression between { and } characters that can refer to variables or literal values."
   ]
  },
  {
   "cell_type": "code",
   "execution_count": 6,
   "id": "caa30394",
   "metadata": {},
   "outputs": [
    {
     "data": {
      "text/plain": [
       "'Results of the 2016 Referendum'"
      ]
     },
     "execution_count": 6,
     "metadata": {},
     "output_type": "execute_result"
    }
   ],
   "source": [
    "year = 2016\n",
    "event = 'Referendum'\n",
    "f'Results of the {year} {event}'"
   ]
  },
  {
   "cell_type": "raw",
   "id": "76d2f83f",
   "metadata": {},
   "source": [
    "The str.format() method of strings requires more manual effort. You’ll still use { and } to mark where a variable will be substituted and can provide detailed formatting directives, but you’ll also need to provide the information to be formatted."
   ]
  },
  {
   "cell_type": "code",
   "execution_count": 7,
   "id": "5c0d3c0f",
   "metadata": {},
   "outputs": [
    {
     "data": {
      "text/plain": [
       "' 42572654 YES votes  49.67%'"
      ]
     },
     "execution_count": 7,
     "metadata": {},
     "output_type": "execute_result"
    }
   ],
   "source": [
    "yes_votes = 42_572_654\n",
    "no_votes = 43_132_495\n",
    "percentage = yes_votes / (yes_votes + no_votes)\n",
    "'{:-9} YES votes  {:2.2%}'.format(yes_votes, percentage)"
   ]
  },
  {
   "cell_type": "markdown",
   "id": "dab4def4",
   "metadata": {},
   "source": [
    "###### When you don’t need fancy output but just want a quick display of some variables for debugging purposes, you can convert any value to a string with the repr() or str() functions."
   ]
  },
  {
   "cell_type": "raw",
   "id": "f53788d0",
   "metadata": {},
   "source": [
    "The str() function is meant to return representations of values which are fairly human-readable, while repr() is meant to generate representations which can be read by the interpreter (or will force a SyntaxError if there is no equivalent syntax). For objects which don’t have a particular representation for human consumption, str() will return the same value as repr(). Many values, such as numbers or structures like lists and dictionaries, have the same representation using either function. Strings, in particular, have two distinct representations."
   ]
  },
  {
   "cell_type": "code",
   "execution_count": 8,
   "id": "b724552d",
   "metadata": {},
   "outputs": [
    {
     "data": {
      "text/plain": [
       "'Hello, world.'"
      ]
     },
     "execution_count": 8,
     "metadata": {},
     "output_type": "execute_result"
    }
   ],
   "source": [
    "s = 'Hello, world.'\n",
    "str(s)"
   ]
  },
  {
   "cell_type": "code",
   "execution_count": 9,
   "id": "91f4f54d",
   "metadata": {},
   "outputs": [
    {
     "data": {
      "text/plain": [
       "\"'Hello, world.'\""
      ]
     },
     "execution_count": 9,
     "metadata": {},
     "output_type": "execute_result"
    }
   ],
   "source": [
    "repr(s)"
   ]
  },
  {
   "cell_type": "code",
   "execution_count": 10,
   "id": "ded3368e",
   "metadata": {},
   "outputs": [
    {
     "name": "stdout",
     "output_type": "stream",
     "text": [
      "The value of x is 32.5, and y is 40000...\n"
     ]
    }
   ],
   "source": [
    "x = 10 * 3.25\n",
    "y = 200 * 200\n",
    "s = 'The value of x is ' + repr(x) + ', and y is ' + repr(y) + '...'\n",
    "print(s)"
   ]
  },
  {
   "cell_type": "code",
   "execution_count": 11,
   "id": "2f437065",
   "metadata": {},
   "outputs": [
    {
     "data": {
      "text/plain": [
       "\"(32.5, 40000, ('spam', 'eggs'))\""
      ]
     },
     "execution_count": 11,
     "metadata": {},
     "output_type": "execute_result"
    }
   ],
   "source": [
    "repr((x, y, ('spam', 'eggs')))"
   ]
  },
  {
   "cell_type": "markdown",
   "id": "79ae8791",
   "metadata": {},
   "source": [
    "### Formatted String Literals"
   ]
  },
  {
   "cell_type": "raw",
   "id": "51409145",
   "metadata": {},
   "source": [
    "Formatted string literals (also called f-strings for short) let you include the value of Python expressions inside a string by prefixing the string with f or F and writing expressions as {expression}."
   ]
  },
  {
   "cell_type": "code",
   "execution_count": 12,
   "id": "ed2360de",
   "metadata": {},
   "outputs": [
    {
     "name": "stdout",
     "output_type": "stream",
     "text": [
      "The value of pi is approximately 3.142.\n"
     ]
    }
   ],
   "source": [
    "import math\n",
    "print(f'The value of pi is approximately {math.pi:.3f}.')"
   ]
  },
  {
   "cell_type": "code",
   "execution_count": 13,
   "id": "64388519",
   "metadata": {},
   "outputs": [
    {
     "name": "stdout",
     "output_type": "stream",
     "text": [
      "Sjoerd     ==>       4127\n",
      "Jack       ==>       4098\n",
      "Dcab       ==>       7678\n"
     ]
    }
   ],
   "source": [
    "table = {'Sjoerd': 4127, 'Jack': 4098, 'Dcab': 7678}\n",
    "for name, phone in table.items():\n",
    "    print(f'{name:10} ==> {phone:10d}')"
   ]
  },
  {
   "cell_type": "code",
   "execution_count": 14,
   "id": "17014567",
   "metadata": {},
   "outputs": [
    {
     "name": "stdout",
     "output_type": "stream",
     "text": [
      "My hovercraft is full of eels.\n"
     ]
    }
   ],
   "source": [
    "animals = 'eels'\n",
    "print(f'My hovercraft is full of {animals}.')"
   ]
  },
  {
   "cell_type": "markdown",
   "id": "f92698da",
   "metadata": {},
   "source": [
    "### The String format() Method"
   ]
  },
  {
   "cell_type": "code",
   "execution_count": 15,
   "id": "89c57edb",
   "metadata": {},
   "outputs": [
    {
     "name": "stdout",
     "output_type": "stream",
     "text": [
      "We are the knights who say \"Ni!\"\n"
     ]
    }
   ],
   "source": [
    "print('We are the {} who say \"{}!\"'.format('knights', 'Ni'))"
   ]
  },
  {
   "cell_type": "code",
   "execution_count": 16,
   "id": "9b7ec052",
   "metadata": {},
   "outputs": [
    {
     "name": "stdout",
     "output_type": "stream",
     "text": [
      "The story of Bill, Manfred, and Georg.\n"
     ]
    }
   ],
   "source": [
    "print('The story of {0}, {1}, and {other}.'.format('Bill', 'Manfred',\n",
    "                                                   other='Georg'))"
   ]
  },
  {
   "cell_type": "markdown",
   "id": "8398c739",
   "metadata": {},
   "source": [
    "### Manual String Formatting"
   ]
  },
  {
   "cell_type": "code",
   "execution_count": 17,
   "id": "a16c0249",
   "metadata": {},
   "outputs": [
    {
     "name": "stdout",
     "output_type": "stream",
     "text": [
      " 1   1    1\n",
      " 2   4    8\n",
      " 3   9   27\n",
      " 4  16   64\n",
      " 5  25  125\n",
      " 6  36  216\n",
      " 7  49  343\n",
      " 8  64  512\n",
      " 9  81  729\n",
      "10 100 1000\n"
     ]
    }
   ],
   "source": [
    "for x in range(1, 11):\n",
    "    print(repr(x).rjust(2), repr(x*x).rjust(3), end=' ')\n",
    "    # Note use of 'end' on previous line\n",
    "    print(repr(x*x*x).rjust(4))"
   ]
  },
  {
   "cell_type": "markdown",
   "id": "6df4e5aa",
   "metadata": {},
   "source": [
    "### Old string formatting¶"
   ]
  },
  {
   "cell_type": "code",
   "execution_count": 18,
   "id": "42565187",
   "metadata": {},
   "outputs": [
    {
     "name": "stdout",
     "output_type": "stream",
     "text": [
      "The value of pi is approximately 3.142.\n"
     ]
    }
   ],
   "source": [
    "import math\n",
    "print('The value of pi is approximately %5.3f.' % math.pi)"
   ]
  },
  {
   "cell_type": "code",
   "execution_count": 19,
   "id": "af91bca6",
   "metadata": {},
   "outputs": [
    {
     "name": "stdout",
     "output_type": "stream",
     "text": [
      "\n",
      "Help on NoneType object:\n",
      "\n",
      "class NoneType(object)\n",
      " |  Methods defined here:\n",
      " |  \n",
      " |  __bool__(self, /)\n",
      " |      True if self else False\n",
      " |  \n",
      " |  __repr__(self, /)\n",
      " |      Return repr(self).\n",
      " |  \n",
      " |  ----------------------------------------------------------------------\n",
      " |  Static methods defined here:\n",
      " |  \n",
      " |  __new__(*args, **kwargs) from builtins.type\n",
      " |      Create and return a new object.  See help(type) for accurate signature.\n",
      "\n"
     ]
    }
   ],
   "source": [
    "help(print())"
   ]
  },
  {
   "cell_type": "code",
   "execution_count": 20,
   "id": "08bf807a",
   "metadata": {},
   "outputs": [
    {
     "name": "stdout",
     "output_type": "stream",
     "text": [
      "Help on built-in function print in module builtins:\n",
      "\n",
      "print(*args, sep=' ', end='\\n', file=None, flush=False)\n",
      "    Prints the values to a stream, or to sys.stdout by default.\n",
      "    \n",
      "    sep\n",
      "      string inserted between values, default a space.\n",
      "    end\n",
      "      string appended after the last value, default a newline.\n",
      "    file\n",
      "      a file-like object (stream); defaults to the current sys.stdout.\n",
      "    flush\n",
      "      whether to forcibly flush the stream.\n",
      "\n"
     ]
    }
   ],
   "source": [
    "help(print)"
   ]
  },
  {
   "cell_type": "raw",
   "id": "af125fa5",
   "metadata": {},
   "source": [
    "Note: file, sep, end and flush are keyword argument if you want to use them to proper write them and then pass the value."
   ]
  },
  {
   "cell_type": "code",
   "execution_count": 21,
   "id": "5bb107e2",
   "metadata": {},
   "outputs": [
    {
     "name": "stdout",
     "output_type": "stream",
     "text": [
      "Hello, world Its me\n",
      "Hello, world+Its me\n",
      "Hello, world\n",
      "Hello,  Mate!\n"
     ]
    }
   ],
   "source": [
    "#print(value, ..., sep=' ', end='\\n', file=sys.stdout, flush=False)\n",
    "print('Hello, world', 'Its me')\n",
    "print('Hello, world', 'Its me', sep='+')\n",
    "print( 'Hello, world')\n",
    "print('Hello,  Mate!')"
   ]
  },
  {
   "cell_type": "code",
   "execution_count": 22,
   "id": "258ac226",
   "metadata": {},
   "outputs": [
    {
     "name": "stdout",
     "output_type": "stream",
     "text": [
      "Hello, worldHello,  Mate!\n",
      "Bye\n"
     ]
    }
   ],
   "source": [
    "print( 'Hello, world', end='') #here end has given hence it is adding below word as it is going in new line.\n",
    "print('Hello,  Mate!')\n",
    "print('Bye')"
   ]
  },
  {
   "cell_type": "code",
   "execution_count": 23,
   "id": "add30ccb",
   "metadata": {},
   "outputs": [
    {
     "name": "stdout",
     "output_type": "stream",
     "text": [
      "Hello, world+Hello,  Mate!\tBye\n"
     ]
    }
   ],
   "source": [
    "print( 'Hello, world','Hello,  Mate!',sep = '+', end='\\t')\n",
    "print('Bye')"
   ]
  },
  {
   "cell_type": "code",
   "execution_count": 24,
   "id": "1a632623",
   "metadata": {},
   "outputs": [
    {
     "ename": "NameError",
     "evalue": "name 'sourcefile' is not defined",
     "output_type": "error",
     "traceback": [
      "\u001b[1;31m---------------------------------------------------------------------------\u001b[0m",
      "\u001b[1;31mNameError\u001b[0m                                 Traceback (most recent call last)",
      "Cell \u001b[1;32mIn[24], line 1\u001b[0m\n\u001b[1;32m----> 1\u001b[0m \u001b[43msourcefile\u001b[49m(\u001b[38;5;124m'\u001b[39m\u001b[38;5;124mpython.txt\u001b[39m\u001b[38;5;124m'\u001b[39m, \u001b[38;5;124m'\u001b[39m\u001b[38;5;124mw\u001b[39m\u001b[38;5;124m'\u001b[39m)\u001b[38;5;66;03m# we have create jupyter base area\u001b[39;00m\n\u001b[0;32m      2\u001b[0m \u001b[38;5;28mprint\u001b[39m(\u001b[38;5;124m'\u001b[39m\u001b[38;5;124mHello\u001b[39m\u001b[38;5;124m'\u001b[39m, \u001b[38;5;124m'\u001b[39m\u001b[38;5;124mworld!\u001b[39m\u001b[38;5;124m'\u001b[39m, sep\u001b[38;5;241m=\u001b[39m\u001b[38;5;124m'\u001b[39m\u001b[38;5;124m+\u001b[39m\u001b[38;5;124m'\u001b[39m, file\u001b[38;5;241m=\u001b[39msourcefile)\n\u001b[0;32m      3\u001b[0m sourcefile\u001b[38;5;241m.\u001b[39mclose()\n",
      "\u001b[1;31mNameError\u001b[0m: name 'sourcefile' is not defined"
     ]
    }
   ],
   "source": [
    "sourcefile('python.txt', 'w')# we have create jupyter base area\n",
    "print('Hello', 'world!', sep='+', file=sourcefile)\n",
    "sourcefile.close()"
   ]
  },
  {
   "cell_type": "code",
   "execution_count": null,
   "id": "a25e2882",
   "metadata": {},
   "outputs": [],
   "source": [
    "'''print( 'Hello', 'world', end=' ')\n",
    "print('Goodbye', 'world',sep = '_' )'''"
   ]
  },
  {
   "cell_type": "code",
   "execution_count": null,
   "id": "44901df8",
   "metadata": {},
   "outputs": [],
   "source": [
    "print( 'Hello'+'world', end='\\n')"
   ]
  },
  {
   "cell_type": "markdown",
   "id": "5a32e349",
   "metadata": {},
   "source": [
    "###### zip(*iterables, strict=False)\n",
    "Iterate over several iterables in parallel, producing tuples with an item from each o"
   ]
  },
  {
   "cell_type": "code",
   "execution_count": null,
   "id": "c7335e9c",
   "metadata": {},
   "outputs": [],
   "source": [
    "for item in zip([1, 2, 3], ['sugar', 'spice', 'everything nice']):\n",
    "    print(item)"
   ]
  },
  {
   "cell_type": "markdown",
   "id": "23dc61c6",
   "metadata": {},
   "source": [
    "### Variables in python"
   ]
  },
  {
   "cell_type": "code",
   "execution_count": null,
   "id": "08628ce3",
   "metadata": {},
   "outputs": [],
   "source": [
    "Variable is also know as an identifier and used to hold certain value.\n",
    "\n",
    "Naming of variables: Variable names can be a group of both the letters and digits, but they have to begin with a letter or an underscore.\n",
    "Rules of keeping name of variable:\n",
    "    1. The first character of the variable must be an alphabateor underscore(_).\n",
    "    2. Except the forst character, reamaining can be an alphabet of lowercase(a-z), Uppercase(A-Z), underscore or digit(0-9)\n",
    "    3. Identifier names are case sensitive; for example: myVariable and MyVariable are not the same.\n",
    "    4. Identifier name must not contain any defined keywords, white-space and special character(*,!,@,#,^,&,%)    "
   ]
  },
  {
   "cell_type": "code",
   "execution_count": null,
   "id": "d82ce896",
   "metadata": {},
   "outputs": [],
   "source": [
    "x = 10\n",
    "y = x\n",
    "x=20\n",
    "print(y)"
   ]
  },
  {
   "cell_type": "code",
   "execution_count": null,
   "id": "36f0ff12",
   "metadata": {},
   "outputs": [],
   "source": [
    "a=b=c=d=100   #if multiple varibale have similar value\n",
    "print(a,b,c,d)\n",
    "\n",
    "A,B,C,D =10,50,100,60\n",
    "print(A,B,C,D)"
   ]
  },
  {
   "cell_type": "code",
   "execution_count": null,
   "id": "84c3428a",
   "metadata": {},
   "outputs": [],
   "source": [
    "student = 'Rani'\n",
    "subject = 'Math'\n",
    "age = 15\n",
    "marks = 78.5\n",
    "print(student)\n",
    "print(subject)\n",
    "print(age)\n",
    "print(marks)"
   ]
  },
  {
   "cell_type": "code",
   "execution_count": null,
   "id": "bd0c24eb",
   "metadata": {},
   "outputs": [],
   "source": [
    "print(type(student))\n",
    "print(type(subject))\n",
    "print(type(age))\n",
    "print(type(marks))"
   ]
  },
  {
   "cell_type": "markdown",
   "id": "44eef0c0",
   "metadata": {},
   "source": [
    "### Data Types"
   ]
  },
  {
   "cell_type": "raw",
   "id": "ea040418",
   "metadata": {},
   "source": [
    "Data types are the classification or categorization of data items. It represents the kind of value that tells what operations can be performed on a particular data. Since everything is an object in Python programming, data types are actually classes and variables are instances (object) of these classes."
   ]
  },
  {
   "cell_type": "raw",
   "id": "ec9a3907",
   "metadata": {},
   "source": [
    "# Python has the following data types built-in by default, in these categories:\n",
    "\n",
    "Text Type: str\n",
    "Numeric Types: int, float, complex (example:x= 10 + 10j)\n",
    "Sequence Types: list, tuple, range\n",
    "Mapping Type:  dict\n",
    "Set Types: set, frozenset\n",
    "Boolean Type: bool\n",
    "Binary Types: bytes, bytearray, memoryview\n",
    "None Type: NoneType"
   ]
  },
  {
   "cell_type": "markdown",
   "id": "aeae0185",
   "metadata": {},
   "source": [
    "https://www.w3schools.com/python/python_datatypes.asp"
   ]
  },
  {
   "cell_type": "markdown",
   "id": "4600a799",
   "metadata": {},
   "source": [
    "### Type casting "
   ]
  },
  {
   "cell_type": "raw",
   "id": "0f1e4b7e",
   "metadata": {},
   "source": [
    "The process of coverting given variable data type(example - integer, string, float etc) to another data type is called type conversion.\n",
    "\n",
    "python has two type of type conversion.\n",
    "\n",
    "Implict Type conversion:\n",
    "     Python automatically converts one data type to another data type. This process doesn't need any user involvement.\n",
    "        \n",
    "Explicit Type Conversion: \n",
    "    Python need user involvement to convert the variable data type into a certain data type in order to required operation.\n",
    "    \n",
    "    syntax : <required_datatype>(expression)"
   ]
  },
  {
   "cell_type": "code",
   "execution_count": null,
   "id": "8cff0489",
   "metadata": {},
   "outputs": [],
   "source": [
    "#Implict Type conversion\n",
    "a = 10\n",
    "b = '10'\n",
    "c = 10.0\n",
    "print(type(a),type(b),type(c))"
   ]
  },
  {
   "cell_type": "code",
   "execution_count": null,
   "id": "b17885e5",
   "metadata": {},
   "outputs": [],
   "source": [
    "print(a+c)\n",
    "print(type(a+c))"
   ]
  },
  {
   "cell_type": "code",
   "execution_count": null,
   "id": "315fa879",
   "metadata": {},
   "outputs": [],
   "source": [
    "#Explicit Type Conversion:\n",
    "a = 10\n",
    "print(type(a))\n",
    "b = float(a)\n",
    "print(type(b))\n",
    "c = str(a)\n",
    "print(type(c))"
   ]
  },
  {
   "cell_type": "code",
   "execution_count": null,
   "id": "112f999a",
   "metadata": {},
   "outputs": [],
   "source": [
    "x = 10.5\n",
    "str(int(x))"
   ]
  },
  {
   "cell_type": "raw",
   "id": "d7b53099",
   "metadata": {},
   "source": [
    "Python divides the operators in the following groups:\n",
    "\n",
    "Arithmetic operators\n",
    "Assignment operators\n",
    "Comparison operators\n",
    "Logical operators\n",
    "Identity operators\n",
    "Membership operators\n",
    "Bitwise operators\n",
    "\n",
    "https://www.w3schools.com/python/python_operators.asp"
   ]
  },
  {
   "cell_type": "markdown",
   "id": "a5db7fc4",
   "metadata": {},
   "source": [
    "### Indexing and slicing"
   ]
  },
  {
   "cell_type": "raw",
   "id": "24c386a9",
   "metadata": {},
   "source": [
    "Indexing in python is a way to refer the individual items within an iterable by its position. in other words, you can directly access your elements of your choice within an iterable and do various operation depending on your needs."
   ]
  },
  {
   "cell_type": "code",
   "execution_count": null,
   "id": "d0b3fcbb",
   "metadata": {},
   "outputs": [],
   "source": [
    "a = 'Hello world'\n",
    "print(a[0],a[1], a[2], a[10], a[-1])"
   ]
  },
  {
   "cell_type": "markdown",
   "id": "83e682d5",
   "metadata": {},
   "source": [
    "### string operations"
   ]
  },
  {
   "cell_type": "raw",
   "id": "4529078a",
   "metadata": {},
   "source": [
    "Python has a set of built-in methods that you can use on strings.\n",
    "\n",
    "Note: All string methods return new values. They do not change the original string."
   ]
  },
  {
   "cell_type": "raw",
   "id": "687cee59",
   "metadata": {},
   "source": [
    "Method\tDescription\n",
    "capitalize()\tConverts the first character to upper case\n",
    "casefold()\tConverts string into lower case\n",
    "center()\tReturns a centered string\n",
    "count()\tReturns the number of times a specified value occurs in a string\n",
    "encode()\tReturns an encoded version of the string\n",
    "endswith()\tReturns true if the string ends with the specified value\n",
    "expandtabs()\tSets the tab size of the string\n",
    "find()\tSearches the string for a specified value and returns the position of where it was found\n",
    "format()\tFormats specified values in a string\n",
    "format_map()\tFormats specified values in a string\n",
    "index()\tSearches the string for a specified value and returns the position of where it was found\n",
    "isalnum()\tReturns True if all characters in the string are alphanumeric\n",
    "isalpha()\tReturns True if all characters in the string are in the alphabet\n",
    "isascii()\tReturns True if all characters in the string are ascii characters\n",
    "isdecimal()\tReturns True if all characters in the string are decimals\n",
    "isdigit()\tReturns True if all characters in the string are digits\n",
    "isidentifier()\tReturns True if the string is an identifier\n",
    "islower()\tReturns True if all characters in the string are lower case\n",
    "isnumeric()\tReturns True if all characters in the string are numeric\n",
    "isprintable()\tReturns True if all characters in the string are printable\n",
    "isspace()\tReturns True if all characters in the string are whitespaces\n",
    "istitle()\tReturns True if the string follows the rules of a title\n",
    "isupper()\tReturns True if all characters in the string are upper case\n",
    "join()\tJoins the elements of an iterable to the end of the string\n",
    "ljust()\tReturns a left justified version of the string\n",
    "lower()\tConverts a string into lower case\n",
    "lstrip()\tReturns a left trim version of the string\n",
    "maketrans()\tReturns a translation table to be used in translations\n",
    "partition()\tReturns a tuple where the string is parted into three parts\n",
    "replace()\tReturns a string where a specified value is replaced with a specified value\n",
    "rfind()\tSearches the string for a specified value and returns the last position of where it was found\n",
    "rindex()\tSearches the string for a specified value and returns the last position of where it was found\n",
    "rjust()\tReturns a right justified version of the string\n",
    "rpartition()\tReturns a tuple where the string is parted into three parts\n",
    "rsplit()\tSplits the string at the specified separator, and returns a list\n",
    "rstrip()\tReturns a right trim version of the string\n",
    "split()\tSplits the string at the specified separator, and returns a list\n",
    "splitlines()\tSplits the string at line breaks and returns a list\n",
    "startswith()\tReturns true if the string starts with the specified value\n",
    "strip()\tReturns a trimmed version of the string\n",
    "swapcase()\tSwaps cases, lower case becomes upper case and vice versa\n",
    "title()\tConverts the first character of each word to upper case\n",
    "translate()\tReturns a translated string\n",
    "upper()\tConverts a string into upper case\n",
    "zfill()\tFills the string with a specified number of 0 values at the beginning"
   ]
  },
  {
   "cell_type": "code",
   "execution_count": 25,
   "id": "61762c4b",
   "metadata": {},
   "outputs": [
    {
     "name": "stdout",
     "output_type": "stream",
     "text": [
      "oohelloooo\n"
     ]
    }
   ],
   "source": [
    "x='hello'\n",
    "print(x.center(10,'o'))"
   ]
  },
  {
   "cell_type": "markdown",
   "id": "b6bfb3b4",
   "metadata": {},
   "source": [
    "### Input Output"
   ]
  },
  {
   "cell_type": "code",
   "execution_count": 29,
   "id": "25efb8aa",
   "metadata": {},
   "outputs": [
    {
     "name": "stdout",
     "output_type": "stream",
     "text": [
      "enter a number: 10 20 30\n"
     ]
    }
   ],
   "source": [
    "a,b,c = map(int,input(\"enter a number: \").split())"
   ]
  },
  {
   "cell_type": "code",
   "execution_count": 30,
   "id": "548cae25",
   "metadata": {},
   "outputs": [
    {
     "name": "stdout",
     "output_type": "stream",
     "text": [
      "Enter full nameRani Kumari\n",
      "First name:  Rani\n",
      "second name:  Kumari\n"
     ]
    }
   ],
   "source": [
    "x, y = input('Enter full name').split()\n",
    "print(\"First name: \", x)\n",
    "print('second name: ', y)"
   ]
  },
  {
   "cell_type": "code",
   "execution_count": 31,
   "id": "ba6c934d",
   "metadata": {},
   "outputs": [
    {
     "name": "stdout",
     "output_type": "stream",
     "text": [
      "HelloHelloHelloHelloHelloHelloHelloHelloHelloHello\n",
      "++++++++++\n"
     ]
    }
   ],
   "source": [
    "print('Hello'*10)\n",
    "print('+'*10)"
   ]
  },
  {
   "cell_type": "code",
   "execution_count": 34,
   "id": "04abf751",
   "metadata": {},
   "outputs": [
    {
     "name": "stdout",
     "output_type": "stream",
     "text": [
      "enter a name: rani\n",
      "Hello rani ! how are you?\n"
     ]
    }
   ],
   "source": [
    "name = input('enter a name: ')\n",
    "print(f'Hello {name} ! how are you?')"
   ]
  },
  {
   "cell_type": "code",
   "execution_count": 35,
   "id": "b95e5394",
   "metadata": {},
   "outputs": [
    {
     "name": "stdout",
     "output_type": "stream",
     "text": [
      "Enter a number: 5\n",
      "The sum is 105\n"
     ]
    }
   ],
   "source": [
    "num =int(input('Enter a number: '))\n",
    "sum = num + 100\n",
    "print(\"The sum is %d\" %sum)"
   ]
  },
  {
   "cell_type": "raw",
   "id": "067befac",
   "metadata": {},
   "source": [
    "Integer = %d\n",
    "Float = %f\n",
    "string = %s\n",
    "hexadecimal = %x\n",
    "octa = %o"
   ]
  },
  {
   "cell_type": "code",
   "execution_count": 36,
   "id": "76ecafe1",
   "metadata": {},
   "outputs": [
    {
     "name": "stdout",
     "output_type": "stream",
     "text": [
      "The value of num is 10.69\n"
     ]
    }
   ],
   "source": [
    "num= 10.68675\n",
    "print(\"The value of num is %2.2f\" %num)"
   ]
  },
  {
   "cell_type": "code",
   "execution_count": 37,
   "id": "7308028c",
   "metadata": {},
   "outputs": [
    {
     "name": "stdout",
     "output_type": "stream",
     "text": [
      "The result value is 13.3584375\n"
     ]
    }
   ],
   "source": [
    "print('The result value is', num*1.25)"
   ]
  },
  {
   "cell_type": "markdown",
   "id": "fa29956f",
   "metadata": {},
   "source": [
    "# String printing format -"
   ]
  },
  {
   "cell_type": "markdown",
   "id": "0f34f3c7",
   "metadata": {},
   "source": [
    "C-style format string format\n",
    "\n",
    "\n",
    "Python uses C-style string formatting to create new, formatted strings. The \"%\" operator is used to format a set of variables enclosed in a \"tuple\""
   ]
  },
  {
   "cell_type": "raw",
   "id": "de4430ba",
   "metadata": {},
   "source": [
    ".ipnyb  ===> ipynb means Interactive PYthon NoteBook - which is now known as Jupyter notebook."
   ]
  },
  {
   "cell_type": "code",
   "execution_count": 45,
   "id": "2d36f005",
   "metadata": {},
   "outputs": [
    {
     "name": "stdout",
     "output_type": "stream",
     "text": [
      "Celsius: [0, 22.5, 40, 100]\n",
      "Fahrenheit: [32.0, 72.5, 104.0, 212.0]\n",
      "Celsius (converted back): [0.0, 22.5, 40.0, 100.0]\n"
     ]
    }
   ],
   "source": [
    "def fahrenheit(T):\n",
    "    return (float(9) / 5) * T + 32\n",
    "\n",
    "def celsius(T):\n",
    "    return float(5) / 9 * (T - 32)\n",
    "\n",
    "temp = [0, 22.5, 40, 100]\n",
    "\n",
    "# Convert temperatures from Celsius to Fahrenheit\n",
    "fahrenheit_temperatures = [fahrenheit(T) for T in temp]\n",
    "\n",
    "# Convert temperatures from Fahrenheit to Celsius\n",
    "celsius_temperatures = [celsius(T) for T in fahrenheit_temperatures]\n",
    "\n",
    "print(\"Celsius:\", temp)\n",
    "print(\"Fahrenheit:\", fahrenheit_temperatures)\n",
    "print(\"Celsius (converted back):\", celsius_temperatures)"
   ]
  },
  {
   "cell_type": "code",
   "execution_count": 46,
   "id": "dc4ddd5c",
   "metadata": {},
   "outputs": [
    {
     "name": "stdout",
     "output_type": "stream",
     "text": [
      "30\n"
     ]
    }
   ],
   "source": [
    "#dct = {'Salary':[10,20,30], 'emp_num':[1,22,333]}\n",
    "\n",
    "#use 'for' loop and if condition to print only 30\n",
    "\n",
    "#dictionary using for loop\n",
    "\n",
    "dct = {'Salary': [10, 20, 30], 'emp_num': [1, 22, 333]}\n",
    "\n",
    "for i,j in dct.items():\n",
    "    if i == 'Salary':\n",
    "        print(j[2])"
   ]
  },
  {
   "cell_type": "code",
   "execution_count": 47,
   "id": "3f84ee24",
   "metadata": {
    "scrolled": true
   },
   "outputs": [
    {
     "data": {
      "text/plain": [
       "[32.0, 72.5, 104.0, 212.0]"
      ]
     },
     "execution_count": 47,
     "metadata": {},
     "output_type": "execute_result"
    }
   ],
   "source": [
    "F_temps = list(map(fahrenheit, temp))\n",
    "\n",
    "F_temps"
   ]
  },
  {
   "cell_type": "code",
   "execution_count": 48,
   "id": "1734f24b",
   "metadata": {},
   "outputs": [
    {
     "data": {
      "text/plain": [
       "[0.0, 22.5, 40.0, 100.0]"
      ]
     },
     "execution_count": 48,
     "metadata": {},
     "output_type": "execute_result"
    }
   ],
   "source": [
    "#convert back\n",
    "list(map(celsius, F_temps))      "
   ]
  },
  {
   "cell_type": "raw",
   "id": "bd41a7e4",
   "metadata": {},
   "source": [
    "%d ==> digit\n",
    "%s ==> string\n",
    "%f ==> float\n"
   ]
  },
  {
   "cell_type": "code",
   "execution_count": 50,
   "id": "0abba53a",
   "metadata": {},
   "outputs": [
    {
     "name": "stdout",
     "output_type": "stream",
     "text": [
      "'Hello, John!\n"
     ]
    }
   ],
   "source": [
    "# This prints out \"Hello, John!\"\n",
    "name = \"John\"\n",
    "print(\"'Hello, %s!\" % name)"
   ]
  },
  {
   "cell_type": "code",
   "execution_count": 51,
   "id": "1bc038cb",
   "metadata": {},
   "outputs": [
    {
     "name": "stdout",
     "output_type": "stream",
     "text": [
      "Hello  John !\n"
     ]
    }
   ],
   "source": [
    "print(\"Hello \" , name, \"!\")"
   ]
  },
  {
   "cell_type": "code",
   "execution_count": 52,
   "id": "ba51922c",
   "metadata": {},
   "outputs": [
    {
     "name": "stdout",
     "output_type": "stream",
     "text": [
      "John is 23 years old taking salary 6889.564000 \n",
      "Salary = 6889.56 \n"
     ]
    }
   ],
   "source": [
    "# This prints out \"John is 23 years old.\"\n",
    "name = \"John\"\n",
    "age = 23\n",
    "salary=6889.564\n",
    "print(\"%s is %d years old taking salary %f \" % (name, age, salary))\n",
    "print(\"Salary = %0.2f \" %(salary))"
   ]
  },
  {
   "cell_type": "code",
   "execution_count": 53,
   "id": "91f6b3e4",
   "metadata": {},
   "outputs": [
    {
     "name": "stdout",
     "output_type": "stream",
     "text": [
      "I like to eat apples, mango and grapes\n"
     ]
    }
   ],
   "source": [
    "fruit1 =\"apples\"\n",
    "fruit2 =\"mango\"\n",
    "fruit3 =\"grapes\"\n",
    "print(\"I like to eat %s, %s and %s\" %(fruit1, fruit2, fruit3))"
   ]
  },
  {
   "cell_type": "code",
   "execution_count": 54,
   "id": "d99a0ffd",
   "metadata": {},
   "outputs": [
    {
     "name": "stdout",
     "output_type": "stream",
     "text": [
      "Delhi is the capital of India has 5000004 population havving average salary of 400000\n"
     ]
    }
   ],
   "source": [
    "country = \"India\"\n",
    "city = \"Delhi\"\n",
    "population = 5000004\n",
    "salary = 400000\n",
    "print(\"%s is the capital of %s has %d population havving average salary of %d\" %(city, country, population, salary))"
   ]
  },
  {
   "cell_type": "code",
   "execution_count": 55,
   "id": "767eaccc",
   "metadata": {},
   "outputs": [
    {
     "name": "stdout",
     "output_type": "stream",
     "text": [
      "Delhi is the capital of India has 5000004 population havving average salary of 354555.46\n"
     ]
    }
   ],
   "source": [
    "country = \"India\"\n",
    "city = \"Delhi\"\n",
    "population = 5000004\n",
    "salary = 354555.4567\n",
    "print(\"%s is the capital of %s has %d population havving average salary of %0.2f\" %(city, country, population, salary))"
   ]
  },
  {
   "cell_type": "markdown",
   "id": "96e77b86",
   "metadata": {},
   "source": [
    "#### String format functions"
   ]
  },
  {
   "cell_type": "code",
   "execution_count": 56,
   "id": "da8eb4ef",
   "metadata": {},
   "outputs": [
    {
     "name": "stdout",
     "output_type": "stream",
     "text": [
      "People generally take Coke with Pizza\n"
     ]
    }
   ],
   "source": [
    "print(\"People generally take {} with {}\".format('Coke', 'Pizza'))"
   ]
  },
  {
   "cell_type": "code",
   "execution_count": 57,
   "id": "909d7d70",
   "metadata": {},
   "outputs": [
    {
     "name": "stdout",
     "output_type": "stream",
     "text": [
      "People generally take Coke with Pizza\n"
     ]
    }
   ],
   "source": [
    "print(\"People generally take {0} with {1}\".format('Coke', 'Pizza'))"
   ]
  },
  {
   "cell_type": "code",
   "execution_count": 58,
   "id": "f5668687",
   "metadata": {},
   "outputs": [
    {
     "name": "stdout",
     "output_type": "stream",
     "text": [
      "People generally take Pizza with Coke\n"
     ]
    }
   ],
   "source": [
    "print(\"People generally take {1} with {0}\".format('Coke', 'Pizza'))"
   ]
  },
  {
   "cell_type": "code",
   "execution_count": 59,
   "id": "06fd953c",
   "metadata": {},
   "outputs": [
    {
     "name": "stdout",
     "output_type": "stream",
     "text": [
      "his name is john he is 24 years old\n"
     ]
    }
   ],
   "source": [
    "name = 'john'\n",
    "age = 24\n",
    "print(\"his name is {} he is {} years old\".format(name, age))"
   ]
  },
  {
   "cell_type": "markdown",
   "id": "621fb620",
   "metadata": {},
   "source": [
    "# FUNCTIONS"
   ]
  },
  {
   "cell_type": "raw",
   "id": "ed30807d",
   "metadata": {},
   "source": [
    "Function is a group of related statements that performs a special task.\n",
    "\n",
    "Functions help break our program into smaller and modular chunks. As our program grows larger and larger, functions make it more organized and manageable."
   ]
  },
  {
   "cell_type": "code",
   "execution_count": null,
   "id": "374d67be",
   "metadata": {},
   "outputs": [],
   "source": [
    "help(), print(), int(), float(), str(), type(), range() , min() , max(), len(), input(), list()"
   ]
  },
  {
   "cell_type": "code",
   "execution_count": null,
   "id": "ab890c49",
   "metadata": {},
   "outputs": [],
   "source": [
    "help()"
   ]
  },
  {
   "cell_type": "code",
   "execution_count": 63,
   "id": "b5f4ebd2",
   "metadata": {},
   "outputs": [
    {
     "name": "stdout",
     "output_type": "stream",
     "text": [
      "Help on built-in function min in module builtins:\n",
      "\n",
      "min(...)\n",
      "    min(iterable, *[, default=obj, key=func]) -> value\n",
      "    min(arg1, arg2, *args, *[, key=func]) -> value\n",
      "    \n",
      "    With a single iterable argument, return its smallest item. The\n",
      "    default keyword-only argument specifies an object to return if\n",
      "    the provided iterable is empty.\n",
      "    With two or more arguments, return the smallest argument.\n",
      "\n"
     ]
    }
   ],
   "source": [
    "help(min)"
   ]
  },
  {
   "cell_type": "code",
   "execution_count": 62,
   "id": "5683a7e1",
   "metadata": {},
   "outputs": [
    {
     "name": "stdout",
     "output_type": "stream",
     "text": [
      "Help on built-in function len in module builtins:\n",
      "\n",
      "len(obj, /)\n",
      "    Return the number of items in a container.\n",
      "\n"
     ]
    }
   ],
   "source": [
    "help(len)"
   ]
  },
  {
   "cell_type": "code",
   "execution_count": 61,
   "id": "a55bd460",
   "metadata": {},
   "outputs": [
    {
     "name": "stdout",
     "output_type": "stream",
     "text": [
      "Help on built-in function max in module builtins:\n",
      "\n",
      "max(...)\n",
      "    max(iterable, *[, default=obj, key=func]) -> value\n",
      "    max(arg1, arg2, *args, *[, key=func]) -> value\n",
      "    \n",
      "    With a single iterable argument, return its biggest item. The\n",
      "    default keyword-only argument specifies an object to return if\n",
      "    the provided iterable is empty.\n",
      "    With two or more arguments, return the largest argument.\n",
      "\n"
     ]
    }
   ],
   "source": [
    "help(max)"
   ]
  },
  {
   "cell_type": "raw",
   "id": "214da400",
   "metadata": {},
   "source": [
    "#### Functions are three types.\n",
    "\n",
    "1. Pre defined functions(built-in function):- print(), len(), range(), help(), range(), etc.\n",
    "    \n",
    "2. User defined functions:- programmer (or) we can define the function: we have to follow certain rules to define a function\n",
    "\n",
    "Example: two step need to be follow:\n",
    "\n",
    "Step1: define a function / function definition\n",
    "\n",
    "def function-name():\n",
    "  statement1\n",
    "  statement2\n",
    "  statement3\n",
    "   \n",
    "Step2: calling a function\n",
    "\n",
    "function-name()\n",
    "    \n",
    "3. Anonymous/Lambda functions:- \n",
    "    "
   ]
  },
  {
   "cell_type": "markdown",
   "id": "499756b7",
   "metadata": {},
   "source": [
    "###### Parametric Function"
   ]
  },
  {
   "cell_type": "code",
   "execution_count": 64,
   "id": "6464ee4f",
   "metadata": {},
   "outputs": [
    {
     "name": "stdout",
     "output_type": "stream",
     "text": [
      "c = 96\n"
     ]
    }
   ],
   "source": [
    "def addition_func(a,b): # a, b are know as parameters or arguments.\n",
    "    c = a + b\n",
    "    print(\"c =\", c)\n",
    "addition_func(90, 6)   "
   ]
  },
  {
   "cell_type": "markdown",
   "id": "bad04982",
   "metadata": {},
   "source": [
    "# Variables\n",
    "\n",
    "Variables are containers for storing data values."
   ]
  },
  {
   "cell_type": "markdown",
   "id": "ddacf19c",
   "metadata": {},
   "source": [
    "# Creating Variables\n",
    "\n",
    "Python has no command for declaring a variable.\n",
    "\n",
    "A variable is created the moment we first assign a value to it.\n",
    "\n",
    "Note: Variables do not need to be declared with any particular type, and can even change type after they have been set.Local variables in python are those variables that are declared inside the function. Alternatively, they are said to defined within a local scope. A user can only access a local variable inside the function but never outside it."
   ]
  },
  {
   "cell_type": "markdown",
   "id": "a56e5913",
   "metadata": {},
   "source": [
    "There are two types of variables:\n",
    "    \n",
    "    1. Local variable\n",
    "    \n",
    "    2. Global variable\n",
    "    \n",
    " 1. Local variable: Local variables in python are those variables that are declared inside the function. A user can only access a local variable inside the function but never outside it. Life span of local variable is within the function.\n",
    " \n",
    " 2. Global Variable: Variables that are created outside of a function are known as global variables. Global variables can be used by everyone, both inside of functions and outside. Life span of global variable is within the jupyter notebook.\n",
    " \n",
    " \n",
    "Note: Normally, when you create a variable inside a function, that variable is local, and can only be used inside that function.\n",
    "\n",
    "To create a global variable inside a function, you can use the global keyword."
   ]
  },
  {
   "cell_type": "code",
   "execution_count": 65,
   "id": "2033e472",
   "metadata": {},
   "outputs": [
    {
     "data": {
      "text/plain": [
       "10"
      ]
     },
     "execution_count": 65,
     "metadata": {},
     "output_type": "execute_result"
    }
   ],
   "source": [
    "#global variable\n",
    "x = 10\n",
    "x"
   ]
  },
  {
   "cell_type": "code",
   "execution_count": 66,
   "id": "990a5960",
   "metadata": {},
   "outputs": [
    {
     "name": "stdout",
     "output_type": "stream",
     "text": [
      "10\n",
      "200\n"
     ]
    }
   ],
   "source": [
    "def func():\n",
    "    print(x)   #Here we called the x which is defined outside of the function.\n",
    "    p= 200   #Local variable\n",
    "    print(p)\n",
    "func()      "
   ]
  },
  {
   "cell_type": "code",
   "execution_count": 67,
   "id": "c7e9ef5b",
   "metadata": {},
   "outputs": [
    {
     "ename": "NameError",
     "evalue": "name 'p' is not defined",
     "output_type": "error",
     "traceback": [
      "\u001b[1;31m---------------------------------------------------------------------------\u001b[0m",
      "\u001b[1;31mNameError\u001b[0m                                 Traceback (most recent call last)",
      "Cell \u001b[1;32mIn[67], line 1\u001b[0m\n\u001b[1;32m----> 1\u001b[0m \u001b[43mp\u001b[49m \u001b[38;5;66;03m#we cannnot access p outside the function as p is defined inside of the function.\u001b[39;00m\n",
      "\u001b[1;31mNameError\u001b[0m: name 'p' is not defined"
     ]
    }
   ],
   "source": [
    "p #we cannnot access p outside the function as p is defined inside of the function."
   ]
  },
  {
   "cell_type": "code",
   "execution_count": 68,
   "id": "6aa2fa48",
   "metadata": {},
   "outputs": [
    {
     "name": "stdout",
     "output_type": "stream",
     "text": [
      "Python is fantastic\n"
     ]
    }
   ],
   "source": [
    "#If you use the global keyword, the variable belongs to the global scope:\n",
    "\n",
    "def myfunc():\n",
    "  global x\n",
    "  x = \"fantastic\"\n",
    "\n",
    "myfunc()\n",
    "\n",
    "print(\"Python is \" + x)"
   ]
  },
  {
   "cell_type": "code",
   "execution_count": 69,
   "id": "03e52fa8",
   "metadata": {},
   "outputs": [
    {
     "name": "stdout",
     "output_type": "stream",
     "text": [
      "Python is fantastic\n"
     ]
    }
   ],
   "source": [
    "#use the global keyword if you want to change a global variable inside a function.\n",
    "\n",
    "x = \"awesome\"\n",
    "\n",
    "def myfunc():\n",
    "  global x\n",
    "  x = \"fantastic\"\n",
    "\n",
    "myfunc()\n",
    "\n",
    "print(\"Python is \" + x)"
   ]
  },
  {
   "cell_type": "markdown",
   "id": "69e595ff",
   "metadata": {},
   "source": [
    "# Return Keyword\n",
    "\n",
    "\n",
    "The Python return statement is a special statement that we can use inside a function or method to send the function's result back to the caller. \n",
    "\n",
    "A return statement consists of the return keyword followed by an optional return value.\n",
    "\n",
    "The return value of a Python function can be any Python object."
   ]
  },
  {
   "cell_type": "code",
   "execution_count": 70,
   "id": "ea9f88cb",
   "metadata": {},
   "outputs": [
    {
     "data": {
      "text/plain": [
       "42"
      ]
     },
     "execution_count": 70,
     "metadata": {},
     "output_type": "execute_result"
    }
   ],
   "source": [
    "def return_42():\n",
    "    return 42\n",
    "return_42()"
   ]
  },
  {
   "cell_type": "code",
   "execution_count": 71,
   "id": "673e6b20",
   "metadata": {},
   "outputs": [
    {
     "data": {
      "text/plain": [
       "[2, 4, 6]"
      ]
     },
     "execution_count": 71,
     "metadata": {},
     "output_type": "execute_result"
    }
   ],
   "source": [
    "def get_even(numbers):\n",
    "    even_nums = [num for num in numbers if not num % 2]\n",
    "    return even_nums\n",
    "    \n",
    "get_even([1, 2, 3, 4, 5, 6])    "
   ]
  },
  {
   "cell_type": "code",
   "execution_count": 72,
   "id": "003c2806",
   "metadata": {},
   "outputs": [],
   "source": [
    "def addfunc():\n",
    "    a=10\n",
    "    b=5\n",
    "    c=a+b\n",
    "    return c # Here return is a keyword which will be returning the calculated value 15 outside the world of function and \n",
    "#holding the that value in another variable."
   ]
  },
  {
   "cell_type": "code",
   "execution_count": 73,
   "id": "1ae132d9",
   "metadata": {},
   "outputs": [
    {
     "data": {
      "text/plain": [
       "15"
      ]
     },
     "execution_count": 73,
     "metadata": {},
     "output_type": "execute_result"
    }
   ],
   "source": [
    "ret_val=addfunc()\n",
    "ret_val # The benefit of returning vale outside of functionis, we could perform other activity with that return value. "
   ]
  },
  {
   "cell_type": "code",
   "execution_count": 74,
   "id": "e6d19a5d",
   "metadata": {},
   "outputs": [
    {
     "data": {
      "text/plain": [
       "225"
      ]
     },
     "execution_count": 74,
     "metadata": {},
     "output_type": "execute_result"
    }
   ],
   "source": [
    "m = ret_val**2\n",
    "m # with print() is not possible. print() only print thr final result."
   ]
  },
  {
   "cell_type": "code",
   "execution_count": 75,
   "id": "00052093",
   "metadata": {},
   "outputs": [],
   "source": [
    "def addfunc():\n",
    "    a=10\n",
    "    b=5\n",
    "    c=a+b\n",
    "    return # here return is not returning any value or we can say that it is returning null value.\n",
    "    print(\"c=\", c) # return keyword is not reaching to print line befire that retrning.\n",
    "addfunc()"
   ]
  },
  {
   "cell_type": "markdown",
   "id": "9c1a1968",
   "metadata": {},
   "source": [
    "Note: retuen statement returns the value from the functions.\n",
    "\n",
    "==> Local variables are begin imported by into a global variable with the help of return."
   ]
  },
  {
   "cell_type": "markdown",
   "id": "18759d09",
   "metadata": {},
   "source": [
    "# How to call one function to another function?"
   ]
  },
  {
   "cell_type": "code",
   "execution_count": 76,
   "id": "1f44c70a",
   "metadata": {},
   "outputs": [],
   "source": [
    "def inner_function():\n",
    "    p=5\n",
    "    print(p**2)\n",
    "    print('inner function called')"
   ]
  },
  {
   "cell_type": "code",
   "execution_count": 77,
   "id": "53a54862",
   "metadata": {},
   "outputs": [],
   "source": [
    "def outer_function():\n",
    "    inner_function()\n",
    "    print('outer function')    "
   ]
  },
  {
   "cell_type": "code",
   "execution_count": 78,
   "id": "44557dea",
   "metadata": {},
   "outputs": [
    {
     "name": "stdout",
     "output_type": "stream",
     "text": [
      "25\n",
      "inner function called\n",
      "outer function\n"
     ]
    }
   ],
   "source": [
    "outer_function()"
   ]
  },
  {
   "cell_type": "code",
   "execution_count": 79,
   "id": "b3bbdd10",
   "metadata": {},
   "outputs": [],
   "source": [
    "def testf():\n",
    "    m= int(input(\"enter any number: \"))\n",
    "    print(\"addition=\", m+2)  \n",
    "    return m      #inner function"
   ]
  },
  {
   "cell_type": "code",
   "execution_count": 80,
   "id": "b9c98e32",
   "metadata": {},
   "outputs": [],
   "source": [
    "def outer_func():\n",
    "    k = testf()\n",
    "    print(k**2)  # outer function "
   ]
  },
  {
   "cell_type": "code",
   "execution_count": 81,
   "id": "15db8268",
   "metadata": {},
   "outputs": [
    {
     "name": "stdout",
     "output_type": "stream",
     "text": [
      "enter any number: 1\n",
      "addition= 3\n",
      "1\n"
     ]
    }
   ],
   "source": [
    "outer_func() # Two function can call each other"
   ]
  },
  {
   "cell_type": "markdown",
   "id": "21de1804",
   "metadata": {},
   "source": [
    "# 3. Anonymous/Lambda functions:-"
   ]
  },
  {
   "cell_type": "markdown",
   "id": "0e0b16b1",
   "metadata": {},
   "source": [
    "A lambda function is a small function containing a single expression.\n",
    "Lambda function can also act as anonymous functions where they don't require any name.\n",
    "There are very helpful when we have to perform small tasks with less code.\n",
    "\n",
    "the expression composed of:\n",
    "    The keyword: lambda\n",
    "    A bound variable:x\n",
    "    A body : x*2    \n",
    "\n",
    "Syntax:\n",
    "    \n",
    "    reference_variable = lambda variable: expression\n",
    "    \n",
    "    ex:\n",
    "        \n",
    "        test1 : lambda x: x+1"
   ]
  },
  {
   "cell_type": "code",
   "execution_count": 82,
   "id": "d5601658",
   "metadata": {},
   "outputs": [
    {
     "data": {
      "text/plain": [
       "5"
      ]
     },
     "execution_count": 82,
     "metadata": {},
     "output_type": "execute_result"
    }
   ],
   "source": [
    "test1 = lambda x: x +1\n",
    "\n",
    "test1(4)"
   ]
  },
  {
   "cell_type": "code",
   "execution_count": 83,
   "id": "4e45c15e",
   "metadata": {},
   "outputs": [
    {
     "data": {
      "text/plain": [
       "72"
      ]
     },
     "execution_count": 83,
     "metadata": {},
     "output_type": "execute_result"
    }
   ],
   "source": [
    "mult = lambda k, t : k*t\n",
    "\n",
    "mult(8, 9)"
   ]
  },
  {
   "cell_type": "code",
   "execution_count": 84,
   "id": "390304cf",
   "metadata": {},
   "outputs": [
    {
     "data": {
      "text/plain": [
       "60"
      ]
     },
     "execution_count": 84,
     "metadata": {},
     "output_type": "execute_result"
    }
   ],
   "source": [
    "addset = lambda x,y,z : x+y+z\n",
    "\n",
    "addset(10,20,30)"
   ]
  },
  {
   "cell_type": "code",
   "execution_count": 85,
   "id": "77b9b65f",
   "metadata": {},
   "outputs": [
    {
     "data": {
      "text/plain": [
       "2.0"
      ]
     },
     "execution_count": 85,
     "metadata": {},
     "output_type": "execute_result"
    }
   ],
   "source": [
    "squareroot = lambda x : x**(1/2)\n",
    "\n",
    "squareroot(4)"
   ]
  },
  {
   "cell_type": "code",
   "execution_count": 86,
   "id": "ba7bd0c9",
   "metadata": {},
   "outputs": [
    {
     "data": {
      "text/plain": [
       "153.86"
      ]
     },
     "execution_count": 86,
     "metadata": {},
     "output_type": "execute_result"
    }
   ],
   "source": [
    "area = lambda pi, radius : pi*(radius**2)\n",
    "area(3.14, 7)"
   ]
  },
  {
   "cell_type": "code",
   "execution_count": 87,
   "id": "872017d1",
   "metadata": {},
   "outputs": [
    {
     "data": {
      "text/plain": [
       "907.46"
      ]
     },
     "execution_count": 87,
     "metadata": {},
     "output_type": "execute_result"
    }
   ],
   "source": [
    "area = lambda radius : 3.14*(radius**2)\n",
    "area(17)"
   ]
  },
  {
   "cell_type": "code",
   "execution_count": 89,
   "id": "c7c6b17a",
   "metadata": {},
   "outputs": [
    {
     "name": "stdout",
     "output_type": "stream",
     "text": [
      "Enter x = 2\n",
      "Enter y = 4\n",
      "Enter z = 6\n",
      "36\n"
     ]
    }
   ],
   "source": [
    "def testf():\n",
    "    x=int(input('Enter x = '))\n",
    "    y=int(input('Enter y = '))\n",
    "    z=int(input('Enter z = '))\n",
    "    s=lambda x,y,z:(x+y)*z\n",
    "    print(s(x,y,z))\n",
    "testf()"
   ]
  },
  {
   "cell_type": "markdown",
   "id": "86712860",
   "metadata": {},
   "source": [
    "# Map\n",
    "\n",
    "map() is useful when we need to apply a transformation function to each item in an iterable and transform them into a new iterable. map() is one of the tools that support a functional programming style in Python.\n",
    "\n",
    "whenever we have ample of data or list of element and want to put the same operation on each element. so will can use map.\n",
    "\n",
    "list(map(expersion, list)"
   ]
  },
  {
   "cell_type": "code",
   "execution_count": 90,
   "id": "fa84e16f",
   "metadata": {},
   "outputs": [
    {
     "data": {
      "text/plain": [
       "[12, 22, 32]"
      ]
     },
     "execution_count": 90,
     "metadata": {},
     "output_type": "execute_result"
    }
   ],
   "source": [
    "list1 = [10, 20, 30]\n",
    "\n",
    "testlambda = list(map(lambda a:a+2, list1))\n",
    "testlambda"
   ]
  },
  {
   "cell_type": "code",
   "execution_count": 91,
   "id": "3da6c53c",
   "metadata": {},
   "outputs": [
    {
     "name": "stdout",
     "output_type": "stream",
     "text": [
      "[8, 9, 10, 7, 13]\n"
     ]
    }
   ],
   "source": [
    "test_list = [4, 5, 6, 3, 9]\n",
    "K = 4\n",
    "res = [x + K for x in test_list]\n",
    "print(res)\n",
    "    "
   ]
  },
  {
   "cell_type": "code",
   "execution_count": 92,
   "id": "f9fca851",
   "metadata": {},
   "outputs": [
    {
     "data": {
      "text/plain": [
       "[98.4704, 339.6224, 482.80640000000005, 63.585, 145.1936]"
      ]
     },
     "execution_count": 92,
     "metadata": {},
     "output_type": "execute_result"
    }
   ],
   "source": [
    "list4=[5.6, 10.4, 12.4, 4.5, 6.8]\n",
    "\n",
    "data= list(map(lambda r : 3.14*(r**2), list4))\n",
    "\n",
    "data"
   ]
  },
  {
   "cell_type": "code",
   "execution_count": 93,
   "id": "413362b5",
   "metadata": {},
   "outputs": [
    {
     "data": {
      "text/plain": [
       "[98.47, 339.62, 482.81, 63.59, 145.19]"
      ]
     },
     "execution_count": 93,
     "metadata": {},
     "output_type": "execute_result"
    }
   ],
   "source": [
    "result = [round(i, 2) for i in data]\n",
    "result"
   ]
  },
  {
   "cell_type": "markdown",
   "id": "48f089e4",
   "metadata": {},
   "source": [
    "# Filter in lambda\n",
    "\n",
    "The filter() function selects elements from an iterable (list, tuple etc.) based on the output of a function."
   ]
  },
  {
   "cell_type": "code",
   "execution_count": 94,
   "id": "7f70fb2e",
   "metadata": {},
   "outputs": [
    {
     "data": {
      "text/plain": [
       "[6, 7, 8, 9]"
      ]
     },
     "execution_count": 94,
     "metadata": {},
     "output_type": "execute_result"
    }
   ],
   "source": [
    "list5 = [1, 2, 3, 4, 5, 6, 7, 8, 9]\n",
    "\n",
    "d=list(filter(lambda x: x>5 , list5))\n",
    "d"
   ]
  },
  {
   "cell_type": "code",
   "execution_count": 95,
   "id": "ddfc3a7a",
   "metadata": {},
   "outputs": [
    {
     "data": {
      "text/plain": [
       "[1, 3, 5, 7, 9]"
      ]
     },
     "execution_count": 95,
     "metadata": {},
     "output_type": "execute_result"
    }
   ],
   "source": [
    "list(filter(lambda x: x%2!=0, list5))"
   ]
  },
  {
   "cell_type": "markdown",
   "id": "074224d0",
   "metadata": {},
   "source": [
    "# OOPS : Object Oriented programmings"
   ]
  },
  {
   "cell_type": "raw",
   "id": "935f7920",
   "metadata": {},
   "source": [
    "In Python, object-oriented Programming (OOPs) is a programming paradigm that uses objects and classes in programming. It aims to implement real-world entities like inheritance, polymorphisms, encapsulation, etc. in the programming. The main concept of OOPs is to bind the data and the functions that work on that together as a single unit so that no other part of the code can access this data."
   ]
  },
  {
   "cell_type": "raw",
   "id": "6ebf4f26",
   "metadata": {},
   "source": [
    "Main Concepts of Object-Oriented Programming (OOPs:\n",
    "\n",
    "Class\n",
    "Objects\n",
    "Polymorphism\n",
    "Encapsulation\n",
    "Inheritance\n",
    "Data Abstraction\n",
    "                                           \n",
    "Link oops : https://www.geeksforgeeks.org/python-oops-concepts/                                              "
   ]
  },
  {
   "cell_type": "markdown",
   "id": "d48c1e87",
   "metadata": {},
   "source": [
    "# Class in Python\n",
    "\n",
    "\n",
    "The basic idea behind an object-oriented programming (OOP) is to combine both data and associated procedures (known as methods) into a single unit which operate on the data. such a unit is called as object.\n",
    "\n",
    "Python is a object oriented programming language, everything in python is an object.\n",
    "\n",
    "\n",
    "A class is a collection of objects. A class contains the blueprints or the prototype from which the objects are being created. It is a logical entity that contains some attributes and methods. "
   ]
  },
  {
   "cell_type": "markdown",
   "id": "d9878aba",
   "metadata": {},
   "source": [
    "# Example\n",
    "class calculator: # \n",
    "    {\n",
    "    add()    #function, method, member of class\n",
    "    ..........................\n",
    "    ..a and b are variable here..#data memeber in terms of class its called.\n",
    "    sub()   # member function\n",
    "    ........\n",
    "    ........  \n",
    "    div()\n",
    "    ........\n",
    "    ........ \n",
    "    }\n",
    "    \n",
    "==> in 1980 oops concepts has introduced in c++.\n",
    "==> class provides modularity\n",
    "==> class provides security or Encapsulation."
   ]
  },
  {
   "cell_type": "markdown",
   "id": "a3749d98",
   "metadata": {},
   "source": [
    "# Once we create a class: \n",
    "\n",
    "whenever we need to access the class then we need to call the class with help of object or instance of the class. Object and instance, we can refer as alias name of the class for calling them.\n",
    "\n",
    "==> For the above example creating a object to class functions:\n",
    "\n",
    "syntax for creating class object:\n",
    "\n",
    "         object = class_name\n",
    "\n",
    "calc = calculator  #calc- nikename or instance or object and calculator - class_name\n",
    "\n",
    "\n",
    "To call functions from class or member of class, we can follow below structure or protocal:\n",
    "\n",
    "            calc.add()"
   ]
  },
  {
   "cell_type": "raw",
   "id": "7e03b73f",
   "metadata": {},
   "source": [
    "Class is a architecture of the object. A user-defined prototype for an object that defines a set of attributes which characterize any object of the class.\n",
    "\n",
    "The atributes are data members (class variables and instance variables) and methods, accessed via dot notation.\n",
    "\n",
    "Classes provide a means of bulding data nad functionalitz together.\n",
    "\n",
    "Creating a new class creates a new type of object, allowing new instances of that type to be made.\n",
    "\n",
    "Data member - A class variable or instance variable that holds data associated with a class and its objects.\n",
    "\n",
    "Function - Function is code that specify some task.\n",
    "\n",
    "Instance - An individual object of a certain class . An object obj that belongs to a class Circle, for example, is an instance of the class Circle.\n",
    "\n",
    "Constructor is special method. We can think of as a function which intializes or activates the attributes or properties of the class for a object. Use keyword __int__ to create a method for constructor.\n",
    "\n",
    "\n",
    "objcircle =Circle()\n",
    "\n",
    "\n"
   ]
  },
  {
   "cell_type": "raw",
   "id": "961f7cb0",
   "metadata": {},
   "source": [
    "##### Some points on Python class:  \n",
    "\n",
    "==> Classes are created by keyword class.\n",
    "==> Attributes are the variables that belong to a class.\n",
    "==> Attributes are always public and can be accessed using the dot (.) operator. \n",
    "\n",
    "Eg.: Myclass.Myattribute\n"
   ]
  },
  {
   "cell_type": "raw",
   "id": "635cd3e8",
   "metadata": {},
   "source": [
    "# Class Definition Syntax:\n",
    "class ClassName:\n",
    "   # Statement-1\n",
    "   .\n",
    "   .\n",
    "   .\n",
    "   # Statement-N"
   ]
  },
  {
   "cell_type": "code",
   "execution_count": 97,
   "id": "2e190fe0",
   "metadata": {},
   "outputs": [],
   "source": [
    "class Dog:\n",
    "    pass"
   ]
  },
  {
   "cell_type": "markdown",
   "id": "70df1b25",
   "metadata": {},
   "source": [
    "# Objects\n",
    "\n",
    "The object is an entity that has a state and behavior associated with it. \n",
    "It may be any real-world object like a mouse, keyboard, chair, table, pen, etc. Integers, strings, floating-point numbers, even arrays, and dictionaries, are all objects. More specifically, any single integer or any single string is an object. The number 12 is an object, the string “Hello, world” is an object, a list is an object that can hold other objects, and so on. You’ve been using objects all along and may not even realize it.\n",
    "\n",
    "An object consists of :\n",
    "\n",
    "State: It is represented by the attributes of an object. It also reflects the properties of an object.\n",
    "\n",
    "Behavior: It is represented by the methods of an object. It also reflects the response of an object to other objects.\n",
    "\n",
    "Identity: It gives a unique name to an object and enables one object to interact with other objects.\n",
    "\n",
    "To understand the state, behavior, and identity let us take the example of the class dog (explained above). \n",
    "\n",
    "The identity can be considered as the name of the dog.\n",
    "State or Attributes can be considered as the breed, age, or color of the dog.\n",
    "The behavior can be considered as to whether the dog is eating or sleeping."
   ]
  },
  {
   "cell_type": "code",
   "execution_count": 98,
   "id": "42b7c584",
   "metadata": {},
   "outputs": [],
   "source": [
    "obj = Dog() #This will create an object named obj of the class Dog defined above."
   ]
  },
  {
   "cell_type": "markdown",
   "id": "ae0761a6",
   "metadata": {},
   "source": [
    "# Let us understand some basic keywords that will we used while working with objects and classes."
   ]
  },
  {
   "cell_type": "raw",
   "id": "d70bcc80",
   "metadata": {},
   "source": [
    "Eaxample: \n",
    "\n",
    "class Person:\n",
    "\n",
    "def__(self, pid, name, age)    #__ indicates:(we need to create constructor here)\n",
    "        \n",
    "p1 = Person() (obj has been created)\n",
    "\n",
    "Class is the simulation of the object provided here.\n",
    "\n",
    " Whenever we are intializing the class (p1 = Person()), p1 is holding the black value of pid, name age.\n",
    " Here p1 (object)  occupy the memory inside the RAM while intialization with zero value, zero means nothing Because till now we have  not pass the value for pid, name and age.\n",
    " \n",
    " We want to fill data at time of creation of object in the memory of RAM as if we are not filling then it will be not created or filled with junk value. \n",
    " \n",
    " If we are not passing any value while creation of object then it will be filled with junk value (junk value means any value).\n",
    " \n",
    " To fill the right value while creation object need to write one constructor. constructor means constructing class with some value. It has to be initialization. Initializations means that we want to initialize p1 object inside memory with some values. So at time of creation of object, we have pass the few values. those values supppose.\n",
    " \n",
    " p1=Person(100, 'David,35)\n",
    " \n",
    " These valuse moved inside the constructor inside class so that these value could be filled inside this person() p1 object.\n",
    " \n",
    " When this initialzing constructor is going to be called then these values- Person(100, 'David,35) are going to filled automatically.\n",
    " \n",
    " Whenever we are running the class or calling the class with the help of object  \n",
    " \n",
    "Constructor : conscutor is a automatically initializer which are going to provide values to the variable and data member.\n",
    "\n",
    "once values are initialized while creation of object then it will directly filled in memory.\n"
   ]
  },
  {
   "cell_type": "code",
   "execution_count": 99,
   "id": "f69c3655",
   "metadata": {},
   "outputs": [
    {
     "name": "stdout",
     "output_type": "stream",
     "text": [
      "Student ID = 100 Name = David Age = 14\n",
      "Student ID = 100 Name = David Age = 15\n"
     ]
    }
   ],
   "source": [
    "class Student:\n",
    "    #initialization constructor\n",
    "    def __init__(self,sid,name,age): #memeber function, sid,name,age--these are data member or member variable \n",
    "        self.sid=sid\n",
    "        self.name=name\n",
    "        self.age=age\n",
    "    def display(self):           #memeber function\n",
    "        print(\"Student ID =\",self.sid, \"Name =\",self.name, \"Age =\", self.age)\n",
    "        \n",
    "#making object/instace ---object/instace are prototype of student class        \n",
    "        \n",
    "s1=Student(100,'David',14)\n",
    "s1.display() \n",
    "s2=Student(100,'David',15)\n",
    "s2.display() "
   ]
  },
  {
   "cell_type": "code",
   "execution_count": 100,
   "id": "e79302e3",
   "metadata": {},
   "outputs": [
    {
     "data": {
      "text/plain": [
       "'David'"
      ]
     },
     "execution_count": 100,
     "metadata": {},
     "output_type": "execute_result"
    }
   ],
   "source": [
    "s1.name"
   ]
  },
  {
   "cell_type": "code",
   "execution_count": 101,
   "id": "0791f797",
   "metadata": {},
   "outputs": [
    {
     "data": {
      "text/plain": [
       "15"
      ]
     },
     "execution_count": 101,
     "metadata": {},
     "output_type": "execute_result"
    }
   ],
   "source": [
    "s2.age"
   ]
  },
  {
   "cell_type": "raw",
   "id": "1341692d",
   "metadata": {},
   "source": [
    "__init__ this is initialization constructor . It means whenever we are going to make object of student, the initialization constructor would be invoked automatically or implicitly at the time of creating instance s1. \n",
    "\n",
    "whenever this command (s1=Student(100,'David',14)) executed. this is backgroud operation description:\n",
    "\n",
    "then this initialization constructor is automatically called and it will create the space in memory and s1 will be location to the memory. As soon as memory location is occupied for s1 the it will automatically invoke the initialize constructor then it will understand inside the class student--- there are three variables(sid,name,age) and it also checks whether these variable have some value.\n",
    "\n",
    "Self = instance name or object name. self is instance name.\n",
    "\n",
    "When it called automatically by s1 then self become s1. hence, values will passed automatically."
   ]
  },
  {
   "cell_type": "code",
   "execution_count": 102,
   "id": "461e4234",
   "metadata": {},
   "outputs": [
    {
     "name": "stdout",
     "output_type": "stream",
     "text": [
      "Employee ID =  1 Emp name =  John salary =  64432\n",
      "Employee ID =  1 Emp name =  Jack salary =  566676\n"
     ]
    }
   ],
   "source": [
    "class Employee:\n",
    "    #initialization constructor\n",
    "    def __init__(self, eid, ename, salary):\n",
    "        self.eid = eid\n",
    "        self.ename = ename\n",
    "        self.salary = salary\n",
    "        \n",
    "    def display(self):\n",
    "        print(\"Employee ID = \", self.eid, \"Emp name = \", self.ename, \"salary = \", self.salary)\n",
    "    \n",
    "    def getdata(self, eid, ename, salary):\n",
    "        self.eid = eid\n",
    "        self.ename = ename\n",
    "        self.salary = salary\n",
    "        \n",
    "        \n",
    "        \n",
    "#object name\n",
    "e1 = Employee(1, 'John', 64432)\n",
    "e1.display()\n",
    "        \n",
    "e1.getdata(1, 'Jack', 566676)  #after using the getdata the freseh data e1 are below details.     \n",
    "e1.display()        "
   ]
  },
  {
   "cell_type": "code",
   "execution_count": 103,
   "id": "6b5d6719",
   "metadata": {},
   "outputs": [
    {
     "name": "stdout",
     "output_type": "stream",
     "text": [
      " Enter eid 124\n",
      " Enter name Rqm\n",
      " Enter salay 135678\n",
      "Employee ID =  124 Emp name =  Rqm salary =  135678\n"
     ]
    }
   ],
   "source": [
    "class person:\n",
    "    #initialization constructor\n",
    "    def __init__(self, eid, ename, salary):\n",
    "        self.eid = eid   # instance variable means there are associated instance or object\n",
    "        self.ename = ename   # instance variable means there are associated instance or object\n",
    "        self.salary = salary  # instance variable means there are associated instance or object\n",
    "        \n",
    "    def display(self):\n",
    "        print(\"Employee ID = \", self.eid, \"Emp name = \", self.ename, \"salary = \", self.salary)\n",
    "    \n",
    "eid = input(\" Enter eid \")  \n",
    "ename = input(\" Enter name \")          \n",
    "salary = input(\" Enter salay \")          \n",
    "#object name\n",
    "e1 = person(eid, ename, salary)\n",
    "e1.display()"
   ]
  },
  {
   "cell_type": "markdown",
   "id": "57498ae4",
   "metadata": {},
   "source": [
    "#### Note : In class, there are two types of variables---1. class variable and 2. Instance variable in oops concept."
   ]
  },
  {
   "cell_type": "code",
   "execution_count": 106,
   "id": "d15018a2",
   "metadata": {},
   "outputs": [],
   "source": [
    "class Person:\n",
    "    \n",
    "    company = \"Google\"  # class variable --- there are not associated with any instance.\n",
    "    \n",
    "    #initialization constructor\n",
    "    def __init__(self, eid, ename, salary):\n",
    "        self.eid = eid   # instance variable means there are associated instance or object\n",
    "        self.ename = ename   # instance variable means there are associated instance or object\n",
    "        self.salary = salary  # instance variable means there are associated instance or object\n",
    "        \n",
    "    def display(self):\n",
    "        print(\"Person ID = \", self.eid, \"Person name = \", self.ename, \"Person salary = \", self.salary, \"Company Name =\", self.company)"
   ]
  },
  {
   "cell_type": "code",
   "execution_count": 107,
   "id": "e31b1351",
   "metadata": {},
   "outputs": [
    {
     "name": "stdout",
     "output_type": "stream",
     "text": [
      "Enter eid 123\n",
      "Enter ename Rani\n",
      "Enter salary 100000000000000\n",
      "Person ID =  123 Person name =  Rani Person salary =  100000000000000 Company Name = Google\n"
     ]
    }
   ],
   "source": [
    "p1 = Person(input(\"Enter eid \"), input(\"Enter ename \"), input(\"Enter salary \"))\n",
    "\n",
    "p1.display()"
   ]
  },
  {
   "cell_type": "code",
   "execution_count": 108,
   "id": "22bc73a8",
   "metadata": {},
   "outputs": [
    {
     "data": {
      "text/plain": [
       "'Google'"
      ]
     },
     "execution_count": 108,
     "metadata": {},
     "output_type": "execute_result"
    }
   ],
   "source": [
    "Person.company  # class variable can be called directly. or, they are indepent from any instance.\n",
    "\n",
    "# Only class variable can be access through class name directly. \n",
    "#class variable can be called through the class or with the instance"
   ]
  },
  {
   "cell_type": "code",
   "execution_count": 109,
   "id": "5f1919be",
   "metadata": {},
   "outputs": [
    {
     "data": {
      "text/plain": [
       "'Google'"
      ]
     },
     "execution_count": 109,
     "metadata": {},
     "output_type": "execute_result"
    }
   ],
   "source": [
    "p1.company"
   ]
  },
  {
   "cell_type": "code",
   "execution_count": 110,
   "id": "e5284e33",
   "metadata": {},
   "outputs": [],
   "source": [
    "class Employee:\n",
    "    #initialization constructor\n",
    "    def __init__(self, eid, ename, salary):\n",
    "        self.eid = eid\n",
    "        self.ename = ename\n",
    "        self.salary = salary\n",
    "        \n",
    "    def display(self):\n",
    "        print(\"Employee ID = \", self.eid, \"Emp name = \", self.ename, \"salary = \", self.salary)\n",
    "    \n",
    "    def getdata(self, eid, ename, salary):\n",
    "        self.eid = eid\n",
    "        self.ename = ename\n",
    "        self.salary = salary"
   ]
  },
  {
   "cell_type": "code",
   "execution_count": 111,
   "id": "4581a41a",
   "metadata": {},
   "outputs": [],
   "source": [
    "def main(): #these format was using earlier verson for execution. but this is not require in jupyter and anaconda\n",
    "    \n",
    "    e1 = Employee(1, 'John', 64432)\n",
    "    e1.display()\n",
    "        \n",
    "    e1.getdata(1, 'Jack', 566676)  #after using the getdata the freseh data e1 are below details.     \n",
    "    e1.display()  "
   ]
  },
  {
   "cell_type": "code",
   "execution_count": 112,
   "id": "4401e4f8",
   "metadata": {},
   "outputs": [
    {
     "name": "stdout",
     "output_type": "stream",
     "text": [
      "Employee ID =  1 Emp name =  John salary =  64432\n",
      "Employee ID =  1 Emp name =  Jack salary =  566676\n"
     ]
    }
   ],
   "source": [
    "if __name__==\"__main__\": # predefind things # this is entry point for execution of any class. it was used in pycharm\n",
    "    main()  \n",
    "    \n",
    "    # jupyter netbook and anaconda are created for data science and machine learning"
   ]
  },
  {
   "cell_type": "code",
   "execution_count": 113,
   "id": "705f0b69",
   "metadata": {},
   "outputs": [
    {
     "data": {
      "text/plain": [
       "['C:\\\\Users\\\\Asus',\n",
       " 'C:\\\\Users\\\\Asus\\\\anaconda3\\\\python311.zip',\n",
       " 'C:\\\\Users\\\\Asus\\\\anaconda3\\\\DLLs',\n",
       " 'C:\\\\Users\\\\Asus\\\\anaconda3\\\\Lib',\n",
       " 'C:\\\\Users\\\\Asus\\\\anaconda3',\n",
       " '',\n",
       " 'C:\\\\Users\\\\Asus\\\\AppData\\\\Roaming\\\\Python\\\\Python311\\\\site-packages',\n",
       " 'C:\\\\Users\\\\Asus\\\\AppData\\\\Roaming\\\\Python\\\\Python311\\\\site-packages\\\\win32',\n",
       " 'C:\\\\Users\\\\Asus\\\\AppData\\\\Roaming\\\\Python\\\\Python311\\\\site-packages\\\\win32\\\\lib',\n",
       " 'C:\\\\Users\\\\Asus\\\\AppData\\\\Roaming\\\\Python\\\\Python311\\\\site-packages\\\\Pythonwin',\n",
       " 'C:\\\\Users\\\\Asus\\\\anaconda3\\\\Lib\\\\site-packages',\n",
       " 'C:\\\\Users\\\\Asus\\\\anaconda3\\\\Lib\\\\site-packages\\\\win32',\n",
       " 'C:\\\\Users\\\\Asus\\\\anaconda3\\\\Lib\\\\site-packages\\\\win32\\\\lib',\n",
       " 'C:\\\\Users\\\\Asus\\\\anaconda3\\\\Lib\\\\site-packages\\\\Pythonwin']"
      ]
     },
     "execution_count": 113,
     "metadata": {},
     "output_type": "execute_result"
    }
   ],
   "source": [
    "import sys\n",
    "\n",
    "sys.path"
   ]
  },
  {
   "cell_type": "code",
   "execution_count": 114,
   "id": "ef275340",
   "metadata": {},
   "outputs": [
    {
     "data": {
      "text/plain": [
       "'C:\\\\Users\\\\Asus'"
      ]
     },
     "execution_count": 114,
     "metadata": {},
     "output_type": "execute_result"
    }
   ],
   "source": [
    "import os\n",
    "\n",
    "os.getcwd() # current working directly, where jupyter note book is working"
   ]
  },
  {
   "cell_type": "code",
   "execution_count": 115,
   "id": "c32bd4c1",
   "metadata": {},
   "outputs": [
    {
     "data": {
      "text/plain": [
       "['.anaconda',\n",
       " '.anaconda_backup',\n",
       " '.cache',\n",
       " '.conda',\n",
       " '.condarc',\n",
       " '.continuum',\n",
       " '.ipynb_checkpoints',\n",
       " '.ipython',\n",
       " '.jupyter',\n",
       " '.matplotlib',\n",
       " '.spyder-py3',\n",
       " '.vscode',\n",
       " '.wdm',\n",
       " 'Abalone.csv',\n",
       " 'agedata.csv',\n",
       " 'age_salary.csv',\n",
       " 'anaconda3',\n",
       " 'Anwendungsdaten',\n",
       " 'AppData',\n",
       " 'Assignment_Beautiful_Soup.ipynb',\n",
       " 'Assignment_Regular_Expression_Regex.ipynb',\n",
       " 'avocado.csv',\n",
       " 'avocado.jpg',\n",
       " 'Avocado_1.csv',\n",
       " 'Avocado_1.pkl',\n",
       " 'Avocado_2.csv',\n",
       " 'Avocado_2.pkl',\n",
       " 'Avocado_Project.ipynb',\n",
       " 'BANK MARKETING.ipynb',\n",
       " 'Baseball Case Study.ipynb',\n",
       " 'baseball.png',\n",
       " 'best_model',\n",
       " 'Black Friday Case  Study _ pandas.ipynb',\n",
       " 'brain_size.csv',\n",
       " 'cancerfile.csv',\n",
       " 'cancerMinMaxsc.csv',\n",
       " 'cancerstandard.csv',\n",
       " 'Chat _GPT_Search.ipynb',\n",
       " 'CloudyML_Machine_Learning.ipynb',\n",
       " 'ConcreteData.csv',\n",
       " 'Contacts',\n",
       " 'Cookies',\n",
       " 'DATA TRAINED-PYTHON.ipynb',\n",
       " 'data.csv',\n",
       " 'data.txt',\n",
       " 'data_1.csv',\n",
       " 'Data_Cleaning_Notes.ipynb',\n",
       " 'Data_Visualization.ipynb',\n",
       " 'demofile.txt',\n",
       " 'Desktop',\n",
       " 'diabetes.csv',\n",
       " 'Documents',\n",
       " 'Downloads',\n",
       " 'Druckumgebung',\n",
       " 'dtcfile.obj',\n",
       " 'dtrmodel.obj',\n",
       " 'Eigene Dateien',\n",
       " 'emp1.csv',\n",
       " 'emp1test.html',\n",
       " 'empl.csv',\n",
       " 'emptest.csv',\n",
       " 'Exploratory Data Analysis---EDA.ipynb',\n",
       " 'Exploratory_Data_Analysis_Notes.ipynb',\n",
       " 'Favorites',\n",
       " 'Filip Robo',\n",
       " 'First_Phase_Medical Cost Personal Insurance Project.ipynb',\n",
       " 'First_Phase_Red _Wine_Quality_prediction.ipynb',\n",
       " 'flower.obj',\n",
       " 'geckodriver.log',\n",
       " 'Glass.ipynb',\n",
       " 'hospital.jpg',\n",
       " 'house_pred_submission.csv',\n",
       " 'house_price_data_median.csv',\n",
       " 'HR Analytics Project- Understanding the Attrition in HR_1.ipynb',\n",
       " 'hrdata.csv',\n",
       " 'hrdata_modified.csv',\n",
       " 'HR_attrition_rate.csv',\n",
       " 'img.jpg',\n",
       " 'img0.jpg',\n",
       " 'img01.jpg',\n",
       " 'img02.jpg',\n",
       " 'img2.jpg',\n",
       " 'img3.jpg',\n",
       " 'img4.jpg',\n",
       " 'img7.jpg',\n",
       " 'img8.jpg',\n",
       " 'img9.jpg',\n",
       " 'img_03.jpg',\n",
       " 'img_04.jpg',\n",
       " 'img_05.jpg',\n",
       " 'img_06.jpg',\n",
       " 'img_07.jpg',\n",
       " 'img_08.jpg',\n",
       " 'img_1.jpg',\n",
       " 'img_10.jpg',\n",
       " 'img_11.jpg',\n",
       " 'img_2.jpg',\n",
       " 'img_3.jpg',\n",
       " 'img_4.jpg',\n",
       " 'img_5.jpg',\n",
       " 'img_6.jpg',\n",
       " 'IntelGraphicsProfiles',\n",
       " 'Intern_Regex_regular_expression.ipynb',\n",
       " 'Intern_Web_Scraping.ipynb',\n",
       " 'iris.csv',\n",
       " 'join.png',\n",
       " 'Krish Naik.ipynb',\n",
       " 'Links',\n",
       " 'lin_reg.obj',\n",
       " 'LnearReg.pkl',\n",
       " 'Lokale Einstellungen',\n",
       " 'Machine Learning.ipynb',\n",
       " 'Mall_customers.csv',\n",
       " 'medical_cost_insurance.csv',\n",
       " 'Music',\n",
       " 'mydatabase.db',\n",
       " 'My_score.csv',\n",
       " 'Netzwerkumgebung',\n",
       " 'ntuser.dat',\n",
       " 'ntuser.dat.log1',\n",
       " 'ntuser.dat.log2',\n",
       " 'ntuser.dat{6b02926a-0942-11ee-826d-1413333b553e}.TM.blf',\n",
       " 'ntuser.dat{6b02926a-0942-11ee-826d-1413333b553e}.TMContainer00000000000000000001.regtrans-ms',\n",
       " 'ntuser.dat{6b02926a-0942-11ee-826d-1413333b553e}.TMContainer00000000000000000002.regtrans-ms',\n",
       " 'NTUSER.DAT{b1b6a1b4-7637-11ed-824e-aec8471dabd1}.TM.blf',\n",
       " 'NTUSER.DAT{b1b6a1b4-7637-11ed-824e-aec8471dabd1}.TMContainer00000000000000000001.regtrans-ms',\n",
       " 'NTUSER.DAT{b1b6a1b4-7637-11ed-824e-aec8471dabd1}.TMContainer00000000000000000002.regtrans-ms',\n",
       " 'ntuser.ini',\n",
       " 'NumPy.ipynb',\n",
       " 'Object oriented Program.ipynb',\n",
       " 'OneDrive',\n",
       " 'Pandas Visualization.ipynb',\n",
       " 'Pandas---Python.ipynb',\n",
       " 'Phone_details.csv',\n",
       " 'pickledtcfile.pkl',\n",
       " 'Pictures',\n",
       " 'pima_indian_diabetes.csv',\n",
       " 'Practice___CloudyML.ipynb',\n",
       " 'prediction_dtc.csv',\n",
       " 'president_heights.csv',\n",
       " 'Product_details.csv',\n",
       " 'Project_7_Baseball.csv',\n",
       " 'Project_7_Baseball.pkl',\n",
       " 'Project_8_Avocado_1.csv',\n",
       " 'Project_8_Avocado_1.pkl',\n",
       " 'Project_Discussion.ipynb',\n",
       " 'PYTHON NOTES.ipynb',\n",
       " 'Python RegEx.ipynb',\n",
       " 'python_question_ans.ipynb',\n",
       " 'RandomForestClassifier_GlassDetection.pkl',\n",
       " 'Recent',\n",
       " 'Red_Wine_Quality_Prediction.pkl',\n",
       " 'RFClassifier.pkl',\n",
       " 'rfc_hr_file.obj',\n",
       " 'RndmFstClassifier_Glass_Detection.pkl',\n",
       " 'role_website.csv',\n",
       " 'salarydata-Excel.xlsx',\n",
       " 'sample_data.csv',\n",
       " 'sample_text.txt',\n",
       " 'Saved Games',\n",
       " 'scaler.pkl',\n",
       " 'scikit_learn_data',\n",
       " 'Scores_file.csv',\n",
       " 'seaborn-data',\n",
       " 'Searches',\n",
       " 'Selenium Exception handling notes_assignments.ipynb',\n",
       " 'SendTo',\n",
       " 'smartphones_data.csv',\n",
       " 'sonar.csv',\n",
       " 'SQL_Data_Trained.ipynb',\n",
       " 'Startmenü',\n",
       " 'STATISTICS.ipynb',\n",
       " 'Student grades prediction.ipynb',\n",
       " 'Student_Feb_database.db',\n",
       " 'student_mark.csv',\n",
       " 'Student_marks.csv',\n",
       " 'Student_marks_database.db',\n",
       " 'survey_results_public.csv',\n",
       " 'survey_results_schema.csv',\n",
       " 'svcfile.obj',\n",
       " 'svc_prediction.csv',\n",
       " 'Tebleau_Notes.ipynb',\n",
       " 'Telecom_customer_Churn_Analysis.pkl',\n",
       " 'test.csv',\n",
       " 'Titanic survived Project.ipynb',\n",
       " 'titanictrain.csv',\n",
       " 'Tracing',\n",
       " 'train.csv',\n",
       " 'Untitled Folder 1',\n",
       " 'Untitled.ipynb',\n",
       " 'Untitled1.ipynb',\n",
       " 'untitled1.txt',\n",
       " 'Untitled2.ipynb',\n",
       " 'untitled2.txt',\n",
       " 'Untitled3.ipynb',\n",
       " 'untitled3.txt',\n",
       " 'Untitled4.ipynb',\n",
       " 'untitled4.txt',\n",
       " 'Untitled6.ipynb',\n",
       " 'Untitled7.ipynb',\n",
       " 'Videos',\n",
       " 'Vorlagen',\n",
       " 'WA_Fn-UseC_-HR-Employee-Attrition.csv',\n",
       " 'Web_Scraping_Assignment_ Completed.ipynb',\n",
       " 'Web_Scrapping_3_Assignment_Completed.ipynb',\n",
       " 'Web_Scrapping_4_Assignment_Completed.ipynb',\n",
       " 'winequality-red.csv',\n",
       " 'World_Happiness_Report_Project.ipynb']"
      ]
     },
     "execution_count": 115,
     "metadata": {},
     "output_type": "execute_result"
    }
   ],
   "source": [
    "os.listdir()"
   ]
  },
  {
   "cell_type": "code",
   "execution_count": 116,
   "id": "94eee116",
   "metadata": {},
   "outputs": [
    {
     "data": {
      "text/plain": [
       "3.14"
      ]
     },
     "execution_count": 116,
     "metadata": {},
     "output_type": "execute_result"
    }
   ],
   "source": [
    "import math\n",
    "#x= math.pi\n",
    "y= round(math.pi, 2)\n",
    "y"
   ]
  },
  {
   "cell_type": "code",
   "execution_count": 117,
   "id": "badb48f5",
   "metadata": {},
   "outputs": [
    {
     "data": {
      "text/plain": [
       "16.0"
      ]
     },
     "execution_count": 117,
     "metadata": {},
     "output_type": "execute_result"
    }
   ],
   "source": [
    "#math.pow(base, power)\n",
    "math.pow(2,4)"
   ]
  },
  {
   "cell_type": "code",
   "execution_count": 118,
   "id": "1d953d55",
   "metadata": {},
   "outputs": [
    {
     "data": {
      "text/plain": [
       "3.141592653589793"
      ]
     },
     "execution_count": 118,
     "metadata": {},
     "output_type": "execute_result"
    }
   ],
   "source": [
    "import math as m\n",
    "\n",
    "m.pi\n"
   ]
  },
  {
   "cell_type": "code",
   "execution_count": 119,
   "id": "ac2a177c",
   "metadata": {},
   "outputs": [
    {
     "data": {
      "text/plain": [
       "3.14"
      ]
     },
     "execution_count": 119,
     "metadata": {},
     "output_type": "execute_result"
    }
   ],
   "source": [
    "import math as mt\n",
    "\n",
    "round(mt.pi,2)"
   ]
  },
  {
   "cell_type": "code",
   "execution_count": 120,
   "id": "ffd351ee",
   "metadata": {},
   "outputs": [
    {
     "data": {
      "text/plain": [
       "3.141592653589793"
      ]
     },
     "execution_count": 120,
     "metadata": {},
     "output_type": "execute_result"
    }
   ],
   "source": [
    "from math import pi # just called pi from math module\n",
    "\n",
    "pi\n"
   ]
  },
  {
   "cell_type": "code",
   "execution_count": 121,
   "id": "c5787417",
   "metadata": {},
   "outputs": [
    {
     "data": {
      "text/plain": [
       "dict_keys(['__name__', '__doc__', '__package__', '__loader__', '__spec__', 'acos', 'acosh', 'asin', 'asinh', 'atan', 'atan2', 'atanh', 'cbrt', 'ceil', 'copysign', 'cos', 'cosh', 'degrees', 'dist', 'erf', 'erfc', 'exp', 'exp2', 'expm1', 'fabs', 'factorial', 'floor', 'fmod', 'frexp', 'fsum', 'gamma', 'gcd', 'hypot', 'isclose', 'isfinite', 'isinf', 'isnan', 'isqrt', 'lcm', 'ldexp', 'lgamma', 'log', 'log1p', 'log10', 'log2', 'modf', 'pow', 'radians', 'remainder', 'sin', 'sinh', 'sqrt', 'tan', 'tanh', 'trunc', 'prod', 'perm', 'comb', 'nextafter', 'ulp', 'pi', 'e', 'tau', 'inf', 'nan'])"
      ]
     },
     "execution_count": 121,
     "metadata": {},
     "output_type": "execute_result"
    }
   ],
   "source": [
    "import math\n",
    "math.__dict__.keys()\n"
   ]
  },
  {
   "cell_type": "markdown",
   "id": "34869574",
   "metadata": {},
   "source": [
    "# 2Get Current Date and Time"
   ]
  },
  {
   "cell_type": "code",
   "execution_count": 122,
   "id": "dc651cf7",
   "metadata": {},
   "outputs": [
    {
     "data": {
      "text/plain": [
       "datetime.datetime(2023, 11, 4, 15, 28, 4, 35126)"
      ]
     },
     "execution_count": 122,
     "metadata": {},
     "output_type": "execute_result"
    }
   ],
   "source": [
    "import datetime\n",
    "\n",
    "dt=datetime.datetime.now()\n",
    "dt"
   ]
  },
  {
   "cell_type": "code",
   "execution_count": 123,
   "id": "b355fc52",
   "metadata": {},
   "outputs": [
    {
     "data": {
      "text/plain": [
       "datetime.date(2023, 11, 4)"
      ]
     },
     "execution_count": 123,
     "metadata": {},
     "output_type": "execute_result"
    }
   ],
   "source": [
    "d1 =datetime.date.today()\n",
    "d1"
   ]
  },
  {
   "cell_type": "markdown",
   "id": "a42f2545",
   "metadata": {},
   "source": [
    "Commonly used classes in the datetime module are:\n",
    "    date class--today()\n",
    "    time class\n",
    "    datetime class---now()\n",
    "    timedelta class\n",
    "    "
   ]
  },
  {
   "cell_type": "code",
   "execution_count": 124,
   "id": "c4f933e8",
   "metadata": {},
   "outputs": [
    {
     "data": {
      "text/plain": [
       "datetime.date(2022, 10, 9)"
      ]
     },
     "execution_count": 124,
     "metadata": {},
     "output_type": "execute_result"
    }
   ],
   "source": [
    "from datetime import date\n",
    "date(2022, 10, 9)"
   ]
  },
  {
   "cell_type": "code",
   "execution_count": 125,
   "id": "398f83f3",
   "metadata": {},
   "outputs": [
    {
     "data": {
      "text/plain": [
       "datetime.date(2023, 11, 4)"
      ]
     },
     "execution_count": 125,
     "metadata": {},
     "output_type": "execute_result"
    }
   ],
   "source": [
    "from datetime import date\n",
    "d = date.today()\n",
    "d"
   ]
  },
  {
   "cell_type": "code",
   "execution_count": 126,
   "id": "ff780ada",
   "metadata": {},
   "outputs": [
    {
     "name": "stdout",
     "output_type": "stream",
     "text": [
      "Year = 2023\n",
      "Month = 11\n",
      "Day= 4\n"
     ]
    }
   ],
   "source": [
    "print(\"Year =\", d.year)\n",
    "print(\"Month =\", d.month)\n",
    "print(\"Day=\", d.day)"
   ]
  },
  {
   "cell_type": "code",
   "execution_count": null,
   "id": "29aed46c",
   "metadata": {},
   "outputs": [],
   "source": []
  },
  {
   "cell_type": "code",
   "execution_count": 127,
   "id": "c657c79e",
   "metadata": {},
   "outputs": [
    {
     "name": "stdout",
     "output_type": "stream",
     "text": [
      "00:00:00\n"
     ]
    },
    {
     "data": {
      "text/plain": [
       "datetime.time(12, 43, 56)"
      ]
     },
     "execution_count": 127,
     "metadata": {},
     "output_type": "execute_result"
    }
   ],
   "source": [
    "from datetime import time\n",
    "a=time()\n",
    "print(a)\n",
    "\n",
    "#time(hour, mintue, second)\n",
    "b = time(12, 43, 56)\n",
    "\n",
    "b\n"
   ]
  },
  {
   "cell_type": "code",
   "execution_count": 128,
   "id": "ac010da1",
   "metadata": {},
   "outputs": [
    {
     "name": "stdout",
     "output_type": "stream",
     "text": [
      "hour : 12\n",
      "Minute : 43\n",
      "Second : 56\n"
     ]
    }
   ],
   "source": [
    "print(\"hour :\", b.hour)\n",
    "print(\"Minute :\", b.minute)\n",
    "print(\"Second :\", b.second)"
   ]
  },
  {
   "cell_type": "code",
   "execution_count": 129,
   "id": "856106a9",
   "metadata": {},
   "outputs": [
    {
     "data": {
      "text/plain": [
       "time.struct_time(tm_year=2023, tm_mon=11, tm_mday=4, tm_hour=15, tm_min=28, tm_sec=7, tm_wday=5, tm_yday=308, tm_isdst=0)"
      ]
     },
     "execution_count": 129,
     "metadata": {},
     "output_type": "execute_result"
    }
   ],
   "source": [
    "import time\n",
    "time.localtime()"
   ]
  },
  {
   "cell_type": "raw",
   "id": "d1bd3e55",
   "metadata": {},
   "source": [
    "Pip ---- Python package Manager--This command when need to install pip based library\n",
    "\n",
    "The best way to manage Python's packages/modules is with pip.\n",
    "\n",
    "! pip install Textblöb"
   ]
  },
  {
   "cell_type": "markdown",
   "id": "1e623313",
   "metadata": {},
   "source": [
    "#  FlLE INPUT / OUTPUT OPERATIONS"
   ]
  },
  {
   "cell_type": "markdown",
   "id": "4a046e14",
   "metadata": {},
   "source": [
    "f = open(\"E:/Python/file1.txt\",\"w\")\n",
    "\n",
    "f = open(\"E:/Python/file1.txt\",\"r\")"
   ]
  },
  {
   "cell_type": "code",
   "execution_count": 130,
   "id": "ad05e235",
   "metadata": {},
   "outputs": [],
   "source": [
    "# savefile = open('c://User//Asus//demofile.txt','w')\n",
    "\n"
   ]
  },
  {
   "cell_type": "code",
   "execution_count": 131,
   "id": "eda4d6b8",
   "metadata": {},
   "outputs": [],
   "source": [
    "dd=open('E:\\\\Python\\\\demo21_jan.txt', 'w')"
   ]
  },
  {
   "cell_type": "code",
   "execution_count": 132,
   "id": "4a8e1dcd",
   "metadata": {},
   "outputs": [],
   "source": [
    "dd.write(\"we are enjoing python commands.\")\n",
    "\n",
    "dd.close()"
   ]
  },
  {
   "cell_type": "code",
   "execution_count": 133,
   "id": "626e16a2",
   "metadata": {},
   "outputs": [
    {
     "name": "stdout",
     "output_type": "stream",
     "text": [
      "we are enjoing python commands.\n"
     ]
    }
   ],
   "source": [
    "readfile = open ('E:\\\\Python\\\\demo21_jan.txt', 'r')\n",
    "\n",
    "print(readfile.read())\n",
    "\n",
    "readfile.close()"
   ]
  },
  {
   "cell_type": "code",
   "execution_count": 134,
   "id": "8869c929",
   "metadata": {},
   "outputs": [],
   "source": [
    "appfile = open('E:\\\\Python\\\\demo21_jan.txt', 'a')\n",
    "\n",
    "appfile.write(\"\\n Republic day is coming this week. In Jan Avtar movie is released in Hollywood.\")\n",
    "\n",
    "appfile.close()"
   ]
  },
  {
   "cell_type": "markdown",
   "id": "eede534c",
   "metadata": {},
   "source": [
    "# Exception"
   ]
  },
  {
   "cell_type": "code",
   "execution_count": 136,
   "id": "c256db5b",
   "metadata": {
    "scrolled": true
   },
   "outputs": [
    {
     "name": "stdout",
     "output_type": "stream",
     "text": [
      "Enter a number 1\n",
      "Enter a number 2\n",
      "0.5\n"
     ]
    }
   ],
   "source": [
    "a = int(input(\"Enter a number \"))\n",
    "b = int(input(\"Enter a number \"))\n",
    "def func(a,b):\n",
    "    c = a/b\n",
    "    print(c)\n",
    "func(a,b)"
   ]
  },
  {
   "cell_type": "raw",
   "id": "297ca980",
   "metadata": {},
   "source": [
    "Here, it is run time exception. It is not a error or syntax error."
   ]
  },
  {
   "cell_type": "code",
   "execution_count": 138,
   "id": "5cb68057",
   "metadata": {},
   "outputs": [
    {
     "name": "stdout",
     "output_type": "stream",
     "text": [
      "2.0\n"
     ]
    }
   ],
   "source": [
    "func(4,2) # here code is running fine. Hence above error know as run time exception."
   ]
  },
  {
   "cell_type": "markdown",
   "id": "f901eef5",
   "metadata": {},
   "source": [
    "# What is Exception?"
   ]
  },
  {
   "cell_type": "raw",
   "id": "00276a57",
   "metadata": {},
   "source": [
    "An exception is an event, which occurs during the execution of a program that disrupts the normarl flow of the program's instruction. In general, a python scrpts encounters a situation that it cannot cope with, it raises an exception. An exception is a python object that repersents an error."
   ]
  },
  {
   "cell_type": "markdown",
   "id": "5a345f24",
   "metadata": {},
   "source": [
    "# Exception Name and description"
   ]
  },
  {
   "cell_type": "raw",
   "id": "757740f6",
   "metadata": {},
   "source": [
    "1. Exception\n",
    "Base class for all exception.\n",
    "\n",
    "2. StopIteration\n",
    "Raised when the next() method of an iterator does not point to any object.\n",
    "\n",
    "3. SystemExit\n",
    "Raised by the sys.exit() function.\n",
    "\n",
    "4. StandardError\n",
    "Base class for all built-in exceptions except StopIteration and SystemExit.\n",
    "\n",
    "5. ArthimeticError\n",
    "Base class for all errors that occur for the numeric calculation.\n",
    "\n",
    "6. OverFlowError\n",
    "Raised when a calculation exceeds maximum limit for a numeric type.\n",
    "\n",
    "7. FloatingPointError\n",
    "Raised when a floating point calculation fails.\n",
    "\n",
    "8. ZeroDivisionError\n",
    "Raised when division or module by zero takes place for all numeric type.\n",
    "\n",
    "9. AssertionError\n",
    "Raised in case of failure of the Assert statement.\n",
    "\n",
    "10. AttributeError\n",
    "Raised in case of failure of attribute assignment or reference.\n",
    "\n",
    "11. EOFError\n",
    "Raised when there is no input() from either the raw_input() or input() function and end of the file is reached.\n",
    "\n",
    "12. ImportError\n",
    "\n",
    "Raised when an import statement fails.\n",
    "\n",
    "13. KeyboardInterrupt\n",
    "\n",
    "Raised when the user inrrupts program execution, usually by pressing Ctrl+c.\n",
    "\n",
    "14. Lookup error\n",
    "Base class for all lookup errors.\n",
    "\n",
    "15. InderError\n",
    "Raised when an index is not found in a sequence.\n",
    "\n",
    "16. KeyError\n",
    "Raised when the specified key is not found in the dictionary.\n",
    "\n",
    "17. NameError\n",
    "Raised when an identifier is not found in the local and global namespace.\n",
    "\n",
    "18. UnboundLocalError\n",
    "Raised when trying to access a local variable in a function or method but no value has been assigned to it.\n",
    "\n",
    "19.EnvironmentError\n",
    "BAse class for all exception that occurs outside the python Environment.\n",
    "\n",
    "20. IOError\n",
    "Raised when a input/output operation fails, such as the print statment or the open() function when trying to open a file that does not exist.\n",
    "\n",
    "21. IOError\n",
    "Raised for operating system-related errors\n",
    "\n",
    "22. Syntax error\n",
    "Raised when there is an error with python syntax.\n",
    "\n",
    "23. Indentation Error\n",
    "Raised when indentation is not specified properly.\n",
    "\n",
    "24. SystemError\n",
    "Raised when the interpreter finds an internal problem, but when this error is encountered the python interpreter does not exit.\n",
    "\n",
    "25. SystemExit\n",
    "Raised when python interpreter is quit by using the sys.exit() function. If not handled in the code, causes the interpreter to exit.\n",
    "\n",
    "26. TypeError\n",
    "Raised when an operation or function is attempted that is invalid for the specified data type.\n",
    "\n",
    "27. ValueError\n",
    "Raised when the built-in function for a data type has the valid type of arguments, but the arguments have invalid values specified.\n",
    "\n",
    "28. RuntimeError\n",
    "Raised when a generated error does not fall into any category.\n",
    "\n",
    "29. NotimpliementedError\n",
    "Raised when a abstract method that needs to be implemented in an inherited class is not actually implemented.\n",
    "\n",
    "\n",
    "==> when a python script raises an exception, it must be handle the exception immediately otherwise its terminates or quits.\n"
   ]
  },
  {
   "cell_type": "markdown",
   "id": "92aa27c3",
   "metadata": {},
   "source": [
    "# Exceptions"
   ]
  },
  {
   "cell_type": "raw",
   "id": "fc3e887b",
   "metadata": {},
   "source": [
    "An exception can be defined as an unusual condition in a program resulting in the interruption in the flow of the program.\n",
    "\n",
    "Whenever an exception occurs, the program stops the execution, and thus the further code is not executed. Therefore, an exception is the run-time errors that are unable to handle to Python script. An exception is a Python object that represents an error\n",
    "\n",
    "Python provides a way to handle the exception so that the code can be executed without any interruption. If we do not handle the exception, the interpreter doesn't execute all the code that exists after the exception.\n",
    "\n",
    "Few errors are as below:\n",
    "\n",
    "ZeroDivisionError: Occurs when a number is divided by zero.\n",
    "\n",
    "NameError: It occurs when a name is not found. It may be local or global.\n",
    "\n",
    "IndentationError: If incorrect indentation is given. A I0Error: It occurs when Input Output operation fails."
   ]
  },
  {
   "cell_type": "code",
   "execution_count": 139,
   "id": "e2fbc0e9",
   "metadata": {},
   "outputs": [
    {
     "ename": "ZeroDivisionError",
     "evalue": "division by zero",
     "output_type": "error",
     "traceback": [
      "\u001b[1;31m---------------------------------------------------------------------------\u001b[0m",
      "\u001b[1;31mZeroDivisionError\u001b[0m                         Traceback (most recent call last)",
      "Cell \u001b[1;32mIn[139], line 1\u001b[0m\n\u001b[1;32m----> 1\u001b[0m \u001b[38;5;241;43m10\u001b[39;49m\u001b[38;5;241;43m/\u001b[39;49m\u001b[38;5;241;43m0\u001b[39;49m\n",
      "\u001b[1;31mZeroDivisionError\u001b[0m: division by zero"
     ]
    }
   ],
   "source": [
    "10/0"
   ]
  },
  {
   "cell_type": "code",
   "execution_count": 140,
   "id": "c53cd91f",
   "metadata": {},
   "outputs": [
    {
     "ename": "NameError",
     "evalue": "name 'number' is not defined",
     "output_type": "error",
     "traceback": [
      "\u001b[1;31m---------------------------------------------------------------------------\u001b[0m",
      "\u001b[1;31mNameError\u001b[0m                                 Traceback (most recent call last)",
      "Cell \u001b[1;32mIn[140], line 1\u001b[0m\n\u001b[1;32m----> 1\u001b[0m \u001b[38;5;241m8\u001b[39m\u001b[38;5;241m+\u001b[39m\u001b[43mnumber\u001b[49m\u001b[38;5;241m*\u001b[39m\u001b[38;5;241m2\u001b[39m\n",
      "\u001b[1;31mNameError\u001b[0m: name 'number' is not defined"
     ]
    }
   ],
   "source": [
    "8+number*2"
   ]
  },
  {
   "cell_type": "code",
   "execution_count": 141,
   "id": "f80e8926",
   "metadata": {},
   "outputs": [
    {
     "ename": "TypeError",
     "evalue": "can only concatenate str (not \"int\") to str",
     "output_type": "error",
     "traceback": [
      "\u001b[1;31m---------------------------------------------------------------------------\u001b[0m",
      "\u001b[1;31mTypeError\u001b[0m                                 Traceback (most recent call last)",
      "Cell \u001b[1;32mIn[141], line 1\u001b[0m\n\u001b[1;32m----> 1\u001b[0m \u001b[38;5;124;43m'\u001b[39;49m\u001b[38;5;124;43m9\u001b[39;49m\u001b[38;5;124;43m'\u001b[39;49m\u001b[38;5;241;43m+\u001b[39;49m\u001b[38;5;241;43m9\u001b[39;49m\n",
      "\u001b[1;31mTypeError\u001b[0m: can only concatenate str (not \"int\") to str"
     ]
    }
   ],
   "source": [
    "'9'+9"
   ]
  },
  {
   "cell_type": "markdown",
   "id": "3b0c2eb4",
   "metadata": {},
   "source": [
    "# Handling Exceptions"
   ]
  },
  {
   "cell_type": "raw",
   "id": "1b46d28e",
   "metadata": {},
   "source": [
    "The try statement works as follows.\n",
    "\n",
    "First, the try clause (the statements) between the try and except keywords) is executed.\n",
    "\n",
    "If no exception occurs, the except clause is skipped and execution of the try statement is finished.\n",
    "\n",
    "If an exception occurs during execution of the try clause, the rest of the clause is skipped.\n",
    "\n",
    "Then if its type matches the exception named after the except keyword, the except clause is executed, and then execution continues after the try statement."
   ]
  },
  {
   "cell_type": "code",
   "execution_count": 142,
   "id": "d338202e",
   "metadata": {},
   "outputs": [
    {
     "name": "stdout",
     "output_type": "stream",
     "text": [
      "Handling run time error: division by zero\n"
     ]
    }
   ],
   "source": [
    "try: \n",
    "    79/0\n",
    "except ZeroDivisionError as err:\n",
    "    print('Handling run time error:', err)"
   ]
  },
  {
   "cell_type": "code",
   "execution_count": 143,
   "id": "98f8ea50",
   "metadata": {},
   "outputs": [
    {
     "ename": "TypeError",
     "evalue": "unsupported operand type(s) for *: 'module' and 'int'",
     "output_type": "error",
     "traceback": [
      "\u001b[1;31m---------------------------------------------------------------------------\u001b[0m",
      "\u001b[1;31mTypeError\u001b[0m                                 Traceback (most recent call last)",
      "Cell \u001b[1;32mIn[143], line 2\u001b[0m\n\u001b[0;32m      1\u001b[0m \u001b[38;5;28;01mtry\u001b[39;00m: \n\u001b[1;32m----> 2\u001b[0m     \u001b[38;5;241m8\u001b[39m\u001b[38;5;241m+\u001b[39m\u001b[43mm\u001b[49m\u001b[38;5;241;43m*\u001b[39;49m\u001b[38;5;241;43m2\u001b[39;49m\n\u001b[0;32m      3\u001b[0m \u001b[38;5;28;01mexcept\u001b[39;00m \u001b[38;5;167;01mNameError\u001b[39;00m \u001b[38;5;28;01mas\u001b[39;00m err:\n\u001b[0;32m      4\u001b[0m     \u001b[38;5;28mprint\u001b[39m(\u001b[38;5;124m'\u001b[39m\u001b[38;5;124mHandling run time error:\u001b[39m\u001b[38;5;124m'\u001b[39m, err)\n",
      "\u001b[1;31mTypeError\u001b[0m: unsupported operand type(s) for *: 'module' and 'int'"
     ]
    }
   ],
   "source": [
    "try: \n",
    "    8+m*2\n",
    "except NameError as err:\n",
    "    print('Handling run time error:', err)"
   ]
  },
  {
   "cell_type": "code",
   "execution_count": 144,
   "id": "54d9594c",
   "metadata": {},
   "outputs": [
    {
     "name": "stdout",
     "output_type": "stream",
     "text": [
      "value 4\n",
      "12.5\n"
     ]
    }
   ],
   "source": [
    "try:\n",
    "    i =int(input(\"value \"))\n",
    "    p=50/i\n",
    "except ZeroDivisionError:\n",
    "    print('Zero Division Error')\n",
    "except NameError: \n",
    "    print('check name of variable: Name error')\n",
    "except IndentationError: \n",
    "    print('Check Indentation')\n",
    "else:\n",
    "    print(p) # here it is not closing program abruptlyand Zero division error got handle here."
   ]
  },
  {
   "cell_type": "code",
   "execution_count": 145,
   "id": "a106a6d5",
   "metadata": {},
   "outputs": [
    {
     "name": "stdout",
     "output_type": "stream",
     "text": [
      "value 4\n",
      "12.5\n"
     ]
    }
   ],
   "source": [
    "try:\n",
    "    i =int(input(\"value \"))\n",
    "    p=50/i\n",
    "except ZeroDivisionError:\n",
    "    print('Zero Division Error')\n",
    "except NameError: \n",
    "    print('check name of variable: Name error')\n",
    "except IndentationError: \n",
    "    print('Check Indentation')\n",
    "\n",
    "else:\n",
    "    print(p)"
   ]
  },
  {
   "cell_type": "code",
   "execution_count": 146,
   "id": "15ca1f22",
   "metadata": {},
   "outputs": [
    {
     "name": "stdout",
     "output_type": "stream",
     "text": [
      "10\n",
      "20\n",
      "30\n",
      "Hello\n",
      "end of the program\n"
     ]
    }
   ],
   "source": [
    "a = [10, 20, 30]\n",
    "try:\n",
    "    print(a[0])\n",
    "    print(a[1])\n",
    "    print(a[2])\n",
    "    \n",
    "except:\n",
    "    print(\"out of range\")\n",
    "else:\n",
    "    print(\"Hello\")\n",
    "    \n",
    "finally:\n",
    "    print(\"end of the program\") # finally will be exceted everytime.\n",
    "    "
   ]
  },
  {
   "cell_type": "code",
   "execution_count": 147,
   "id": "4e97984a",
   "metadata": {},
   "outputs": [
    {
     "name": "stdout",
     "output_type": "stream",
     "text": [
      "10\n",
      "20\n",
      "out of range\n",
      "end of the program\n"
     ]
    }
   ],
   "source": [
    "a = [10, 20, 30]\n",
    "try:\n",
    "    print(a[0])\n",
    "    print(a[1])\n",
    "    print(a[5])\n",
    "    \n",
    "except:\n",
    "    print(\"out of range\")\n",
    "else:\n",
    "    print(\"Hello\")\n",
    "    \n",
    "finally:\n",
    "    print(\"end of the program\")"
   ]
  },
  {
   "cell_type": "code",
   "execution_count": 148,
   "id": "5f727b99",
   "metadata": {},
   "outputs": [
    {
     "name": "stdout",
     "output_type": "stream",
     "text": [
      "the file opened successfullly\n",
      "this is the first line .I am testing this file.\n",
      " This is the next line\n"
     ]
    }
   ],
   "source": [
    "#this will throe an exception if the file doesn#t exist.\n",
    "\n",
    "try:\n",
    "    filrpts = open('demofile.txt','r')\n",
    "except IOError:\n",
    "    print(\"File not found\")\n",
    "else:\n",
    "    print(\"the file opened successfullly\")\n",
    "    print(filrpts.read())\n",
    "    filrpts.close()  "
   ]
  },
  {
   "cell_type": "code",
   "execution_count": 149,
   "id": "c2f49918",
   "metadata": {},
   "outputs": [
    {
     "name": "stdout",
     "output_type": "stream",
     "text": [
      "The file opened successfullly\n",
      "23\n"
     ]
    }
   ],
   "source": [
    "try:\n",
    "    appendfile = open('demofile.txt','a')\n",
    "except IOError:\n",
    "    print(\"File not found\")\n",
    "else:\n",
    "    print(\"The file opened successfullly\")\n",
    "    print(appendfile.write(\"\\n This is the next line\"))\n",
    "   "
   ]
  },
  {
   "cell_type": "markdown",
   "id": "5ff74e55",
   "metadata": {},
   "source": [
    "# Pickle in Python: Object Seriallization: (Pickle Library)"
   ]
  },
  {
   "cell_type": "raw",
   "id": "4d675fb3",
   "metadata": {},
   "source": [
    "(Pickle Library)\n",
    "\n",
    "Pickle library have two methods : \n",
    "\n",
    "1. dump---- for Serialization\n",
    "\n",
    "2. Load-----for de-serialization "
   ]
  },
  {
   "cell_type": "code",
   "execution_count": 150,
   "id": "4a519f65",
   "metadata": {},
   "outputs": [],
   "source": [
    "import pickle\n",
    "\n",
    "flower_dict = {1: 'Rose', 2:'Lilly', 3:'Lotus', 4:'Tulip'}"
   ]
  },
  {
   "cell_type": "markdown",
   "id": "866519be",
   "metadata": {},
   "source": [
    "##### filename ='flower'\n",
    "outfile = open(filename,'wb') # format to open a file"
   ]
  },
  {
   "cell_type": "code",
   "execution_count": 151,
   "id": "0d31a307",
   "metadata": {},
   "outputs": [],
   "source": [
    "#filename = 'flower'\n",
    "\n",
    "outfile = open('flower.obj','wb')"
   ]
  },
  {
   "cell_type": "code",
   "execution_count": 152,
   "id": "49321b0d",
   "metadata": {},
   "outputs": [],
   "source": [
    "#Picking the file \n",
    "#dump method serialize\n",
    "\n",
    "pickle.dump(flower_dict,outfile)\n",
    "\n",
    "outfile.close()"
   ]
  },
  {
   "cell_type": "markdown",
   "id": "b365e199",
   "metadata": {},
   "source": [
    "##### unpickle the file\n",
    "\n",
    "infile = open(filename, 'rb')"
   ]
  },
  {
   "cell_type": "code",
   "execution_count": 153,
   "id": "11779498",
   "metadata": {},
   "outputs": [],
   "source": [
    "#unpickle the file\n",
    "infile = open('flower.obj','rb')"
   ]
  },
  {
   "cell_type": "markdown",
   "id": "713c3f48",
   "metadata": {},
   "source": [
    "###### “Pickling” is the process whereby a Python object hierarchy is converted into a byte stream, and “unpickling” is the inverse operation, whereby a byte stream (from a binary file or bytes-like object) is converted back into an object hierarchy."
   ]
  },
  {
   "cell_type": "code",
   "execution_count": 154,
   "id": "52d71c71",
   "metadata": {},
   "outputs": [],
   "source": [
    "#de-serialize\n",
    "#load method\n",
    "new_dict = pickle.load(infile)"
   ]
  },
  {
   "cell_type": "code",
   "execution_count": 155,
   "id": "cfed474a",
   "metadata": {},
   "outputs": [],
   "source": [
    "infile.close()"
   ]
  },
  {
   "cell_type": "code",
   "execution_count": 156,
   "id": "1bca9508",
   "metadata": {},
   "outputs": [
    {
     "name": "stdout",
     "output_type": "stream",
     "text": [
      "{1: 'Rose', 2: 'Lilly', 3: 'Lotus', 4: 'Tulip'}\n"
     ]
    }
   ],
   "source": [
    "print(new_dict)"
   ]
  },
  {
   "cell_type": "code",
   "execution_count": null,
   "id": "e2a306a1",
   "metadata": {},
   "outputs": [],
   "source": []
  },
  {
   "cell_type": "code",
   "execution_count": 157,
   "id": "53ec3d95",
   "metadata": {},
   "outputs": [],
   "source": [
    "import numpy as np\n",
    "import pandas as pd\n",
    "from sklearn.decomposition import PCA\n",
    "from sklearn.linear_model import LogisticRegression\n",
    "from sklearn.naive_bayes import MultinomialNB, GaussianNB\n",
    "from sklearn.svm import SVC\n",
    "from sklearn.tree import DecisionTreeClassifier\n",
    "from sklearn.ensemble import RandomForestClassifier\n",
    "from sklearn.model_selection import train_test_split\n",
    "from sklearn.metrics import accuracy_score,confusion_matrix,classification_report"
   ]
  },
  {
   "cell_type": "raw",
   "id": "704de6f1",
   "metadata": {},
   "source": [
    "data=pd.read_csv('sonar')"
   ]
  },
  {
   "cell_type": "code",
   "execution_count": null,
   "id": "6b172290",
   "metadata": {},
   "outputs": [],
   "source": []
  },
  {
   "cell_type": "code",
   "execution_count": null,
   "id": "cc1b12cd",
   "metadata": {},
   "outputs": [],
   "source": []
  },
  {
   "cell_type": "code",
   "execution_count": null,
   "id": "28417ce6",
   "metadata": {},
   "outputs": [],
   "source": []
  },
  {
   "cell_type": "code",
   "execution_count": null,
   "id": "ce15ec9e",
   "metadata": {},
   "outputs": [],
   "source": []
  },
  {
   "cell_type": "code",
   "execution_count": null,
   "id": "991f1a04",
   "metadata": {},
   "outputs": [],
   "source": []
  },
  {
   "cell_type": "code",
   "execution_count": null,
   "id": "4a706029",
   "metadata": {},
   "outputs": [],
   "source": []
  },
  {
   "cell_type": "code",
   "execution_count": null,
   "id": "fb2d512d",
   "metadata": {},
   "outputs": [],
   "source": []
  },
  {
   "cell_type": "code",
   "execution_count": null,
   "id": "780ee92c",
   "metadata": {},
   "outputs": [],
   "source": []
  }
 ],
 "metadata": {
  "kernelspec": {
   "display_name": "Python 3 (ipykernel)",
   "language": "python",
   "name": "python3"
  },
  "language_info": {
   "codemirror_mode": {
    "name": "ipython",
    "version": 3
   },
   "file_extension": ".py",
   "mimetype": "text/x-python",
   "name": "python",
   "nbconvert_exporter": "python",
   "pygments_lexer": "ipython3",
   "version": "3.11.5"
  }
 },
 "nbformat": 4,
 "nbformat_minor": 5
}
