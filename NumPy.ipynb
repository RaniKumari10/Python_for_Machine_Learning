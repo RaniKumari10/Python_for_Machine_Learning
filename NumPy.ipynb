{
 "cells": [
  {
   "cell_type": "markdown",
   "id": "e3bf25d7",
   "metadata": {},
   "source": [
    "# Numpy ---- Numerical Python"
   ]
  },
  {
   "cell_type": "markdown",
   "id": "0e4c2453",
   "metadata": {},
   "source": [
    "###### Data Science: is a branch of computer science where we study how to store, use and analyze data for deriving information from it."
   ]
  },
  {
   "cell_type": "code",
   "execution_count": 3,
   "id": "664664c3",
   "metadata": {},
   "outputs": [],
   "source": [
    "import numpy as np"
   ]
  },
  {
   "cell_type": "code",
   "execution_count": 4,
   "id": "fa8cfa3e",
   "metadata": {},
   "outputs": [],
   "source": [
    "import pandas as pd"
   ]
  },
  {
   "cell_type": "markdown",
   "id": "7c5ac00d",
   "metadata": {},
   "source": [
    "pd.DataFrame.fillna()"
   ]
  },
  {
   "cell_type": "markdown",
   "id": "27550065",
   "metadata": {},
   "source": [
    "# I hope this is what you are talking about?"
   ]
  },
  {
   "cell_type": "raw",
   "id": "6b729c08",
   "metadata": {},
   "source": [
    "pd.DataFrame.dropna()"
   ]
  },
  {
   "cell_type": "markdown",
   "id": "cc2d1c92",
   "metadata": {},
   "source": [
    "press tab to se the drop down menu\n"
   ]
  },
  {
   "cell_type": "raw",
   "id": "45547612",
   "metadata": {},
   "source": [
    " # NumPy is a Python library.\n",
    "\n",
    "Numpy is the fundamental package for scientific computing in python. It stands for numerical python and also known as array oriented computing.\n",
    "NumPy is used for working with arrays. It is very fast because it is written in the c language.\n",
    "\n",
    "This is one of the most used Python libraries for data science. NumPy consists of a powerful data structure called multidimensional arrays.\n",
    "\n",
    "Numpy is built on linear algebra. It's about metrices and vectors and performing the mathmetical calculation on them.\n",
    "\n",
    "The key concept in Numpy is the Numpy array data type. A Numpy array may have one or more dimensions:\n",
    "\n",
    "1.One dimensional array (1D) repersents vectors. shape(row,column) .Ex: x=np.array([1, 2, 3, 4]), shape.x = (4,)\n",
    "2. Two-dimensional array (2D) repersents matrics. 2D-->shape(2,3), 3D---->shape(4,3,2)\n",
    "3. higer Dimensional arrays repersents tensors.\n",
    "\n",
    "Unlike the built-in list type that can hold the element of different types, the Numpy allows only one data type for all elements. Therefore, we say that the Numpy array requires homogeneous data values.\n",
    "\n",
    "A Numpy array can contain either integer or float numbers, but not both at the same time. This restriction allows Numpy to speed up the Linear Algebra calculations.\n",
    "\n",
    "\n",
    "The most basic object in NumPy is the ndarray, or simply an array which is an n-dimensional, homogeneous array. \n",
    "\n",
    "By homogenous, we mean that all the elements in a NumPy array have to be of the same data type, which is commonly numeric (float or integer)."
   ]
  },
  {
   "cell_type": "markdown",
   "id": "52e420fe",
   "metadata": {},
   "source": [
    "<img src='img01.jpg'>"
   ]
  },
  {
   "cell_type": "markdown",
   "id": "264e2184",
   "metadata": {},
   "source": [
    "##### Numpy is an important library for:"
   ]
  },
  {
   "cell_type": "raw",
   "id": "2ea07b9b",
   "metadata": {},
   "source": [
    "1. Data science\n",
    "2. Machine Learning\n",
    "3. Signal and image processing\n",
    "4. Scientific and engineer computing"
   ]
  },
  {
   "cell_type": "markdown",
   "id": "cf0be4cb",
   "metadata": {},
   "source": [
    "# Check Number of Dimensions?"
   ]
  },
  {
   "cell_type": "code",
   "execution_count": 1,
   "id": "7ffacf4e",
   "metadata": {},
   "outputs": [
    {
     "name": "stdout",
     "output_type": "stream",
     "text": [
      "0 () ---Zero dimesional\n",
      "1 (5,) ---One dimesional\n",
      "2 (2, 3) ---Two dimesional\n",
      "3 (2, 2, 3) ---Three dimesional\n"
     ]
    }
   ],
   "source": [
    "import numpy as np\n",
    "\n",
    "a = np.array(42)\n",
    "b = np.array([1, 2, 3, 4, 5])\n",
    "c = np.array([[1, 2, 3], [4, 5, 6]])\n",
    "d = np.array([[[1, 2, 3], [4, 5, 6]], [[1, 2, 3], [4, 5, 6]]])\n",
    "\n",
    "#NumPy Arrays provides the ndim attribute that returns an integer that tells us how many dimensions the array have.\n",
    "\n",
    "#NumPy arrays have an attribute called shape that returns a tuple with each index having the number of corresponding elements.\n",
    "\n",
    "print(a.ndim, a.shape, \"---Zero dimesional\")\n",
    "print(b.ndim, b.shape , \"---One dimesional\")\n",
    "print(c.ndim, c.shape , \"---Two dimesional\")\n",
    "print(d.ndim, d.shape , \"---Three dimesional\")\n"
   ]
  },
  {
   "cell_type": "markdown",
   "id": "cd432a53",
   "metadata": {},
   "source": [
    "# What is NumPy?\n",
    "NumPy is a Python library used for working with arrays.\n",
    "\n",
    "It also has functions for working in domain of linear algebra, fourier transform, and matrices.\n",
    "\n",
    "NumPy was created in 2005 by \"Travis Oliphant\". It is an open source project and you can use it freely.\n",
    "\n",
    "NumPy stands for Numerical Python."
   ]
  },
  {
   "cell_type": "markdown",
   "id": "117522b1",
   "metadata": {},
   "source": [
    "# Why Use NumPy?\n",
    "In Python we have lists that serve the purpose of arrays, but they are slow to process.\n",
    "\n",
    "NumPy aims to provide an array object that is up to 50x faster than traditional Python lists.\n",
    "\n",
    "The array object in NumPy is called ndarray, it provides a lot of supporting functions that make working with ndarray very easy.\n",
    "\n",
    "Arrays are very frequently used in data science, where speed and resources are very important.\n",
    "\n",
    "Data Science: is a branch of computer science where we study how to store, use and analyze data for deriving information from it."
   ]
  },
  {
   "cell_type": "markdown",
   "id": "41cccac3",
   "metadata": {},
   "source": [
    "# convenience & speed\n",
    "\n",
    "Numpy is much faster than the standard python ways to do computations.\n",
    "\n",
    "Vectorised code typically does not contain explicit looping and indexing etc. (all of this happens behind the scenes, in precompiled C-code), and thus it is much more concise.\n",
    "\n",
    "Also, many Numpy operations are implemented in C which is basically being executed behind the scenes, avoiding the general cost of loops in Python, pointer indirection and per-element dynamic type checking. The speed boost depends on which operations you're performing.\n",
    "\n",
    "NumPy arrays are more compact than lists, i.e. they take much lesser storage space than lists"
   ]
  },
  {
   "cell_type": "markdown",
   "id": "82722cd6",
   "metadata": {},
   "source": [
    "# Why is NumPy Faster Than Lists?\n",
    "NumPy arrays are stored at one continuous place in memory unlike lists, so processes can access and manipulate them very efficiently.\n",
    "\n",
    "This behavior is called locality of reference in computer science.\n",
    "\n",
    "This is the main reason why NumPy is faster than lists. Also it is optimized to work with latest CPU architectures."
   ]
  },
  {
   "cell_type": "markdown",
   "id": "c85dd864",
   "metadata": {},
   "source": [
    "# NumPy Creating Arrays\n",
    "NumPy is used to work with arrays. The array object in NumPy is called ndarray.\n",
    "\n",
    "We can create a NumPy ndarray object by using the array() function."
   ]
  },
  {
   "cell_type": "code",
   "execution_count": 2,
   "id": "a5c31a65",
   "metadata": {},
   "outputs": [
    {
     "name": "stdout",
     "output_type": "stream",
     "text": [
      "[1 2 3 4 5]\n",
      "<class 'numpy.ndarray'>\n"
     ]
    }
   ],
   "source": [
    "import numpy as np\n",
    "arr = np.array([1, 2, 3, 4, 5])\n",
    "print(arr)\n",
    "print(type(arr))#This built-in Python function tells us the type of the object passed to. \n",
    "# the above code shows that arr is numpy.ndarray type."
   ]
  },
  {
   "cell_type": "markdown",
   "id": "2e337c80",
   "metadata": {},
   "source": [
    "#### To create an ndarray, we can pass a list, tuple or any array-like object into the array() method, and it will be converted into an ndarray."
   ]
  },
  {
   "cell_type": "markdown",
   "id": "3212d18a",
   "metadata": {},
   "source": [
    "# Dimensions in Arrays\n",
    "A dimension in arrays is one level of array depth (nested arrays).\n",
    "\n",
    "nested array: are arrays that have arrays as their elements."
   ]
  },
  {
   "cell_type": "markdown",
   "id": "44666b2e",
   "metadata": {},
   "source": [
    "# 0-D Arrays\n",
    "0-D arrays, or Scalars, are the elements in an array. Each value in an array is a 0-D array."
   ]
  },
  {
   "cell_type": "raw",
   "id": "e3aeafda",
   "metadata": {},
   "source": [
    "Scalar: Scalar has only magnitude. Ex: Length, Area, volume, speed, mass, density,pressure, tempreture, enery, entropy worker, power\n",
    "        \n",
    "Vector: Vector has both Magnitude and direction. EX: disülacement, velocity, acceleration, momentum force, lift, drag, thrust weight"
   ]
  },
  {
   "cell_type": "code",
   "execution_count": 4,
   "id": "2d040bd4",
   "metadata": {},
   "outputs": [
    {
     "name": "stdout",
     "output_type": "stream",
     "text": [
      "42\n"
     ]
    }
   ],
   "source": [
    "#Create a 0-D array with value 42\n",
    "import numpy as np\n",
    "arr = np.array(42)\n",
    "print(arr)"
   ]
  },
  {
   "cell_type": "markdown",
   "id": "a81697d0",
   "metadata": {},
   "source": [
    "# 1-D Arrays\n",
    "An array that has 0-D arrays as its elements is called uni-dimensional or 1-D array.\n",
    "\n",
    "These are the most common and basic arrays."
   ]
  },
  {
   "cell_type": "code",
   "execution_count": 5,
   "id": "e4d678f2",
   "metadata": {},
   "outputs": [
    {
     "name": "stdout",
     "output_type": "stream",
     "text": [
      "[1 2 3 4 5]\n"
     ]
    }
   ],
   "source": [
    "import numpy as np\n",
    "\n",
    "arr = np.array([1, 2, 3, 4, 5])\n",
    "\n",
    "print(arr)"
   ]
  },
  {
   "cell_type": "markdown",
   "id": "f8c17233",
   "metadata": {},
   "source": [
    "# 2-D Arrays\n",
    "An array that has 1-D arrays as its elements is called a 2-D array.\n",
    "\n",
    "These are often used to represent matrix or 2nd order tensors.\n",
    "\n",
    "NumPy has a whole sub module dedicated towards matrix operations called numpy.mat"
   ]
  },
  {
   "cell_type": "code",
   "execution_count": 6,
   "id": "8001595e",
   "metadata": {},
   "outputs": [
    {
     "name": "stdout",
     "output_type": "stream",
     "text": [
      "[[1 2 3]\n",
      " [4 5 6]]\n"
     ]
    }
   ],
   "source": [
    "import numpy as np\n",
    "\n",
    "arr = np.array([[1, 2, 3], [4, 5, 6]])\n",
    "\n",
    "print(arr)"
   ]
  },
  {
   "cell_type": "markdown",
   "id": "19f0bcfa",
   "metadata": {},
   "source": [
    "# 3-D arrays\n",
    "An array that has 2-D arrays (matrices) as its elements is called 3-D array.\n",
    "\n",
    "These are often used to represent a 3rd order tensor."
   ]
  },
  {
   "cell_type": "code",
   "execution_count": 7,
   "id": "971940cd",
   "metadata": {},
   "outputs": [
    {
     "name": "stdout",
     "output_type": "stream",
     "text": [
      "[[[1 2 3]\n",
      "  [4 5 6]]\n",
      "\n",
      " [[1 2 3]\n",
      "  [4 5 6]]]\n"
     ]
    }
   ],
   "source": [
    "#Create a 3-D array with two 2-D arrays, both containing two arrays with the values 1,2,3 and 4,5,6:\n",
    "\n",
    "import numpy as np\n",
    "\n",
    "arr = np.array([[[1, 2, 3], [4, 5, 6]], [[1, 2, 3], [4, 5, 6]]])\n",
    "\n",
    "print(arr)"
   ]
  },
  {
   "cell_type": "markdown",
   "id": "db9f70a9",
   "metadata": {},
   "source": [
    "# Check Number of Dimensions?\n",
    "NumPy Arrays provides the ndim attribute that returns an integer that tells us how many dimensions the array have."
   ]
  },
  {
   "cell_type": "code",
   "execution_count": 8,
   "id": "6e3a21f1",
   "metadata": {},
   "outputs": [
    {
     "name": "stdout",
     "output_type": "stream",
     "text": [
      "0\n",
      "1\n",
      "2\n",
      "3\n"
     ]
    }
   ],
   "source": [
    "import numpy as np\n",
    "\n",
    "a = np.array(42)\n",
    "b = np.array([1, 2, 3, 4, 5])\n",
    "c = np.array([[1, 2, 3], [4, 5, 6]])\n",
    "d = np.array([[[1, 2, 3], [4, 5, 6]], [[1, 2, 3], [4, 5, 6]]])\n",
    "\n",
    "print(a.ndim)\n",
    "print(b.ndim)\n",
    "print(c.ndim)\n",
    "print(d.ndim)"
   ]
  },
  {
   "cell_type": "markdown",
   "id": "b680b449",
   "metadata": {},
   "source": [
    "# Higher Dimensional Arrays\n",
    "An array can have any number of dimensions.\n",
    "\n",
    "When the array is created, you can define the number of dimensions by using the ndmin argument."
   ]
  },
  {
   "cell_type": "code",
   "execution_count": 9,
   "id": "f924dd98",
   "metadata": {},
   "outputs": [
    {
     "name": "stdout",
     "output_type": "stream",
     "text": [
      "[[[[[1 2 3 4]]]]]\n",
      "number of dimensions : 5\n"
     ]
    }
   ],
   "source": [
    "import numpy as np\n",
    "\n",
    "arr = np.array([1, 2, 3, 4], ndmin=5)\n",
    "\n",
    "print(arr)\n",
    "print('number of dimensions :', arr.ndim)"
   ]
  },
  {
   "cell_type": "markdown",
   "id": "63eba023",
   "metadata": {},
   "source": [
    "###### In this array the innermost dimension (5th dim) has 4 elements, the 4th dim has 1 element that is the vector, the 3rd dim has 1 element that is the matrix with the vector, the 2nd dim has 1 element that is 3D array and 1st dim has 1 element that is a 4D array.\n"
   ]
  },
  {
   "cell_type": "markdown",
   "id": "ceb77664",
   "metadata": {},
   "source": [
    "# Python Lists VS Numpy Arrays\n",
    "1. Python stores data in several different ways like List, Dictionaries, Tuples, set, Numpy arrays etc.\n",
    "Let's look how lists and arrays are similar and How they are different and what are the advantages of arrays over Lists."
   ]
  },
  {
   "cell_type": "markdown",
   "id": "380abc8d",
   "metadata": {},
   "source": [
    "# Similarities Between List and Numpy Array's\n",
    "Both are used to store data\n",
    "Both are mutable [i.e we can change the value in it at any point of time] \n",
    "Both can be indexed [i.e we can access the elements] and can iterate all elements persent in it.\n",
    "can perform slicing operations upon them. [i.e we can get subset of elements from the whole data.]"
   ]
  },
  {
   "cell_type": "markdown",
   "id": "d9d0ae4e",
   "metadata": {},
   "source": [
    "# Differences Between List and Numpy Array's\n",
    "1. List contain elements of different datatypes, whereas arrays contains elements of similar data type.\n",
    "i.e we can store integer, float, string and all datatypes in a single list."
   ]
  },
  {
   "cell_type": "code",
   "execution_count": 2,
   "id": "55c0401a",
   "metadata": {},
   "outputs": [
    {
     "name": "stdout",
     "output_type": "stream",
     "text": [
      "[1, 4.0, 'Apple']\n"
     ]
    }
   ],
   "source": [
    "list1 = [1, 4.0, 'Apple']\n",
    "print(list1)"
   ]
  },
  {
   "cell_type": "code",
   "execution_count": 3,
   "id": "b07ad402",
   "metadata": {},
   "outputs": [
    {
     "name": "stdout",
     "output_type": "stream",
     "text": [
      "[1 2 3 4]\n"
     ]
    }
   ],
   "source": [
    "import numpy as np\n",
    "arr1 = np.array([1, 2, 3, 4])\n",
    "print(arr1)"
   ]
  },
  {
   "cell_type": "markdown",
   "id": "ff4a18a4",
   "metadata": {},
   "source": [
    "### Type conversion take place if stored different datatypes"
   ]
  },
  {
   "cell_type": "code",
   "execution_count": 4,
   "id": "1a8ea0f2",
   "metadata": {},
   "outputs": [
    {
     "name": "stdout",
     "output_type": "stream",
     "text": [
      "['1' '4.0' 'Apple']\n"
     ]
    }
   ],
   "source": [
    "arr2 =np.array([1, 4.0, 'Apple'])\n",
    "print(arr2)  #after converting to array every element of array has been converted to string. this is main disadvantage."
   ]
  },
  {
   "cell_type": "code",
   "execution_count": 8,
   "id": "834d86b1",
   "metadata": {},
   "outputs": [
    {
     "name": "stdout",
     "output_type": "stream",
     "text": [
      "<class 'numpy.str_'>\n"
     ]
    }
   ],
   "source": [
    "print(type(arr2[0]))"
   ]
  },
  {
   "cell_type": "code",
   "execution_count": 9,
   "id": "29de7283",
   "metadata": {},
   "outputs": [
    {
     "data": {
      "text/plain": [
       "numpy.str_"
      ]
     },
     "execution_count": 9,
     "metadata": {},
     "output_type": "execute_result"
    }
   ],
   "source": [
    "type(arr2[1])"
   ]
  },
  {
   "cell_type": "code",
   "execution_count": 10,
   "id": "7342b639",
   "metadata": {},
   "outputs": [
    {
     "data": {
      "text/plain": [
       "numpy.str_"
      ]
     },
     "execution_count": 10,
     "metadata": {},
     "output_type": "execute_result"
    }
   ],
   "source": [
    "type(arr2[2])"
   ]
  },
  {
   "cell_type": "markdown",
   "id": "d8a9a580",
   "metadata": {},
   "source": [
    "#### 2. Way of performing operations"
   ]
  },
  {
   "cell_type": "code",
   "execution_count": 11,
   "id": "1a592ef8",
   "metadata": {},
   "outputs": [
    {
     "name": "stdout",
     "output_type": "stream",
     "text": [
      "[ 5 10 15 20]\n",
      "<class 'numpy.ndarray'>\n"
     ]
    }
   ],
   "source": [
    "arr = np.array([5, 10, 15, 20])\n",
    "print(arr)\n",
    "print(type(arr))"
   ]
  },
  {
   "cell_type": "code",
   "execution_count": 12,
   "id": "b06293af",
   "metadata": {},
   "outputs": [
    {
     "data": {
      "text/plain": [
       "array([1., 2., 3., 4.])"
      ]
     },
     "execution_count": 12,
     "metadata": {},
     "output_type": "execute_result"
    }
   ],
   "source": [
    "arr/5"
   ]
  },
  {
   "cell_type": "code",
   "execution_count": 13,
   "id": "08840e9e",
   "metadata": {},
   "outputs": [
    {
     "name": "stdout",
     "output_type": "stream",
     "text": [
      "[5, 10, 15, 20]\n"
     ]
    }
   ],
   "source": [
    "list1 = [5, 10, 15, 20]\n",
    "print(list1)"
   ]
  },
  {
   "cell_type": "code",
   "execution_count": 14,
   "id": "b0575380",
   "metadata": {},
   "outputs": [
    {
     "ename": "TypeError",
     "evalue": "unsupported operand type(s) for /: 'list' and 'int'",
     "output_type": "error",
     "traceback": [
      "\u001b[1;31m---------------------------------------------------------------------------\u001b[0m",
      "\u001b[1;31mTypeError\u001b[0m                                 Traceback (most recent call last)",
      "\u001b[1;32m~\\AppData\\Local\\Temp\\ipykernel_7744\\3055586394.py\u001b[0m in \u001b[0;36m<module>\u001b[1;34m\u001b[0m\n\u001b[1;32m----> 1\u001b[1;33m \u001b[0mlist1\u001b[0m\u001b[1;33m/\u001b[0m\u001b[1;36m5\u001b[0m\u001b[1;33m\u001b[0m\u001b[1;33m\u001b[0m\u001b[0m\n\u001b[0m",
      "\u001b[1;31mTypeError\u001b[0m: unsupported operand type(s) for /: 'list' and 'int'"
     ]
    }
   ],
   "source": [
    "list1/5"
   ]
  },
  {
   "cell_type": "markdown",
   "id": "7fa0821e",
   "metadata": {},
   "source": [
    "# 3. Installation\n",
    ".To use numpy arrays we need to install and import numpy library, whereas List is Buit_in and we no need to install anything and we can directly use it."
   ]
  },
  {
   "cell_type": "markdown",
   "id": "7df18ec2",
   "metadata": {},
   "source": [
    "# Advantages of array over List\n",
    ".Numpy array consume less memory.\n",
    ".Numpy array are faster than Lists."
   ]
  },
  {
   "cell_type": "markdown",
   "id": "02e538e9",
   "metadata": {},
   "source": [
    "# Numpy Array Reshaping"
   ]
  },
  {
   "cell_type": "markdown",
   "id": "5f5dd319",
   "metadata": {},
   "source": [
    "Importing Numpy"
   ]
  },
  {
   "cell_type": "markdown",
   "id": "e71dd1ec",
   "metadata": {},
   "source": [
    "# Creating sample numpy array"
   ]
  },
  {
   "cell_type": "code",
   "execution_count": 28,
   "id": "93b6514e",
   "metadata": {},
   "outputs": [
    {
     "name": "stdout",
     "output_type": "stream",
     "text": [
      "[ 0  1  2  3  4  5  6  7  8  9 10 11]\n",
      "<class 'numpy.ndarray'>\n",
      "1\n"
     ]
    }
   ],
   "source": [
    "import numpy as np\n",
    "a = np.arange(12)\n",
    "print(a)\n",
    "print(type(a))\n",
    "print(a.ndim)"
   ]
  },
  {
   "cell_type": "markdown",
   "id": "c442ef1a",
   "metadata": {},
   "source": [
    "# Reshaping into two dimensional array"
   ]
  },
  {
   "cell_type": "code",
   "execution_count": 35,
   "id": "7bf165a1",
   "metadata": {},
   "outputs": [
    {
     "name": "stdout",
     "output_type": "stream",
     "text": [
      "[[ 0  1  2  3  4  5]\n",
      " [ 6  7  8  9 10 11]]\n",
      "2\n",
      "(2, 6)\n"
     ]
    }
   ],
   "source": [
    "new_a = a.reshape(2,6)\n",
    "print(new_a)\n",
    "print(new_a.ndim)\n",
    "print(new_a.shape)"
   ]
  },
  {
   "cell_type": "markdown",
   "id": "b65e248a",
   "metadata": {},
   "source": [
    "# Let's convert 2-D array to 1-D array"
   ]
  },
  {
   "cell_type": "code",
   "execution_count": 30,
   "id": "1d2cdc18",
   "metadata": {},
   "outputs": [
    {
     "name": "stdout",
     "output_type": "stream",
     "text": [
      "[[1 2 3]\n",
      " [4 5 6]\n",
      " [7 8 9]]\n",
      "2\n",
      "(3, 3)\n"
     ]
    }
   ],
   "source": [
    "b = [[1, 2, 3], [4, 5, 6], [7, 8, 9]]\n",
    "B =  np.array(b)\n",
    "print(B)\n",
    "print(B.ndim)\n",
    "print(B.shape)"
   ]
  },
  {
   "cell_type": "code",
   "execution_count": 31,
   "id": "a31d47fe",
   "metadata": {},
   "outputs": [
    {
     "name": "stdout",
     "output_type": "stream",
     "text": [
      "[1 2 3 4 5 6 7 8 9]\n",
      "1\n",
      "(9,)\n"
     ]
    }
   ],
   "source": [
    "new_B = B.reshape(9)\n",
    "print(new_B)\n",
    "print(new_B.ndim)\n",
    "print(new_B.shape)"
   ]
  },
  {
   "cell_type": "markdown",
   "id": "d5d97ea4",
   "metadata": {},
   "source": [
    "# Additional Tips\n",
    "\n",
    "1. Make sure that we will always provide right dimensions such that number of elements are same before and after reshaping.\n",
    "\n",
    "2. If we don't know the exact dimensions for conversions, use -1 so that numpy will figure it out the correct dimensions.\n",
    "\n",
    "Note: There are a lot of functions for changing the shapes of arrays in numpy flatten, ravel and also for rearranging the elements rot90, flip, fliplr, flipud etc. These fall under Intermediate to Advanced section of numpy."
   ]
  },
  {
   "cell_type": "code",
   "execution_count": 36,
   "id": "3ec8a03d",
   "metadata": {},
   "outputs": [
    {
     "name": "stdout",
     "output_type": "stream",
     "text": [
      "[[ 1  2  3  4]\n",
      " [ 5  6  7  8]\n",
      " [ 9 10 11 12]]\n",
      "(3, 4)\n"
     ]
    }
   ],
   "source": [
    "b = [[1, 2, 3, 4], [5, 6, 7, 8], [9, 10, 11, 12]]\n",
    "B = np.array(b)\n",
    "print(B)\n",
    "print(B.shape)"
   ]
  },
  {
   "cell_type": "code",
   "execution_count": 37,
   "id": "18ebe5fb",
   "metadata": {},
   "outputs": [
    {
     "name": "stdout",
     "output_type": "stream",
     "text": [
      "[[ 1  2  3]\n",
      " [ 4  5  6]\n",
      " [ 7  8  9]\n",
      " [10 11 12]]\n",
      "(4, 3)\n"
     ]
    }
   ],
   "source": [
    "new_B = B.reshape(4, -1)\n",
    "print(new_B)\n",
    "print(new_B.shape)"
   ]
  },
  {
   "cell_type": "markdown",
   "id": "ccfe72cb",
   "metadata": {},
   "source": [
    "# Numpy Array Indexing\n",
    "Note:\n",
    "1. Similar to List, we can access the array using index\n",
    "2. can retrieve single value of an array\n",
    "3. Zero based Indexing\n",
    "4. Negative Indexing also possible"
   ]
  },
  {
   "cell_type": "code",
   "execution_count": 38,
   "id": "29a041d9",
   "metadata": {},
   "outputs": [
    {
     "name": "stdout",
     "output_type": "stream",
     "text": [
      "[1, 2, 3, 4]\n",
      "(4,)\n"
     ]
    }
   ],
   "source": [
    "a = [1, 2, 3, 4]\n",
    "A = np.array(a)\n",
    "print(a)\n",
    "print(A.shape)"
   ]
  },
  {
   "cell_type": "code",
   "execution_count": 39,
   "id": "c151366e",
   "metadata": {},
   "outputs": [
    {
     "name": "stdout",
     "output_type": "stream",
     "text": [
      "4\n",
      "4\n"
     ]
    }
   ],
   "source": [
    "print(a[3])\n",
    "print(a[-1])"
   ]
  },
  {
   "cell_type": "code",
   "execution_count": 40,
   "id": "2ba489b4",
   "metadata": {},
   "outputs": [
    {
     "name": "stdout",
     "output_type": "stream",
     "text": [
      "2\n",
      "2\n"
     ]
    }
   ],
   "source": [
    "print(a[1])\n",
    "print(a[-3])"
   ]
  },
  {
   "cell_type": "markdown",
   "id": "f681dfe1",
   "metadata": {},
   "source": [
    "# Accessing Two_dimensional array\n",
    "Note: (i, j)\n",
    "1. 'i' respects to rows and 'j' respects to column."
   ]
  },
  {
   "cell_type": "code",
   "execution_count": 41,
   "id": "1f42ebb0",
   "metadata": {},
   "outputs": [
    {
     "name": "stdout",
     "output_type": "stream",
     "text": [
      "[[1 2]\n",
      " [3 4]]\n",
      "(2, 2)\n"
     ]
    }
   ],
   "source": [
    "b = [[1, 2], [3, 4]]\n",
    "B = np.array(b)\n",
    "print(B)\n",
    "print(B.shape)"
   ]
  },
  {
   "cell_type": "code",
   "execution_count": 42,
   "id": "58bf40d8",
   "metadata": {},
   "outputs": [
    {
     "name": "stdout",
     "output_type": "stream",
     "text": [
      "1\n",
      "1\n",
      "3\n",
      "3\n"
     ]
    }
   ],
   "source": [
    "print(B[0][0])\n",
    "print(B[-2][-2])\n",
    "print(B[-1][-2])\n",
    "print(B[1][0])"
   ]
  },
  {
   "cell_type": "markdown",
   "id": "31c35f0f",
   "metadata": {},
   "source": [
    "# Accessing Three_Dimensional Array"
   ]
  },
  {
   "cell_type": "raw",
   "id": "a2bc01db",
   "metadata": {},
   "source": [
    " Two_dimensional Arrays within Arrays is called three_dimensional arrays.\n",
    "\n",
    "Note: (i, j, k)\n",
    "\n",
    "1. 'i' respects to matrix index and 'j' respect to rows and 'k' repersentd to columns\n",
    "     0   1  3 positive indexing\n",
    "0    1   2  3   -3   negative index for row\n",
    "1    4   5  6   -2\n",
    "3    7   8  9   -1\n",
    "     -3  -2 -1   negative index for column"
   ]
  },
  {
   "cell_type": "code",
   "execution_count": 43,
   "id": "5d46bec7",
   "metadata": {},
   "outputs": [
    {
     "name": "stdout",
     "output_type": "stream",
     "text": [
      "[[[ 1  2  3]\n",
      "  [ 4  5  6]\n",
      "  [ 7  8  9]]\n",
      "\n",
      " [[10 11 12]\n",
      "  [13 14 15]\n",
      "  [16 17 18]]]\n",
      "(2, 3, 3)\n"
     ]
    }
   ],
   "source": [
    "c = [[1, 2, 3], [4, 5, 6], [7, 8, 9]], [[10, 11, 12], [13, 14, 15], [16, 17, 18]]\n",
    "c = np.array(c)\n",
    "print(c)\n",
    "print(c.shape)"
   ]
  },
  {
   "cell_type": "code",
   "execution_count": 31,
   "id": "d03e683f",
   "metadata": {},
   "outputs": [
    {
     "name": "stdout",
     "output_type": "stream",
     "text": [
      "3\n",
      "3\n"
     ]
    }
   ],
   "source": [
    "print(c[0][0][2])\n",
    "print(c[-2][-3][-1])"
   ]
  },
  {
   "cell_type": "code",
   "execution_count": 32,
   "id": "0e4468a4",
   "metadata": {},
   "outputs": [
    {
     "name": "stdout",
     "output_type": "stream",
     "text": [
      "18\n",
      "18\n"
     ]
    }
   ],
   "source": [
    "print(c[1][2][2])\n",
    "print(c[-1][-1][-1])"
   ]
  },
  {
   "cell_type": "markdown",
   "id": "d024f3b4",
   "metadata": {},
   "source": [
    "# Slicing Operation"
   ]
  },
  {
   "cell_type": "raw",
   "id": "d858934e",
   "metadata": {},
   "source": [
    "Note:\n",
    "\n",
    "1. To retrieve a single value we can use indexing, similarly to retrieve collection of value we can use slicing.\n",
    "\n",
    "2. general format in one dimensional array:\n",
    "\n",
    "arr[strat:end:step]\n",
    "\n",
    "Here:\n",
    "strat: inclusive, strating index\n",
    "end= exclusive, ending index.(i.e we do not include the ending index)\n",
    "step= difference between index(optinal, default value is 1)"
   ]
  },
  {
   "cell_type": "code",
   "execution_count": 3,
   "id": "59dcbcb8",
   "metadata": {},
   "outputs": [],
   "source": [
    "import numpy as np"
   ]
  },
  {
   "cell_type": "markdown",
   "id": "45b7e1d0",
   "metadata": {},
   "source": [
    "# Accessing one Dimensional Array"
   ]
  },
  {
   "cell_type": "markdown",
   "id": "7ae36522",
   "metadata": {},
   "source": [
    "one diemensional array"
   ]
  },
  {
   "cell_type": "code",
   "execution_count": 44,
   "id": "c036d6fb",
   "metadata": {},
   "outputs": [
    {
     "name": "stdout",
     "output_type": "stream",
     "text": [
      "[ 1  4  7 11  6  3]\n",
      "<class 'numpy.ndarray'>\n"
     ]
    }
   ],
   "source": [
    "a = [1, 4, 7, 11, 6, 3]\n",
    "A = np.array(a)\n",
    "print(A)\n",
    "print(type(A))"
   ]
  },
  {
   "cell_type": "code",
   "execution_count": 45,
   "id": "0fbbd4b2",
   "metadata": {},
   "outputs": [
    {
     "name": "stdout",
     "output_type": "stream",
     "text": [
      "[1 4 7]\n"
     ]
    }
   ],
   "source": [
    "print(A[0:3:1])"
   ]
  },
  {
   "cell_type": "code",
   "execution_count": 46,
   "id": "89d41536",
   "metadata": {},
   "outputs": [
    {
     "name": "stdout",
     "output_type": "stream",
     "text": [
      "[1 7]\n"
     ]
    }
   ],
   "source": [
    "print(A[0:3:2])"
   ]
  },
  {
   "cell_type": "markdown",
   "id": "bdc37859",
   "metadata": {},
   "source": [
    "## Task3: let's take the first 3 elements"
   ]
  },
  {
   "cell_type": "code",
   "execution_count": 8,
   "id": "90b7b1d8",
   "metadata": {},
   "outputs": [
    {
     "name": "stdout",
     "output_type": "stream",
     "text": [
      "[1 4 7]\n"
     ]
    }
   ],
   "source": [
    "print(A[:3]) # here i am not mentioning the start index value, but default value is 0."
   ]
  },
  {
   "cell_type": "markdown",
   "id": "f96d2c01",
   "metadata": {},
   "source": [
    "Task4: let's get all the elements from 2nd index upto the last"
   ]
  },
  {
   "cell_type": "code",
   "execution_count": 12,
   "id": "d2e3fc80",
   "metadata": {},
   "outputs": [
    {
     "name": "stdout",
     "output_type": "stream",
     "text": [
      "[ 7 11  6  3]\n"
     ]
    }
   ],
   "source": [
    "print(A[2:]) #here, I have not mentioned the last index butimplicitly taken care"
   ]
  },
  {
   "cell_type": "markdown",
   "id": "eea42949",
   "metadata": {},
   "source": [
    "Task5: let's print the elements with step size 2."
   ]
  },
  {
   "cell_type": "code",
   "execution_count": 14,
   "id": "5846c4ca",
   "metadata": {},
   "outputs": [
    {
     "name": "stdout",
     "output_type": "stream",
     "text": [
      "[1 7 6]\n"
     ]
    }
   ],
   "source": [
    "print(A[::2]) #here the start and end index has been implicitly taken care by numpy. "
   ]
  },
  {
   "cell_type": "markdown",
   "id": "7c54aff0",
   "metadata": {},
   "source": [
    "# Note:\n",
    "To get all element, use this format "
   ]
  },
  {
   "cell_type": "code",
   "execution_count": 15,
   "id": "5759f9bc",
   "metadata": {},
   "outputs": [
    {
     "name": "stdout",
     "output_type": "stream",
     "text": [
      "[ 1  4  7 11  6  3]\n"
     ]
    }
   ],
   "source": [
    "print(A[::])"
   ]
  },
  {
   "cell_type": "markdown",
   "id": "129c3884",
   "metadata": {},
   "source": [
    "# Two Dimensional Array"
   ]
  },
  {
   "cell_type": "raw",
   "id": "cfdad928",
   "metadata": {},
   "source": [
    "1. 'i' respects to matrix index and 'j' respect to rows and 'k' repersentd to columns\n",
    "     0   1  3 positive indexing\n",
    "0    1   2  3   -3   negative index for row\n",
    "1    4   5  6   -2\n",
    "3    7   8  9   -1\n",
    "     -3  -2 -1   negative index for column"
   ]
  },
  {
   "cell_type": "code",
   "execution_count": 124,
   "id": "5973b252",
   "metadata": {},
   "outputs": [
    {
     "name": "stdout",
     "output_type": "stream",
     "text": [
      "[[  4   7  11]\n",
      " [  6  13   9]\n",
      " [  2  12 100]]\n",
      "<class 'numpy.ndarray'>\n",
      "(3, 3)\n"
     ]
    }
   ],
   "source": [
    "b = [[4, 7, 11], [6, 13, 9], [2, 12, 100]]\n",
    "B = np.array(b)\n",
    "print(B)\n",
    "print(type(B))\n",
    "print(B.shape)\n"
   ]
  },
  {
   "cell_type": "raw",
   "id": "71cb49ed",
   "metadata": {},
   "source": [
    "# General format:\n",
    "\n",
    "array_name[rows_format, columns_format]\n",
    "\n",
    "rows_format = [strat, end, step]\n",
    "\n",
    "columns_format = [strat, end, step]\n",
    "\n",
    "step is optional and default valur is 1."
   ]
  },
  {
   "cell_type": "markdown",
   "id": "a0505f03",
   "metadata": {},
   "source": [
    "###### Task1: Let's get all elements 9 and 100."
   ]
  },
  {
   "cell_type": "raw",
   "id": "faa8efea",
   "metadata": {},
   "source": [
    "--> Here 9 is present at row index 1 and 100 is present at row index 2.\n",
    "--> Also 9 is present at column index 2 and 100 is present at column index 2.\n",
    "\n",
    "so, the starting index of raws is 1 and ending is 3 as 3 is exclusive, strating index of column is 2 anad ending is 3."
   ]
  },
  {
   "cell_type": "code",
   "execution_count": 17,
   "id": "1902bf00",
   "metadata": {},
   "outputs": [
    {
     "name": "stdout",
     "output_type": "stream",
     "text": [
      "[[  4   7  11]\n",
      " [  6  13   9]\n",
      " [  2  12 100]]\n"
     ]
    }
   ],
   "source": [
    "print(B)"
   ]
  },
  {
   "cell_type": "code",
   "execution_count": 18,
   "id": "932ac635",
   "metadata": {},
   "outputs": [
    {
     "name": "stdout",
     "output_type": "stream",
     "text": [
      "[[  9]\n",
      " [100]]\n"
     ]
    }
   ],
   "source": [
    "print(B[1:3:1, 2:3:1])"
   ]
  },
  {
   "cell_type": "markdown",
   "id": "d3cfb2c2",
   "metadata": {},
   "source": [
    "###### Task2: Let#s get the sun matrix [[6 13], [2 12]]"
   ]
  },
  {
   "cell_type": "code",
   "execution_count": 19,
   "id": "96865fc6",
   "metadata": {},
   "outputs": [
    {
     "name": "stdout",
     "output_type": "stream",
     "text": [
      "[[ 6 13]\n",
      " [ 2 12]]\n"
     ]
    }
   ],
   "source": [
    "print(B[1:3:1, 0:2:1])"
   ]
  },
  {
   "cell_type": "markdown",
   "id": "474b0453",
   "metadata": {},
   "source": [
    "###### Task3: Let's print the entire matrix"
   ]
  },
  {
   "cell_type": "code",
   "execution_count": 22,
   "id": "467ffb76",
   "metadata": {},
   "outputs": [
    {
     "name": "stdout",
     "output_type": "stream",
     "text": [
      "[[  4   7  11]\n",
      " [  6  13   9]\n",
      " [  2  12 100]]\n"
     ]
    }
   ],
   "source": [
    "print(B[:,:])   # doubt"
   ]
  },
  {
   "cell_type": "markdown",
   "id": "7c1e087f",
   "metadata": {},
   "source": [
    "# Three Dimensional Arrays"
   ]
  },
  {
   "cell_type": "raw",
   "id": "1c092e9e",
   "metadata": {},
   "source": [
    "array_name[General format\n",
    "\n",
    "(i,j,k)\n",
    "\n",
    "array_name[matrix_format,rows_format,columns_format]\n",
    "\n",
    "matrix_format = [start,end,step]\n",
    "\n",
    "rows_format = [start,end,step]\n",
    "\n",
    "columns_format = [start,end,step]\n",
    "step is optional and default value is 1."
   ]
  },
  {
   "cell_type": "code",
   "execution_count": 23,
   "id": "d558af6d",
   "metadata": {},
   "outputs": [
    {
     "name": "stdout",
     "output_type": "stream",
     "text": [
      "[[[ 1  2  3]\n",
      "  [ 4  5  6]]\n",
      "\n",
      " [[ 7  8  9]\n",
      "  [10 11 12]]]\n",
      "(2, 2, 3)\n"
     ]
    }
   ],
   "source": [
    "c = [[[1, 2, 3], [4, 5, 6]], [[7, 8, 9], [10, 11, 12]]]\n",
    "C = np.array(c)\n",
    "print(C)\n",
    "print(C.shape)"
   ]
  },
  {
   "cell_type": "markdown",
   "id": "aaafdc7c",
   "metadata": {},
   "source": [
    "###### Task1: Let's slice each and every element in 3-D Array"
   ]
  },
  {
   "cell_type": "code",
   "execution_count": 24,
   "id": "a2954be9",
   "metadata": {},
   "outputs": [
    {
     "data": {
      "text/plain": [
       "array([[[ 1,  2,  3],\n",
       "        [ 4,  5,  6]],\n",
       "\n",
       "       [[ 7,  8,  9],\n",
       "        [10, 11, 12]]])"
      ]
     },
     "execution_count": 24,
     "metadata": {},
     "output_type": "execute_result"
    }
   ],
   "source": [
    "C[: ,: , :]"
   ]
  },
  {
   "cell_type": "markdown",
   "id": "dd72180d",
   "metadata": {},
   "source": [
    "###### Task2: Let's slice only first(1) matrix in 3-D array "
   ]
  },
  {
   "cell_type": "code",
   "execution_count": 26,
   "id": "98661b79",
   "metadata": {},
   "outputs": [
    {
     "data": {
      "text/plain": [
       "array([[[1, 2, 3],\n",
       "        [4, 5, 6]]])"
      ]
     },
     "execution_count": 26,
     "metadata": {},
     "output_type": "execute_result"
    }
   ],
   "source": [
    "C[0:1, :, :]   #Here 1 is exclusive that means, it will not include the 1th index matxix."
   ]
  },
  {
   "cell_type": "markdown",
   "id": "066cc391",
   "metadata": {},
   "source": [
    "###### Task3: Let#s get the 0th column in all matrix"
   ]
  },
  {
   "cell_type": "code",
   "execution_count": 28,
   "id": "9a479939",
   "metadata": {},
   "outputs": [
    {
     "data": {
      "text/plain": [
       "array([[[ 1],\n",
       "        [ 4]],\n",
       "\n",
       "       [[ 7],\n",
       "        [10]]])"
      ]
     },
     "execution_count": 28,
     "metadata": {},
     "output_type": "execute_result"
    }
   ],
   "source": [
    "C[: , : , 0:1]"
   ]
  },
  {
   "cell_type": "raw",
   "id": "61edffa7",
   "metadata": {},
   "source": [
    "Here, we want to all two matrices so used this colon notation \"[:]\" specifying every matrix and all rows present but only 0th column and 1 is exclusive here."
   ]
  },
  {
   "cell_type": "markdown",
   "id": "2a744884",
   "metadata": {},
   "source": [
    "# View Vs. Copy in Numpy"
   ]
  },
  {
   "cell_type": "raw",
   "id": "ce7f656d",
   "metadata": {},
   "source": [
    "Note:\n",
    "1. Changes made to view will affect to original array, whereas changes made to the copy will not affect the original array.\n",
    "2. View is just the view of original array and copy is like creating a new array. "
   ]
  },
  {
   "cell_type": "markdown",
   "id": "be81fcd3",
   "metadata": {},
   "source": [
    "importing Numpy package"
   ]
  },
  {
   "cell_type": "code",
   "execution_count": 47,
   "id": "d3973960",
   "metadata": {},
   "outputs": [],
   "source": [
    "import numpy as np"
   ]
  },
  {
   "cell_type": "markdown",
   "id": "8e3c1533",
   "metadata": {},
   "source": [
    "###### Let's understand the functionality of view()"
   ]
  },
  {
   "cell_type": "raw",
   "id": "89b9bd2b",
   "metadata": {},
   "source": [
    "# Note: view does not owns the data."
   ]
  },
  {
   "cell_type": "code",
   "execution_count": 27,
   "id": "dbb9f9f5",
   "metadata": {},
   "outputs": [
    {
     "name": "stdout",
     "output_type": "stream",
     "text": [
      "[10 20 30 40]\n"
     ]
    }
   ],
   "source": [
    "arr1 = np.array([10, 20, 30 ,40])\n",
    "print(arr1)"
   ]
  },
  {
   "cell_type": "code",
   "execution_count": 28,
   "id": "8a05cd18",
   "metadata": {},
   "outputs": [],
   "source": [
    "arr2 = arr1.view()\n",
    "arr2[1]= 1000"
   ]
  },
  {
   "cell_type": "code",
   "execution_count": 29,
   "id": "2de9cd3d",
   "metadata": {},
   "outputs": [
    {
     "name": "stdout",
     "output_type": "stream",
     "text": [
      "[  10 1000   30   40]\n"
     ]
    }
   ],
   "source": [
    "print(arr2)"
   ]
  },
  {
   "cell_type": "code",
   "execution_count": 30,
   "id": "3e3a71e4",
   "metadata": {},
   "outputs": [
    {
     "name": "stdout",
     "output_type": "stream",
     "text": [
      "[  10 1000   30   40]\n"
     ]
    }
   ],
   "source": [
    "print(arr1)  #Here we can clearly see that changes made in arr2 got reflected in arr1."
   ]
  },
  {
   "cell_type": "code",
   "execution_count": 31,
   "id": "b450e651",
   "metadata": {},
   "outputs": [
    {
     "data": {
      "text/plain": [
       "True"
      ]
     },
     "execution_count": 31,
     "metadata": {},
     "output_type": "execute_result"
    }
   ],
   "source": [
    "#Check memory share between arr1 and arr2\n",
    "np.shares_memory(arr1, arr2)"
   ]
  },
  {
   "cell_type": "markdown",
   "id": "8d059e07",
   "metadata": {},
   "source": [
    "###### Let#s understand the functionality of copy."
   ]
  },
  {
   "cell_type": "code",
   "execution_count": 23,
   "id": "80c593cf",
   "metadata": {},
   "outputs": [
    {
     "name": "stdout",
     "output_type": "stream",
     "text": [
      "[10 20 30 40]\n"
     ]
    }
   ],
   "source": [
    "arr1 = np.array([10, 20, 30, 40])\n",
    "print(arr1)"
   ]
  },
  {
   "cell_type": "code",
   "execution_count": 24,
   "id": "aabf10bb",
   "metadata": {},
   "outputs": [
    {
     "name": "stdout",
     "output_type": "stream",
     "text": [
      "[  10 1000   30   40]\n"
     ]
    }
   ],
   "source": [
    "arr2 = arr1.copy()\n",
    "arr2[1] = 1000\n",
    "print(arr2)"
   ]
  },
  {
   "cell_type": "code",
   "execution_count": 25,
   "id": "3eec44b4",
   "metadata": {},
   "outputs": [
    {
     "data": {
      "text/plain": [
       "False"
      ]
     },
     "execution_count": 25,
     "metadata": {},
     "output_type": "execute_result"
    }
   ],
   "source": [
    "#Check memory share between arr1 and arr2\n",
    "np.shares_memory(arr1, arr2)"
   ]
  },
  {
   "cell_type": "code",
   "execution_count": 26,
   "id": "6436a80d",
   "metadata": {},
   "outputs": [
    {
     "name": "stdout",
     "output_type": "stream",
     "text": [
      "[10 20 30 40]\n"
     ]
    }
   ],
   "source": [
    "print(arr1) #' we can crealy see that changes made in arr2 not at all reflected in arr1'\n",
    "            # This show that by using \"copy()\" we can completly owns the data."
   ]
  },
  {
   "cell_type": "code",
   "execution_count": 33,
   "id": "763117ff",
   "metadata": {},
   "outputs": [
    {
     "data": {
      "text/plain": [
       "array([ True,  True,  True,  True])"
      ]
     },
     "execution_count": 33,
     "metadata": {},
     "output_type": "execute_result"
    }
   ],
   "source": [
    "# Check if every element in array a greater than 3 or not Using '>' notation\n",
    "arr1 > 3"
   ]
  },
  {
   "cell_type": "code",
   "execution_count": 34,
   "id": "9c11ce66",
   "metadata": {},
   "outputs": [
    {
     "data": {
      "text/plain": [
       "array([ True,  True,  True,  True])"
      ]
     },
     "execution_count": 34,
     "metadata": {},
     "output_type": "execute_result"
    }
   ],
   "source": [
    "# check if each elements in array 'arr1' equals array 'arr2' using '==' notation\n",
    "arr1==arr2"
   ]
  },
  {
   "cell_type": "markdown",
   "id": "0903c23f",
   "metadata": {},
   "source": [
    "# The Difference Between Copy and View"
   ]
  },
  {
   "cell_type": "raw",
   "id": "b265f0a1",
   "metadata": {},
   "source": [
    "The main difference between a copy and a view of an array is that the copy is a new array, and the view is just a view of the original array.\n",
    "\n",
    "The copy owns the data and any changes made to the copy will not affect original array, and any changes made to the original array will not affect the copy.\n",
    "\n",
    "The view does not own the data and any changes made to the view will affect the original array, and any changes made to the original array will affect the view."
   ]
  },
  {
   "cell_type": "markdown",
   "id": "dab8f6dc",
   "metadata": {},
   "source": [
    "# Check if Array Owns its Data"
   ]
  },
  {
   "cell_type": "raw",
   "id": "cb3ea424",
   "metadata": {},
   "source": [
    "As mentioned above, copies owns the data, and views does not own the data, but how can we check this?\n",
    "\n",
    "Every NumPy array has the attribute \"base\" that returns None if the array owns the data.\n",
    "\n",
    "Otherwise, the base  attribute refers to the original object."
   ]
  },
  {
   "cell_type": "code",
   "execution_count": 2,
   "id": "49d18f0f",
   "metadata": {},
   "outputs": [
    {
     "name": "stdout",
     "output_type": "stream",
     "text": [
      "None\n",
      "[1 2 3 4 5]\n"
     ]
    }
   ],
   "source": [
    "#Print the value of the base attribute to check if an array owns it's data or not:\n",
    "\n",
    "import numpy as np\n",
    "\n",
    "arr = np.array([1, 2, 3, 4, 5])\n",
    "\n",
    "x = arr.copy()\n",
    "y = arr.view()\n",
    "\n",
    "print(x.base)\n",
    "print(y.base)"
   ]
  },
  {
   "cell_type": "markdown",
   "id": "3a1ace09",
   "metadata": {},
   "source": [
    "# Joining Arrays Using Stack Functions\n",
    "\n",
    "Stacking is same as concatenation, the only difference is that stacking is done along a new axis.\n",
    "\n",
    "We can concatenate two 1-D arrays along the second axis which would result in putting them one over the other, ie. stacking.\n",
    "\n",
    "We pass a sequence of arrays that we want to join to the stack() method along with the axis. If axis is not explicitly passed it is taken as 0."
   ]
  },
  {
   "cell_type": "code",
   "execution_count": 56,
   "id": "62a4b773",
   "metadata": {},
   "outputs": [
    {
     "name": "stdout",
     "output_type": "stream",
     "text": [
      "[[1 4]\n",
      " [2 5]\n",
      " [3 6]]\n"
     ]
    }
   ],
   "source": [
    "import numpy as np\n",
    "\n",
    "arr1 = np.array([1, 2, 3])\n",
    "\n",
    "arr2 = np.array([4, 5, 6])\n",
    "\n",
    "arr = np.stack((arr1, arr2), axis=1)\n",
    "\n",
    "print(arr)"
   ]
  },
  {
   "cell_type": "raw",
   "id": "07a577a0",
   "metadata": {},
   "source": [
    "In pandas axis = 0 refers to horizontal axis or rows and axis = 1 refers to vertical axis or columns"
   ]
  },
  {
   "cell_type": "markdown",
   "id": "284213c8",
   "metadata": {},
   "source": [
    "# Hstack Vs Vstack"
   ]
  },
  {
   "cell_type": "markdown",
   "id": "5c9ca8e8",
   "metadata": {},
   "source": [
    "Note:\n",
    "    1. Hstack is used to join two arrays Horizontally.\n",
    "    2. Vstack is used to join two arrays Vertically."
   ]
  },
  {
   "cell_type": "code",
   "execution_count": 58,
   "id": "167c81f8",
   "metadata": {},
   "outputs": [],
   "source": [
    "import numpy as np"
   ]
  },
  {
   "cell_type": "markdown",
   "id": "6d11a23c",
   "metadata": {},
   "source": [
    "###### Performing Hstack  : Stacking Along Rows"
   ]
  },
  {
   "cell_type": "code",
   "execution_count": 63,
   "id": "0997423e",
   "metadata": {},
   "outputs": [
    {
     "name": "stdout",
     "output_type": "stream",
     "text": [
      "a: [1 2 3]\n",
      "Dimension of a: 1\n",
      "b: [4 5 6]\n",
      "Dimension of b: 1\n"
     ]
    }
   ],
   "source": [
    "a = np.array([1, 2, 3])\n",
    "b = np.array([4, 5, 6])\n",
    "print(\"a: {}\".format(a))\n",
    "print(\"Dimension of a:\", a.ndim)\n",
    "\n",
    "print(\"b: {}\".format(b))\n",
    "print(\"Dimension of b:\", b.ndim)"
   ]
  },
  {
   "cell_type": "code",
   "execution_count": 64,
   "id": "235ddfe6",
   "metadata": {},
   "outputs": [
    {
     "name": "stdout",
     "output_type": "stream",
     "text": [
      "c: [1 2 3 4 5 6]\n",
      "Dimension of c: 1\n"
     ]
    }
   ],
   "source": [
    "c = np.hstack((a,b))\n",
    "print(\"c: {}\".format(c))\n",
    "print(\"Dimension of c:\", c.ndim)"
   ]
  },
  {
   "cell_type": "markdown",
   "id": "7e26f640",
   "metadata": {},
   "source": [
    "###### Performing Vstack  : Stacking Along Columns"
   ]
  },
  {
   "cell_type": "code",
   "execution_count": 61,
   "id": "0d9ce6e0",
   "metadata": {},
   "outputs": [
    {
     "name": "stdout",
     "output_type": "stream",
     "text": [
      "a: [1 2 3]\n",
      "Dimension of a: 1\n",
      "b: [4 5 6]\n",
      "Dimension of b: 1\n"
     ]
    }
   ],
   "source": [
    "a = np.array([1, 2, 3])\n",
    "b = np.array([4, 5, 6])\n",
    "print(\"a: {}\".format(a))\n",
    "print(\"Dimension of a:\", a.ndim)\n",
    "\n",
    "print(\"b: {}\".format(b))\n",
    "print(\"Dimension of b:\", b.ndim)"
   ]
  },
  {
   "cell_type": "code",
   "execution_count": 62,
   "id": "009219a7",
   "metadata": {},
   "outputs": [
    {
     "name": "stdout",
     "output_type": "stream",
     "text": [
      "c: [[1 2 3]\n",
      " [4 5 6]]\n",
      "Dimension of c: 2\n"
     ]
    }
   ],
   "source": [
    "c = np.vstack((a,b))\n",
    "print(\"c: {}\".format(c))\n",
    "print(\"Dimension of c:\", c.ndim)"
   ]
  },
  {
   "cell_type": "markdown",
   "id": "c09aaef6",
   "metadata": {},
   "source": [
    "# Stacking Along Height (depth)\n",
    "\n",
    "NumPy provides a helper function: dstack() to stack along height, which is the same as depth."
   ]
  },
  {
   "cell_type": "code",
   "execution_count": 67,
   "id": "82dbc8da",
   "metadata": {},
   "outputs": [
    {
     "name": "stdout",
     "output_type": "stream",
     "text": [
      "[[[1 4 7]\n",
      "  [2 5 8]\n",
      "  [3 6 9]]]\n"
     ]
    }
   ],
   "source": [
    "import numpy as np\n",
    "\n",
    "arr1 = np.array([1, 2, 3])\n",
    "\n",
    "arr2 = np.array([4, 5, 6])\n",
    "arr3 = np.array([7, 8, 9])\n",
    "arr = np.dstack((arr1, arr2, arr3))\n",
    "\n",
    "print(arr)"
   ]
  },
  {
   "cell_type": "markdown",
   "id": "9da35101",
   "metadata": {},
   "source": [
    "# Numpy Concatenation"
   ]
  },
  {
   "cell_type": "raw",
   "id": "6ab78ac4",
   "metadata": {},
   "source": [
    "Joining means putting contents of two or more arrays in a single array.\n",
    "\n",
    "In SQL we join tables based on a key, whereas in NumPy we join arrays by axes.\n",
    "\n",
    "We pass a sequence of arrays that we want to join to the concatenate() function, along with the axis. If axis is not explicitly passed, it is taken as 0"
   ]
  },
  {
   "cell_type": "raw",
   "id": "3b8c5aaa",
   "metadata": {},
   "source": [
    "Importing Numpy Library"
   ]
  },
  {
   "cell_type": "code",
   "execution_count": 68,
   "id": "c7865200",
   "metadata": {},
   "outputs": [],
   "source": [
    "import numpy as np"
   ]
  },
  {
   "cell_type": "markdown",
   "id": "a7c0a9e9",
   "metadata": {},
   "source": [
    "##### Creating Numpy array"
   ]
  },
  {
   "cell_type": "raw",
   "id": "4fe02003",
   "metadata": {},
   "source": [
    ". Array A"
   ]
  },
  {
   "cell_type": "code",
   "execution_count": 3,
   "id": "7ff8f97f",
   "metadata": {},
   "outputs": [
    {
     "name": "stdout",
     "output_type": "stream",
     "text": [
      "[[1 2]\n",
      " [4 5]]\n",
      "(2, 2)\n"
     ]
    }
   ],
   "source": [
    "a = [[1, 2], [4, 5]]\n",
    "A = np.array(a)\n",
    "print(A)\n",
    "print(A.shape)"
   ]
  },
  {
   "cell_type": "raw",
   "id": "a714961a",
   "metadata": {},
   "source": [
    ". Array B"
   ]
  },
  {
   "cell_type": "code",
   "execution_count": 4,
   "id": "b423c233",
   "metadata": {},
   "outputs": [
    {
     "name": "stdout",
     "output_type": "stream",
     "text": [
      "[[7]\n",
      " [8]]\n",
      "(2, 1)\n"
     ]
    }
   ],
   "source": [
    "b = [[7], [8]]\n",
    "B = np.array(b)\n",
    "print(B)\n",
    "print(B.shape)"
   ]
  },
  {
   "cell_type": "raw",
   "id": "ccd8e611",
   "metadata": {},
   "source": [
    ".Array C"
   ]
  },
  {
   "cell_type": "code",
   "execution_count": 5,
   "id": "5136726f",
   "metadata": {},
   "outputs": [
    {
     "name": "stdout",
     "output_type": "stream",
     "text": [
      "[[ 9 10]]\n",
      "(1, 2)\n"
     ]
    }
   ],
   "source": [
    "c = [[9, 10]]\n",
    "C = np.array(c)\n",
    "print(C)\n",
    "print(C.shape)"
   ]
  },
  {
   "cell_type": "markdown",
   "id": "4d064b44",
   "metadata": {},
   "source": [
    "#### Note:\n",
    "    1. When axis = 0, Both concatenating arrays should have the same numbers of columns.[Think            like adding a new row]\n",
    "    \n",
    "    2. When axis = 1, Both concatenating arrays should have the same number of rows.(Think like          adding a new column]"
   ]
  },
  {
   "cell_type": "raw",
   "id": "58ba9f22",
   "metadata": {},
   "source": [
    "Let's concatenate A and C"
   ]
  },
  {
   "cell_type": "code",
   "execution_count": 6,
   "id": "82523d5b",
   "metadata": {},
   "outputs": [
    {
     "name": "stdout",
     "output_type": "stream",
     "text": [
      "(2, 2)\n"
     ]
    }
   ],
   "source": [
    "print(A.shape)"
   ]
  },
  {
   "cell_type": "code",
   "execution_count": 7,
   "id": "936abd2f",
   "metadata": {},
   "outputs": [
    {
     "name": "stdout",
     "output_type": "stream",
     "text": [
      "(1, 2)\n"
     ]
    }
   ],
   "source": [
    "print(C.shape)"
   ]
  },
  {
   "cell_type": "raw",
   "id": "5a28abbd",
   "metadata": {},
   "source": [
    "Here we have same number of columns."
   ]
  },
  {
   "cell_type": "code",
   "execution_count": 8,
   "id": "ad5aa59f",
   "metadata": {},
   "outputs": [
    {
     "name": "stdout",
     "output_type": "stream",
     "text": [
      "[[ 1  2]\n",
      " [ 4  5]\n",
      " [ 9 10]]\n",
      "(3, 2)\n"
     ]
    }
   ],
   "source": [
    "D = np.concatenate((A, C), axis = 0)\n",
    "print(D)\n",
    "print(D.shape)   #Observation: Works similar to np.vstack()"
   ]
  },
  {
   "cell_type": "raw",
   "id": "becdfef1",
   "metadata": {},
   "source": [
    "Let's concatenate A and B"
   ]
  },
  {
   "cell_type": "code",
   "execution_count": 9,
   "id": "a1460576",
   "metadata": {},
   "outputs": [
    {
     "name": "stdout",
     "output_type": "stream",
     "text": [
      "(2, 2)\n"
     ]
    }
   ],
   "source": [
    "print(A.shape)"
   ]
  },
  {
   "cell_type": "code",
   "execution_count": 10,
   "id": "ddcbfbfc",
   "metadata": {},
   "outputs": [
    {
     "name": "stdout",
     "output_type": "stream",
     "text": [
      "(2, 1)\n"
     ]
    }
   ],
   "source": [
    "print(B.shape)"
   ]
  },
  {
   "cell_type": "raw",
   "id": "5bcf9ddb",
   "metadata": {},
   "source": [
    "Here we have same number of rows"
   ]
  },
  {
   "cell_type": "code",
   "execution_count": 11,
   "id": "fa4698ad",
   "metadata": {},
   "outputs": [
    {
     "name": "stdout",
     "output_type": "stream",
     "text": [
      "[[1 2 7]\n",
      " [4 5 8]]\n",
      "(2, 3)\n"
     ]
    }
   ],
   "source": [
    "E = np.concatenate((A, B), axis = 1)\n",
    "print(E)\n",
    "print(E.shape)   #Observation: Works similar to np.vstack()"
   ]
  },
  {
   "cell_type": "markdown",
   "id": "1a9dbf3b",
   "metadata": {},
   "source": [
    "# Finally\n",
    "\n",
    "Note: When you tried to add arrays of different rows with axis = 1 we will get error."
   ]
  },
  {
   "cell_type": "markdown",
   "id": "8c2734f9",
   "metadata": {},
   "source": [
    "#### Different columns:"
   ]
  },
  {
   "cell_type": "code",
   "execution_count": 12,
   "id": "fb561da9",
   "metadata": {},
   "outputs": [
    {
     "name": "stdout",
     "output_type": "stream",
     "text": [
      "(2, 2)\n",
      "(1, 2)\n"
     ]
    }
   ],
   "source": [
    "print(A.shape)\n",
    "print(C.shape)"
   ]
  },
  {
   "cell_type": "code",
   "execution_count": 13,
   "id": "3fd38c54",
   "metadata": {},
   "outputs": [
    {
     "ename": "ValueError",
     "evalue": "all the input array dimensions except for the concatenation axis must match exactly, but along dimension 0, the array at index 0 has size 2 and the array at index 1 has size 1",
     "output_type": "error",
     "traceback": [
      "\u001b[1;31m---------------------------------------------------------------------------\u001b[0m",
      "\u001b[1;31mValueError\u001b[0m                                Traceback (most recent call last)",
      "Cell \u001b[1;32mIn[13], line 1\u001b[0m\n\u001b[1;32m----> 1\u001b[0m F \u001b[38;5;241m=\u001b[39m \u001b[43mnp\u001b[49m\u001b[38;5;241;43m.\u001b[39;49m\u001b[43mconcatenate\u001b[49m\u001b[43m(\u001b[49m\u001b[43m(\u001b[49m\u001b[43mA\u001b[49m\u001b[43m,\u001b[49m\u001b[43m \u001b[49m\u001b[43mc\u001b[49m\u001b[43m)\u001b[49m\u001b[43m,\u001b[49m\u001b[43m \u001b[49m\u001b[43maxis\u001b[49m\u001b[43m \u001b[49m\u001b[38;5;241;43m=\u001b[39;49m\u001b[43m \u001b[49m\u001b[38;5;241;43m1\u001b[39;49m\u001b[43m)\u001b[49m\n\u001b[0;32m      2\u001b[0m \u001b[38;5;28mprint\u001b[39m(F)\n\u001b[0;32m      3\u001b[0m \u001b[38;5;28mprint\u001b[39m(F\u001b[38;5;241m.\u001b[39mshape)\n",
      "File \u001b[1;32m<__array_function__ internals>:200\u001b[0m, in \u001b[0;36mconcatenate\u001b[1;34m(*args, **kwargs)\u001b[0m\n",
      "\u001b[1;31mValueError\u001b[0m: all the input array dimensions except for the concatenation axis must match exactly, but along dimension 0, the array at index 0 has size 2 and the array at index 1 has size 1"
     ]
    }
   ],
   "source": [
    "F = np.concatenate((A, c), axis = 1)\n",
    "print(F)\n",
    "print(F.shape)"
   ]
  },
  {
   "cell_type": "raw",
   "id": "01ee4ec1",
   "metadata": {},
   "source": [
    "while concatenating arrays of different columns"
   ]
  },
  {
   "cell_type": "code",
   "execution_count": 81,
   "id": "78b29db2",
   "metadata": {},
   "outputs": [
    {
     "name": "stdout",
     "output_type": "stream",
     "text": [
      "(2, 2)\n",
      "(2, 1)\n"
     ]
    }
   ],
   "source": [
    "print(A.shape)\n",
    "print(B.shape)"
   ]
  },
  {
   "cell_type": "code",
   "execution_count": 83,
   "id": "f8e25c5f",
   "metadata": {},
   "outputs": [
    {
     "ename": "ValueError",
     "evalue": "all the input array dimensions for the concatenation axis must match exactly, but along dimension 1, the array at index 0 has size 2 and the array at index 1 has size 1",
     "output_type": "error",
     "traceback": [
      "\u001b[1;31m---------------------------------------------------------------------------\u001b[0m",
      "\u001b[1;31mValueError\u001b[0m                                Traceback (most recent call last)",
      "\u001b[1;32m~\\AppData\\Local\\Temp\\ipykernel_7744\\490330434.py\u001b[0m in \u001b[0;36m<module>\u001b[1;34m\u001b[0m\n\u001b[1;32m----> 1\u001b[1;33m \u001b[0mG\u001b[0m \u001b[1;33m=\u001b[0m \u001b[0mnp\u001b[0m\u001b[1;33m.\u001b[0m\u001b[0mconcatenate\u001b[0m\u001b[1;33m(\u001b[0m\u001b[1;33m(\u001b[0m\u001b[0mA\u001b[0m\u001b[1;33m,\u001b[0m \u001b[0mB\u001b[0m\u001b[1;33m)\u001b[0m\u001b[1;33m,\u001b[0m \u001b[0maxis\u001b[0m \u001b[1;33m=\u001b[0m \u001b[1;36m0\u001b[0m\u001b[1;33m)\u001b[0m\u001b[1;33m\u001b[0m\u001b[1;33m\u001b[0m\u001b[0m\n\u001b[0m\u001b[0;32m      2\u001b[0m \u001b[0mprint\u001b[0m\u001b[1;33m(\u001b[0m\u001b[0mG\u001b[0m\u001b[1;33m)\u001b[0m\u001b[1;33m\u001b[0m\u001b[1;33m\u001b[0m\u001b[0m\n\u001b[0;32m      3\u001b[0m \u001b[0mprint\u001b[0m\u001b[1;33m(\u001b[0m\u001b[0mG\u001b[0m\u001b[1;33m.\u001b[0m\u001b[0mshape\u001b[0m\u001b[1;33m)\u001b[0m\u001b[1;33m\u001b[0m\u001b[1;33m\u001b[0m\u001b[0m\n",
      "\u001b[1;32m<__array_function__ internals>\u001b[0m in \u001b[0;36mconcatenate\u001b[1;34m(*args, **kwargs)\u001b[0m\n",
      "\u001b[1;31mValueError\u001b[0m: all the input array dimensions for the concatenation axis must match exactly, but along dimension 1, the array at index 0 has size 2 and the array at index 1 has size 1"
     ]
    }
   ],
   "source": [
    "G = np.concatenate((A, B), axis = 0)\n",
    "print(G)\n",
    "print(G.shape)"
   ]
  },
  {
   "cell_type": "markdown",
   "id": "defee0b1",
   "metadata": {},
   "source": [
    "# Insert, Append and Delete Numpy Array"
   ]
  },
  {
   "cell_type": "raw",
   "id": "f1d08817",
   "metadata": {},
   "source": [
    "Importing Numpy Array"
   ]
  },
  {
   "cell_type": "markdown",
   "id": "3311e765",
   "metadata": {},
   "source": [
    "## Appending"
   ]
  },
  {
   "cell_type": "code",
   "execution_count": 14,
   "id": "d6b2f0d7",
   "metadata": {},
   "outputs": [
    {
     "name": "stdout",
     "output_type": "stream",
     "text": [
      "[1 2 3 4 5]\n"
     ]
    }
   ],
   "source": [
    "#Let's create new array\n",
    "a = [1, 2, 3, 4, 5]\n",
    "arr = np.array(a)\n",
    "print(arr)"
   ]
  },
  {
   "cell_type": "raw",
   "id": "6504bf9e",
   "metadata": {},
   "source": [
    "Let's append the 45 to the array"
   ]
  },
  {
   "cell_type": "code",
   "execution_count": 15,
   "id": "be00e91e",
   "metadata": {},
   "outputs": [
    {
     "data": {
      "text/plain": [
       "array([ 1,  2,  3,  4,  5, 45])"
      ]
     },
     "execution_count": 15,
     "metadata": {},
     "output_type": "execute_result"
    }
   ],
   "source": [
    "np.append(arr, 45)"
   ]
  },
  {
   "cell_type": "raw",
   "id": "5d3fe4ba",
   "metadata": {},
   "source": [
    "Let's append the multiple value to array"
   ]
  },
  {
   "cell_type": "code",
   "execution_count": 16,
   "id": "bec84e32",
   "metadata": {},
   "outputs": [
    {
     "data": {
      "text/plain": [
       "array([  1,   2,   3,   4,   5, 100, 150,  80])"
      ]
     },
     "execution_count": 16,
     "metadata": {},
     "output_type": "execute_result"
    }
   ],
   "source": [
    "#While appending multiple values, make sure that you pass through the list only\n",
    "np.append(arr, [100, 150,80])"
   ]
  },
  {
   "cell_type": "raw",
   "id": "f1af4793",
   "metadata": {},
   "source": [
    "Note: np.append() does not update the original array. If you wnat the changes to include, make sure you create a new variable."
   ]
  },
  {
   "cell_type": "code",
   "execution_count": 17,
   "id": "255f180d",
   "metadata": {},
   "outputs": [
    {
     "name": "stdout",
     "output_type": "stream",
     "text": [
      "[1 2 3 4 5]\n"
     ]
    }
   ],
   "source": [
    "#'priting the original array'\n",
    "print(arr)"
   ]
  },
  {
   "cell_type": "code",
   "execution_count": 18,
   "id": "5339663a",
   "metadata": {},
   "outputs": [
    {
     "name": "stdout",
     "output_type": "stream",
     "text": [
      "[ 1  2  3  4  5 45]\n"
     ]
    }
   ],
   "source": [
    "b = np.append(arr, 45)\n",
    "print(b)"
   ]
  },
  {
   "cell_type": "code",
   "execution_count": 19,
   "id": "269a1fc6",
   "metadata": {},
   "outputs": [
    {
     "name": "stdout",
     "output_type": "stream",
     "text": [
      "[  1   2   3   4   5  45 100 150 180]\n"
     ]
    }
   ],
   "source": [
    "b = np.append(b, [100, 150, 180])\n",
    "print(b)"
   ]
  },
  {
   "cell_type": "raw",
   "id": "8ed6fad8",
   "metadata": {},
   "source": [
    "Here the changes are done permanently."
   ]
  },
  {
   "cell_type": "markdown",
   "id": "8c972948",
   "metadata": {},
   "source": [
    "# Insertion in 2-Dimensional Array"
   ]
  },
  {
   "cell_type": "code",
   "execution_count": 20,
   "id": "6c747d10",
   "metadata": {},
   "outputs": [
    {
     "name": "stdout",
     "output_type": "stream",
     "text": [
      "[[1 2 3]\n",
      " [4 5 6]\n",
      " [7 8 9]]\n"
     ]
    }
   ],
   "source": [
    "b = [[1, 2, 3], [4, 5, 6], [7, 8, 9]]\n",
    "arr2 = np.array(b)\n",
    "print(arr2)"
   ]
  },
  {
   "cell_type": "markdown",
   "id": "3e2e6d03",
   "metadata": {},
   "source": [
    "#### Adding new row to matrix "
   ]
  },
  {
   "cell_type": "markdown",
   "id": "6cc7d558",
   "metadata": {},
   "source": [
    "###### Need to mention axis = 0 for appending to the new rows"
   ]
  },
  {
   "cell_type": "code",
   "execution_count": 21,
   "id": "2ace9421",
   "metadata": {},
   "outputs": [
    {
     "name": "stdout",
     "output_type": "stream",
     "text": [
      "[[ 1  2  3]\n",
      " [ 4  5  6]\n",
      " [ 7  8  9]\n",
      " [10 11 12]]\n"
     ]
    }
   ],
   "source": [
    "arr3 = np.append(arr2, [[10, 11, 12]], axis = 0)\n",
    "print(arr3)"
   ]
  },
  {
   "cell_type": "markdown",
   "id": "75ef0e42",
   "metadata": {},
   "source": [
    "#### Adding new column to matrix"
   ]
  },
  {
   "cell_type": "markdown",
   "id": "5aff8b7e",
   "metadata": {},
   "source": [
    "###### Need to mention axis = 1 for appending to the new columns"
   ]
  },
  {
   "cell_type": "code",
   "execution_count": 22,
   "id": "92b5392f",
   "metadata": {},
   "outputs": [
    {
     "name": "stdout",
     "output_type": "stream",
     "text": [
      "[[ 1  2  3 10]\n",
      " [ 4  5  6 11]\n",
      " [ 7  8  9 12]]\n"
     ]
    }
   ],
   "source": [
    "arr4 = np.append(arr2, [[10], [11], [12]], axis = 1)\n",
    "\n",
    "print(arr4)"
   ]
  },
  {
   "cell_type": "markdown",
   "id": "640382e5",
   "metadata": {},
   "source": [
    "# Inserting Elements into Array"
   ]
  },
  {
   "cell_type": "raw",
   "id": "cf26ae62",
   "metadata": {},
   "source": [
    "one dimensional:\n",
    "\n",
    "General Format:\n",
    "\n",
    "(Array_name, index, value)"
   ]
  },
  {
   "cell_type": "code",
   "execution_count": 23,
   "id": "06438f1c",
   "metadata": {},
   "outputs": [
    {
     "name": "stdout",
     "output_type": "stream",
     "text": [
      "[1 2 3 4 5]\n"
     ]
    }
   ],
   "source": [
    "A = np.array([1, 2, 3, 4, 5])\n",
    "print(A)"
   ]
  },
  {
   "cell_type": "markdown",
   "id": "f0afed1e",
   "metadata": {},
   "source": [
    "#### Inserting -100 at first position of numpy array"
   ]
  },
  {
   "cell_type": "code",
   "execution_count": 24,
   "id": "9fb9df2e",
   "metadata": {},
   "outputs": [
    {
     "data": {
      "text/plain": [
       "array([   1, -100,    2,    3,    4,    5])"
      ]
     },
     "execution_count": 24,
     "metadata": {},
     "output_type": "execute_result"
    }
   ],
   "source": [
    "np.insert(A, 1, -100)"
   ]
  },
  {
   "cell_type": "raw",
   "id": "58d48904",
   "metadata": {},
   "source": [
    "Two Dimensional Array:\n",
    "\n",
    "General format:\n",
    "\n",
    "(Array_name,Index_to_add, value, axis)"
   ]
  },
  {
   "cell_type": "code",
   "execution_count": 25,
   "id": "ce47f144",
   "metadata": {},
   "outputs": [
    {
     "name": "stdout",
     "output_type": "stream",
     "text": [
      "[[1 2 3]\n",
      " [4 5 6]\n",
      " [7 8 9]]\n"
     ]
    }
   ],
   "source": [
    "b = [[1, 2, 3], [4, 5, 6], [7, 8, 9]]\n",
    "B = np.array(b)\n",
    "print(B)"
   ]
  },
  {
   "cell_type": "markdown",
   "id": "0e5a4e73",
   "metadata": {},
   "source": [
    "###### Inserting new Row at the first position of numpy matrix."
   ]
  },
  {
   "cell_type": "code",
   "execution_count": 26,
   "id": "b0211277",
   "metadata": {},
   "outputs": [
    {
     "data": {
      "text/plain": [
       "array([[  1,   2,   3],\n",
       "       [120, 140,  80],\n",
       "       [  4,   5,   6],\n",
       "       [  7,   8,   9]])"
      ]
     },
     "execution_count": 26,
     "metadata": {},
     "output_type": "execute_result"
    }
   ],
   "source": [
    "np.insert(B, 1, [120, 140, 80], axis = 0)"
   ]
  },
  {
   "cell_type": "markdown",
   "id": "0bf5ae08",
   "metadata": {},
   "source": [
    "###### Inserting new column at the first position of numpy matrix."
   ]
  },
  {
   "cell_type": "code",
   "execution_count": 27,
   "id": "1334da74",
   "metadata": {},
   "outputs": [
    {
     "data": {
      "text/plain": [
       "array([[  1,  12,   2,   3],\n",
       "       [  4,  14,   5,   6],\n",
       "       [  7, 180,   8,   9]])"
      ]
     },
     "execution_count": 27,
     "metadata": {},
     "output_type": "execute_result"
    }
   ],
   "source": [
    "np.insert(B, 1, [12, 14, 180], axis = 1)"
   ]
  },
  {
   "cell_type": "markdown",
   "id": "cf60c4d2",
   "metadata": {},
   "source": [
    "# Deletion"
   ]
  },
  {
   "cell_type": "markdown",
   "id": "cda93ad5",
   "metadata": {},
   "source": [
    "###### One Dimensional array"
   ]
  },
  {
   "cell_type": "raw",
   "id": "c529cf71",
   "metadata": {},
   "source": [
    "General Format:\n",
    "    (Array_name, index_to_delet)"
   ]
  },
  {
   "cell_type": "code",
   "execution_count": 28,
   "id": "6f54332b",
   "metadata": {},
   "outputs": [
    {
     "name": "stdout",
     "output_type": "stream",
     "text": [
      "[1 2 3 4 5]\n"
     ]
    }
   ],
   "source": [
    "A = np.array([1, 2, 3, 4, 5])\n",
    "print(A)"
   ]
  },
  {
   "cell_type": "markdown",
   "id": "5e74b10f",
   "metadata": {},
   "source": [
    "###### Let's delete the element which is presend at 2nd index"
   ]
  },
  {
   "cell_type": "code",
   "execution_count": 29,
   "id": "395d9181",
   "metadata": {},
   "outputs": [
    {
     "data": {
      "text/plain": [
       "array([1, 2, 4, 5])"
      ]
     },
     "execution_count": 29,
     "metadata": {},
     "output_type": "execute_result"
    }
   ],
   "source": [
    "np.delete(A, 2)"
   ]
  },
  {
   "cell_type": "raw",
   "id": "718cb976",
   "metadata": {},
   "source": [
    "# Two Dimensional Array\n",
    "\n",
    "General format: (Array_name, which_row_column_delete, axis)\n",
    "\n",
    "axis = 0 for rows\n",
    "axis = 1 for coulmns\n"
   ]
  },
  {
   "cell_type": "code",
   "execution_count": 30,
   "id": "39b87f2b",
   "metadata": {},
   "outputs": [
    {
     "name": "stdout",
     "output_type": "stream",
     "text": [
      "[[1 2 3]\n",
      " [4 5 6]\n",
      " [7 8 9]]\n"
     ]
    }
   ],
   "source": [
    "b = [[1, 2, 3], [4, 5, 6], [7, 8, 9]]\n",
    "B = np.array(b)\n",
    "print(B)"
   ]
  },
  {
   "cell_type": "raw",
   "id": "54ad35d7",
   "metadata": {},
   "source": [
    "Let's delete the 2nd row in matrix B"
   ]
  },
  {
   "cell_type": "code",
   "execution_count": 31,
   "id": "1de7bfa4",
   "metadata": {},
   "outputs": [
    {
     "data": {
      "text/plain": [
       "array([[1, 2, 3],\n",
       "       [7, 8, 9]])"
      ]
     },
     "execution_count": 31,
     "metadata": {},
     "output_type": "execute_result"
    }
   ],
   "source": [
    "np.delete(b, 1, axis = 0)"
   ]
  },
  {
   "cell_type": "raw",
   "id": "5082dfae",
   "metadata": {},
   "source": [
    "Let's delete the 2nd column in matrix B"
   ]
  },
  {
   "cell_type": "code",
   "execution_count": 32,
   "id": "d9681b40",
   "metadata": {},
   "outputs": [
    {
     "data": {
      "text/plain": [
       "array([[1, 3],\n",
       "       [4, 6],\n",
       "       [7, 9]])"
      ]
     },
     "execution_count": 32,
     "metadata": {},
     "output_type": "execute_result"
    }
   ],
   "source": [
    "np.delete(b, 1, axis = 1)"
   ]
  },
  {
   "cell_type": "markdown",
   "id": "f27448f5",
   "metadata": {},
   "source": [
    "# Lopping over array and stacking/splitting of arrays"
   ]
  },
  {
   "cell_type": "code",
   "execution_count": 33,
   "id": "5be85a3d",
   "metadata": {},
   "outputs": [],
   "source": [
    "import numpy as np"
   ]
  },
  {
   "cell_type": "code",
   "execution_count": 34,
   "id": "5b2eed27",
   "metadata": {},
   "outputs": [
    {
     "name": "stdout",
     "output_type": "stream",
     "text": [
      "[1 2 3]\n",
      "[4 5 6]\n"
     ]
    }
   ],
   "source": [
    "arr = np.array([[1, 2, 3], [4, 5, 6]])\n",
    "for x in arr:\n",
    "    print(x)"
   ]
  },
  {
   "cell_type": "code",
   "execution_count": 35,
   "id": "6ad11d66",
   "metadata": {},
   "outputs": [
    {
     "name": "stdout",
     "output_type": "stream",
     "text": [
      "1\n",
      "2\n",
      "3\n",
      "4\n",
      "5\n",
      "6\n"
     ]
    }
   ],
   "source": [
    "arr = np.array([[1, 2, 3], [4, 5, 6]])\n",
    "for x in arr: #x denotes the every list as a songle item\n",
    "    for y in x:  #denotes the each elements of each item or list or x.\n",
    "        print(y)"
   ]
  },
  {
   "cell_type": "code",
   "execution_count": 36,
   "id": "0700551a",
   "metadata": {},
   "outputs": [
    {
     "name": "stdout",
     "output_type": "stream",
     "text": [
      "[[1 2 3]\n",
      " [4 5 6]]\n",
      "[[ 7  8  9]\n",
      " [10 11 12]]\n"
     ]
    }
   ],
   "source": [
    "arr = np.array([[[1, 2, 3], [4, 5, 6]], [[7, 8, 9], [10, 11, 12]]])\n",
    "for x in arr:\n",
    "    print(x)"
   ]
  },
  {
   "cell_type": "code",
   "execution_count": 37,
   "id": "41d64e6c",
   "metadata": {},
   "outputs": [
    {
     "name": "stdout",
     "output_type": "stream",
     "text": [
      "1\n",
      "2\n",
      "3\n",
      "4\n",
      "5\n",
      "6\n",
      "7\n",
      "8\n",
      "9\n",
      "10\n",
      "11\n",
      "12\n"
     ]
    }
   ],
   "source": [
    "arr = np.array([[[1, 2, 3], [4, 5, 6]], [[7, 8, 9], [10, 11, 12]]])\n",
    "for x in arr:   #here x denotes the each two dimensional array\n",
    "    for y in x:   #here y denote the each one dimensional array\n",
    "        for z in y:  #here z denotes the each elements of list members\n",
    "           \n",
    "            print(z)\n",
    "\n"
   ]
  },
  {
   "cell_type": "markdown",
   "id": "21f3aafd",
   "metadata": {},
   "source": [
    "# Transpose:\n",
    "    "
   ]
  },
  {
   "cell_type": "code",
   "execution_count": 38,
   "id": "67ef43f2",
   "metadata": {},
   "outputs": [
    {
     "name": "stdout",
     "output_type": "stream",
     "text": [
      "arr1 before transpose: \n",
      " [[1 2 3]\n",
      " [4 5 6]]\n",
      "(2, 3)\n",
      "2\n",
      "arr1 after transpose: \n",
      " [[1 4]\n",
      " [2 5]\n",
      " [3 6]]\n",
      "(3, 2, 2)\n",
      "3\n"
     ]
    }
   ],
   "source": [
    "arr1 = np.array([[1, 2, 3], [4, 5, 6]])\n",
    "\n",
    "print('arr1 before transpose: \\n', arr1)\n",
    "print(arr1.shape)\n",
    "print(arr1.ndim)\n",
    "print('arr1 after transpose: \\n', arr1.T)\n",
    "print(arr.T.shape)   \n",
    "print(arr.T.ndim)\n",
    "#before transpose: (2, 3) ---> (3, 2)"
   ]
  },
  {
   "cell_type": "code",
   "execution_count": 39,
   "id": "1ea0d9d8",
   "metadata": {},
   "outputs": [
    {
     "name": "stdout",
     "output_type": "stream",
     "text": [
      "[[1 2 3]]\n",
      "---------------\n",
      "[[1 2 3]\n",
      " [4 5 6]]\n"
     ]
    }
   ],
   "source": [
    "arr1 = np.array([1, 2, 3], ndmin=2)\n",
    "print(arr1)\n",
    "arr2 = np.array([4, 5, 6], ndmin=2)\n",
    "\n",
    "arr = np.concatenate((arr1, arr2))\n",
    "print('---------------')\n",
    "print(arr)"
   ]
  },
  {
   "cell_type": "code",
   "execution_count": 40,
   "id": "136d1ffe",
   "metadata": {},
   "outputs": [
    {
     "name": "stdout",
     "output_type": "stream",
     "text": [
      "[[1 2 3 4 5 6]]\n"
     ]
    }
   ],
   "source": [
    "arr1 = np.array([1, 2, 3], ndmin=2)\n",
    "\n",
    "arr2 = np.array([4, 5, 6], ndmin=2)\n",
    "\n",
    "arr = np.concatenate((arr1, arr2), axis = 1)\n",
    "\n",
    "print(arr)"
   ]
  },
  {
   "cell_type": "code",
   "execution_count": 41,
   "id": "0a3be731",
   "metadata": {},
   "outputs": [
    {
     "name": "stdout",
     "output_type": "stream",
     "text": [
      "[[1 2 3]\n",
      " [4 5 6]]\n"
     ]
    }
   ],
   "source": [
    "arr1 = np.array([1, 2, 3], ndmin=2)\n",
    "\n",
    "arr2 = np.array([4, 5, 6], ndmin=2)\n",
    "\n",
    "arr = np.concatenate((arr1, arr2), axis = 0)\n",
    "\n",
    "print(arr)"
   ]
  },
  {
   "cell_type": "code",
   "execution_count": 42,
   "id": "257ec407",
   "metadata": {
    "scrolled": true
   },
   "outputs": [
    {
     "name": "stdout",
     "output_type": "stream",
     "text": [
      "arr1 before concat: \n",
      " [[1 2]\n",
      " [3 4]]\n",
      "arr2 before concat: \n",
      " [[4 5]\n",
      " [6 7]]\n",
      "after contact along axis=1 \n",
      " [[1 2 4 5]\n",
      " [3 4 6 7]]\n"
     ]
    }
   ],
   "source": [
    "arr1 = np.array([[1, 2], [3, 4]])\n",
    "print('arr1 before concat: \\n', arr1)\n",
    "arr2 = np.array([[4, 5], [6, 7]])\n",
    "print('arr2 before concat: \\n', arr2)\n",
    "\n",
    "arr= np.concatenate((arr1, arr2), axis =1)\n",
    "\n",
    "print('after contact along axis=1 \\n', arr)\n",
    "\n"
   ]
  },
  {
   "cell_type": "code",
   "execution_count": 43,
   "id": "be7776af",
   "metadata": {},
   "outputs": [
    {
     "name": "stdout",
     "output_type": "stream",
     "text": [
      "arr1 before concat: \n",
      " [[1 2]\n",
      " [3 4]]\n",
      "arr2 before concat: \n",
      " [[4 5]\n",
      " [6 7]]\n",
      "after contact along axis=0 \n",
      " [[1 2]\n",
      " [3 4]\n",
      " [4 5]\n",
      " [6 7]]\n",
      "(4, 2)\n"
     ]
    }
   ],
   "source": [
    "arr1 = np.array([[1, 2], [3, 4]])\n",
    "print('arr1 before concat: \\n', arr1)\n",
    "arr2 = np.array([[4, 5], [6, 7]])\n",
    "print('arr2 before concat: \\n', arr2)\n",
    "\n",
    "arr= np.concatenate((arr1, arr2), axis =0)\n",
    "\n",
    "print('after contact along axis=0 \\n', arr)\n",
    "\n",
    "print(arr.shape)"
   ]
  },
  {
   "cell_type": "code",
   "execution_count": 44,
   "id": "3b8f377c",
   "metadata": {},
   "outputs": [
    {
     "name": "stdout",
     "output_type": "stream",
     "text": [
      "[[1 4]\n",
      " [2 5]\n",
      " [3 6]]\n"
     ]
    }
   ],
   "source": [
    "arr1 = np.array([1, 2, 3])\n",
    "\n",
    "arr2 = np.array([4, 5, 6])\n",
    "\n",
    "arr = np.stack((arr1, arr2), axis = 1)\n",
    "\n",
    "print(arr)"
   ]
  },
  {
   "cell_type": "code",
   "execution_count": 45,
   "id": "37101d65",
   "metadata": {},
   "outputs": [
    {
     "name": "stdout",
     "output_type": "stream",
     "text": [
      "[[1 2 3]\n",
      " [4 5 6]]\n"
     ]
    }
   ],
   "source": [
    "arr1 = np.array([1, 2, 3])\n",
    "\n",
    "arr2 = np.array([4, 5, 6])\n",
    "\n",
    "arr = np.stack((arr1, arr2), axis = 0)\n",
    "\n",
    "print(arr)"
   ]
  },
  {
   "cell_type": "code",
   "execution_count": 46,
   "id": "e233e346",
   "metadata": {},
   "outputs": [
    {
     "name": "stdout",
     "output_type": "stream",
     "text": [
      "[[1 2 3]\n",
      " [4 5 6]]\n"
     ]
    }
   ],
   "source": [
    "arr1 = np.array([1, 2, 3])\n",
    "\n",
    "arr2 = np.array([4, 5, 6])\n",
    "\n",
    "arr = np.vstack((arr1, arr2))\n",
    "\n",
    "print(arr)"
   ]
  },
  {
   "cell_type": "code",
   "execution_count": 47,
   "id": "4be77f8b",
   "metadata": {},
   "outputs": [
    {
     "name": "stdout",
     "output_type": "stream",
     "text": [
      "[array([[1, 2],\n",
      "       [3, 4]]), array([[5, 6],\n",
      "       [7, 8]]), array([[ 9, 10],\n",
      "       [11, 12]])]\n"
     ]
    }
   ],
   "source": [
    "arr = np.array([[1, 2], [3, 4], [5, 6], [7, 8], [9, 10], [11, 12]])\n",
    "newarr = np.array_split(arr, 3)\n",
    "print(newarr)"
   ]
  },
  {
   "cell_type": "code",
   "execution_count": 149,
   "id": "3432bc45",
   "metadata": {},
   "outputs": [
    {
     "name": "stdout",
     "output_type": "stream",
     "text": [
      "[array([[1, 2],\n",
      "       [3, 4]]), array([[5, 6],\n",
      "       [7, 8]]), array([[ 9, 10]]), array([[11, 12]])]\n"
     ]
    }
   ],
   "source": [
    "arr = np.array([[1, 2], [3, 4], [5, 6], [7, 8], [9, 10], [11, 12]])\n",
    "newarr = np.array_split(arr, 4)\n",
    "print(newarr)"
   ]
  },
  {
   "cell_type": "code",
   "execution_count": 26,
   "id": "32d6a38d",
   "metadata": {},
   "outputs": [
    {
     "name": "stdout",
     "output_type": "stream",
     "text": [
      "Help on built-in function arange in module numpy:\n",
      "\n",
      "arange(...)\n",
      "    arange([start,] stop[, step,], dtype=None, *, like=None)\n",
      "    \n",
      "    Return evenly spaced values within a given interval.\n",
      "    \n",
      "    Values are generated within the half-open interval ``[start, stop)``\n",
      "    (in other words, the interval including `start` but excluding `stop`).\n",
      "    For integer arguments the function is equivalent to the Python built-in\n",
      "    `range` function, but returns an ndarray rather than a list.\n",
      "    \n",
      "    When using a non-integer step, such as 0.1, the results will often not\n",
      "    be consistent.  It is better to use `numpy.linspace` for these cases.\n",
      "    \n",
      "    Parameters\n",
      "    ----------\n",
      "    start : integer or real, optional\n",
      "        Start of interval.  The interval includes this value.  The default\n",
      "        start value is 0.\n",
      "    stop : integer or real\n",
      "        End of interval.  The interval does not include this value, except\n",
      "        in some cases where `step` is not an integer and floating point\n",
      "        round-off affects the length of `out`.\n",
      "    step : integer or real, optional\n",
      "        Spacing between values.  For any output `out`, this is the distance\n",
      "        between two adjacent values, ``out[i+1] - out[i]``.  The default\n",
      "        step size is 1.  If `step` is specified as a position argument,\n",
      "        `start` must also be given.\n",
      "    dtype : dtype\n",
      "        The type of the output array.  If `dtype` is not given, infer the data\n",
      "        type from the other input arguments.\n",
      "    like : array_like\n",
      "        Reference object to allow the creation of arrays which are not\n",
      "        NumPy arrays. If an array-like passed in as ``like`` supports\n",
      "        the ``__array_function__`` protocol, the result will be defined\n",
      "        by it. In this case, it ensures the creation of an array object\n",
      "        compatible with that passed in via this argument.\n",
      "    \n",
      "        .. versionadded:: 1.20.0\n",
      "    \n",
      "    Returns\n",
      "    -------\n",
      "    arange : ndarray\n",
      "        Array of evenly spaced values.\n",
      "    \n",
      "        For floating point arguments, the length of the result is\n",
      "        ``ceil((stop - start)/step)``.  Because of floating point overflow,\n",
      "        this rule may result in the last element of `out` being greater\n",
      "        than `stop`.\n",
      "    \n",
      "    See Also\n",
      "    --------\n",
      "    numpy.linspace : Evenly spaced numbers with careful handling of endpoints.\n",
      "    numpy.ogrid: Arrays of evenly spaced numbers in N-dimensions.\n",
      "    numpy.mgrid: Grid-shaped arrays of evenly spaced numbers in N-dimensions.\n",
      "    \n",
      "    Examples\n",
      "    --------\n",
      "    >>> np.arange(3)\n",
      "    array([0, 1, 2])\n",
      "    >>> np.arange(3.0)\n",
      "    array([ 0.,  1.,  2.])\n",
      "    >>> np.arange(3,7)\n",
      "    array([3, 4, 5, 6])\n",
      "    >>> np.arange(3,7,2)\n",
      "    array([3, 5])\n",
      "\n"
     ]
    }
   ],
   "source": [
    "#Note\n",
    "help(np.arange)"
   ]
  },
  {
   "cell_type": "code",
   "execution_count": 150,
   "id": "cbfbcd37",
   "metadata": {},
   "outputs": [
    {
     "name": "stdout",
     "output_type": "stream",
     "text": [
      "x before split  [0. 1. 2. 3. 4. 5. 6. 7.]\n"
     ]
    },
    {
     "data": {
      "text/plain": [
       "[array([0., 1., 2.]), array([3., 4., 5.]), array([6., 7.])]"
      ]
     },
     "execution_count": 150,
     "metadata": {},
     "output_type": "execute_result"
    }
   ],
   "source": [
    "x = np.arange(8.0)\n",
    "print('x before split ', x)\n",
    "np.array_split(x,3)"
   ]
  },
  {
   "cell_type": "code",
   "execution_count": 29,
   "id": "7cb05725",
   "metadata": {},
   "outputs": [
    {
     "name": "stdout",
     "output_type": "stream",
     "text": [
      "[array([[ 1],\n",
      "       [ 4],\n",
      "       [ 7],\n",
      "       [10],\n",
      "       [13],\n",
      "       [16]]), array([[ 2],\n",
      "       [ 5],\n",
      "       [ 8],\n",
      "       [11],\n",
      "       [14],\n",
      "       [17]]), array([[ 3],\n",
      "       [ 6],\n",
      "       [ 9],\n",
      "       [12],\n",
      "       [15],\n",
      "       [18]])]\n"
     ]
    }
   ],
   "source": [
    "arr = np.array([[1, 2, 3], [4, 5, 6], [7, 8, 9], [10, 11, 12], [13, 14, 15], [16, 17, 18]])\n",
    "newarr= np.array_split(arr, 3, axis=1)\n",
    "print(newarr)"
   ]
  },
  {
   "cell_type": "code",
   "execution_count": 151,
   "id": "81cdc474",
   "metadata": {},
   "outputs": [
    {
     "name": "stdout",
     "output_type": "stream",
     "text": [
      "[array([[1, 2, 3],\n",
      "       [4, 5, 6]]), array([[ 7,  8,  9],\n",
      "       [10, 11, 12]]), array([[13, 14, 15],\n",
      "       [16, 17, 18]])]\n"
     ]
    }
   ],
   "source": [
    "arr = np.array([[1, 2, 3], [4, 5, 6], [7, 8, 9], [10, 11, 12], [13, 14, 15], [16, 17, 18]])\n",
    "newarr= np.array_split(arr, 3, axis=0)\n",
    "print(newarr)"
   ]
  },
  {
   "cell_type": "markdown",
   "id": "7a4eb620",
   "metadata": {},
   "source": [
    "# Some other Operations of numpy (np.random, np.dot, np.add etc)"
   ]
  },
  {
   "cell_type": "code",
   "execution_count": 154,
   "id": "1cfb9ff0",
   "metadata": {},
   "outputs": [
    {
     "name": "stdout",
     "output_type": "stream",
     "text": [
      "(array([3, 5, 6], dtype=int64),)\n"
     ]
    }
   ],
   "source": [
    "arr = np.array([1,2,3,4,5,4, 4])\n",
    "x = np.where(arr == 4)\n",
    "print(x)\n"
   ]
  },
  {
   "cell_type": "code",
   "execution_count": 155,
   "id": "348d48c0",
   "metadata": {},
   "outputs": [
    {
     "name": "stdout",
     "output_type": "stream",
     "text": [
      "(array([4], dtype=int64),)\n"
     ]
    }
   ],
   "source": [
    "arr = np.array([1,2,3,4,5,4, 4])\n",
    "x = np.where(arr == 5)\n",
    "print(x)"
   ]
  },
  {
   "cell_type": "markdown",
   "id": "a5dcd740",
   "metadata": {},
   "source": [
    "# Converting dtype in  an array"
   ]
  },
  {
   "cell_type": "code",
   "execution_count": 156,
   "id": "3e6a5569",
   "metadata": {},
   "outputs": [
    {
     "name": "stdout",
     "output_type": "stream",
     "text": [
      "arr before convert  [1 0 4 0 3 7]\n",
      "int32\n",
      "arr after convert  [ True False  True False  True  True]\n",
      "bool\n"
     ]
    }
   ],
   "source": [
    "arr = np.array([1, 0, 4, 0, 3, 7])\n",
    "print('arr before convert ', arr)\n",
    "print(arr.dtype)\n",
    "arr = arr.astype(bool)\n",
    "print('arr after convert ', arr)\n",
    "print(arr.dtype)\n"
   ]
  },
  {
   "cell_type": "code",
   "execution_count": 157,
   "id": "d517172b",
   "metadata": {},
   "outputs": [
    {
     "name": "stdout",
     "output_type": "stream",
     "text": [
      "[48 76 40 32 60]\n"
     ]
    }
   ],
   "source": [
    "x = np.random.randint(100, size = (5))\n",
    "print(x)"
   ]
  },
  {
   "cell_type": "raw",
   "id": "bf3e22a9",
   "metadata": {},
   "source": [
    "random.randint(low, high=None, size=None, dtype=int)\n",
    "\n",
    "Return random integers from low (inclusive) to high (exclusive).\n",
    "\n",
    "Parameters :\n",
    "low : [int] Lowest (signed) integer to be drawn from the distribution.But, it works as a highest integer in the sample if high=None.\n",
    "high : [int, optional] Largest (signed) integer to be drawn from the distribution.\n",
    "size : [int or tuple of ints, optional] Output shape. If the given shape is, e.g., (m, n, k), then m * n * k samples are drawn. Default is None, in which case a single value is returned.\n",
    "dtype : [optional] Desired output data-type.\n",
    "\n",
    "Return : Array of random integers in the interval [low, high) or a single such random int if size not provided."
   ]
  },
  {
   "cell_type": "code",
   "execution_count": 158,
   "id": "b0f2e745",
   "metadata": {},
   "outputs": [
    {
     "name": "stdout",
     "output_type": "stream",
     "text": [
      "[[13 18 88 76 33]\n",
      " [71 98 45 86 57]\n",
      " [90  2 30 10 22]]\n"
     ]
    }
   ],
   "source": [
    "x = np.random.randint(100, size = (3, 5))\n",
    "print(x)"
   ]
  },
  {
   "cell_type": "code",
   "execution_count": 159,
   "id": "54a3eefe",
   "metadata": {},
   "outputs": [
    {
     "name": "stdout",
     "output_type": "stream",
     "text": [
      "3\n"
     ]
    }
   ],
   "source": [
    "x = np.random.choice([3, 5, 7 , 9])\n",
    "print(x)"
   ]
  },
  {
   "cell_type": "raw",
   "id": "a9894851",
   "metadata": {},
   "source": [
    "Generates a random sample from a given 1-D array\n",
    "\n",
    "Syntax : numpy.random.choice(a, size=None, replace=True, p=None)\n",
    "\n",
    "Parameters:\n",
    "\n",
    "1) a – 1-D array of numpy having random samples.\n",
    "\n",
    "\n",
    "2) size – Output shape of random samples of numpy array.\n",
    "\n",
    "3) replace – Whether the sample is with or without replacement.\n",
    "\n",
    "4) p – The probability attach with every samples in a. \n",
    "\n",
    "Output : Return the numpy array of random samples."
   ]
  },
  {
   "cell_type": "code",
   "execution_count": 160,
   "id": "4895d6a6",
   "metadata": {},
   "outputs": [
    {
     "name": "stdout",
     "output_type": "stream",
     "text": [
      "[[0 0 5 5 3]\n",
      " [0 0 7 7 0]\n",
      " [3 5 3 9 3]]\n"
     ]
    }
   ],
   "source": [
    "x = np.random.choice([3, 5, 7 , 9, 1, 0], size = (3, 5))\n",
    "print(x)"
   ]
  },
  {
   "cell_type": "code",
   "execution_count": 161,
   "id": "2c2c3c6a",
   "metadata": {},
   "outputs": [
    {
     "name": "stdout",
     "output_type": "stream",
     "text": [
      "[7 7 5 5 7 7 7 7 7 7 7 7 5 5 7 5 5 7 7 5 3 5 5 7 5 7 7 3 7 7 5 5 7 7 5 7 7\n",
      " 5 7 7 5 7 5 5 7 3 7 5 7 7 5 7 7 7 5 7 7 3 5 7 7 7 7 5 7 7 7 5 7 5 7 7 5 7\n",
      " 7 3 3 7 7 7 7 7 7 3 3 5 7 5 7 5 3 7 7 7 7 7 7 7 5 7]\n"
     ]
    }
   ],
   "source": [
    "x = np.random.choice([3, 5, 7 , 9], p = [0.1, 0.3, 0.6, 0.0], size = 100)\n",
    "print(x)"
   ]
  },
  {
   "cell_type": "code",
   "execution_count": 48,
   "id": "f346d43b",
   "metadata": {},
   "outputs": [
    {
     "name": "stdout",
     "output_type": "stream",
     "text": [
      "[[-0.29945283 -0.15021542  0.61099841]\n",
      " [ 1.57132126  0.74508823  0.61670338]]\n"
     ]
    }
   ],
   "source": [
    "x = np.random.normal(size=(2, 3))\n",
    "print(x)"
   ]
  },
  {
   "cell_type": "raw",
   "id": "87d0524d",
   "metadata": {},
   "source": [
    "random.normal(loc=0.0, scale=1.0, size=None)\n",
    "Draw random samples from a normal (Gaussian) distribution."
   ]
  },
  {
   "cell_type": "raw",
   "id": "7b3c0839",
   "metadata": {},
   "source": [
    "loc   : [float or array_like]Mean of the distribution. \n",
    "scale : [float or array_like]Standard Derivation of the distribution. \n",
    "size  : [int or int tuples]. \n",
    "Output shape given as (m, n, k) then m*n*k samples are drawn. If size is None(by default), then a single value is returned. \n",
    "\n",
    "Return :\n",
    "\n",
    "Array of defined shape, filled with random values following normal distribution."
   ]
  },
  {
   "cell_type": "code",
   "execution_count": 50,
   "id": "3156c9aa",
   "metadata": {},
   "outputs": [
    {
     "name": "stdout",
     "output_type": "stream",
     "text": [
      "[[ 2.38989458  0.04464154  1.11340984]\n",
      " [ 4.02678153  2.16056826 -0.67508816]]\n"
     ]
    }
   ],
   "source": [
    "x = np.random.normal(loc=1, scale=2, size=(2, 3))\n",
    "print(x)"
   ]
  },
  {
   "cell_type": "code",
   "execution_count": 162,
   "id": "17d30a76",
   "metadata": {},
   "outputs": [
    {
     "name": "stdout",
     "output_type": "stream",
     "text": [
      "[1.  1.1 1.2 1.3 1.4 1.5 1.6 1.7 1.8 1.9]\n"
     ]
    }
   ],
   "source": [
    "# Printing all numbers from 1 to \n",
    "# 2 in steps of 0.1\n",
    "print(np.arange(1, 2, 0.1))\n"
   ]
  },
  {
   "cell_type": "code",
   "execution_count": 174,
   "id": "572365ab",
   "metadata": {},
   "outputs": [
    {
     "name": "stdout",
     "output_type": "stream",
     "text": [
      "Help on built-in function arange in module numpy:\n",
      "\n",
      "arange(...)\n",
      "    arange([start,] stop[, step,], dtype=None, *, like=None)\n",
      "    \n",
      "    Return evenly spaced values within a given interval.\n",
      "    \n",
      "    Values are generated within the half-open interval ``[start, stop)``\n",
      "    (in other words, the interval including `start` but excluding `stop`).\n",
      "    For integer arguments the function is equivalent to the Python built-in\n",
      "    `range` function, but returns an ndarray rather than a list.\n",
      "    \n",
      "    When using a non-integer step, such as 0.1, the results will often not\n",
      "    be consistent.  It is better to use `numpy.linspace` for these cases.\n",
      "    \n",
      "    Parameters\n",
      "    ----------\n",
      "    start : integer or real, optional\n",
      "        Start of interval.  The interval includes this value.  The default\n",
      "        start value is 0.\n",
      "    stop : integer or real\n",
      "        End of interval.  The interval does not include this value, except\n",
      "        in some cases where `step` is not an integer and floating point\n",
      "        round-off affects the length of `out`.\n",
      "    step : integer or real, optional\n",
      "        Spacing between values.  For any output `out`, this is the distance\n",
      "        between two adjacent values, ``out[i+1] - out[i]``.  The default\n",
      "        step size is 1.  If `step` is specified as a position argument,\n",
      "        `start` must also be given.\n",
      "    dtype : dtype\n",
      "        The type of the output array.  If `dtype` is not given, infer the data\n",
      "        type from the other input arguments.\n",
      "    like : array_like\n",
      "        Reference object to allow the creation of arrays which are not\n",
      "        NumPy arrays. If an array-like passed in as ``like`` supports\n",
      "        the ``__array_function__`` protocol, the result will be defined\n",
      "        by it. In this case, it ensures the creation of an array object\n",
      "        compatible with that passed in via this argument.\n",
      "    \n",
      "        .. versionadded:: 1.20.0\n",
      "    \n",
      "    Returns\n",
      "    -------\n",
      "    arange : ndarray\n",
      "        Array of evenly spaced values.\n",
      "    \n",
      "        For floating point arguments, the length of the result is\n",
      "        ``ceil((stop - start)/step)``.  Because of floating point overflow,\n",
      "        this rule may result in the last element of `out` being greater\n",
      "        than `stop`.\n",
      "    \n",
      "    See Also\n",
      "    --------\n",
      "    numpy.linspace : Evenly spaced numbers with careful handling of endpoints.\n",
      "    numpy.ogrid: Arrays of evenly spaced numbers in N-dimensions.\n",
      "    numpy.mgrid: Grid-shaped arrays of evenly spaced numbers in N-dimensions.\n",
      "    \n",
      "    Examples\n",
      "    --------\n",
      "    >>> np.arange(3)\n",
      "    array([0, 1, 2])\n",
      "    >>> np.arange(3.0)\n",
      "    array([ 0.,  1.,  2.])\n",
      "    >>> np.arange(3,7)\n",
      "    array([3, 4, 5, 6])\n",
      "    >>> np.arange(3,7,2)\n",
      "    array([3, 5])\n",
      "\n"
     ]
    }
   ],
   "source": [
    "help(np.arange)"
   ]
  },
  {
   "cell_type": "code",
   "execution_count": 163,
   "id": "4aeeec9d",
   "metadata": {},
   "outputs": [
    {
     "name": "stdout",
     "output_type": "stream",
     "text": [
      "[[0. 0.]\n",
      " [0. 0.]]\n"
     ]
    }
   ],
   "source": [
    "import numpy as np\n",
    "print(np.zeros([2, 2]))"
   ]
  },
  {
   "cell_type": "raw",
   "id": "4d9a8507",
   "metadata": {},
   "source": [
    "numpy.zeros(shape, dtype = None, order = 'C')\n",
    "Parameters :\n",
    "\n",
    "shape : integer or sequence of integers\n",
    "order  : C_contiguous or F_contiguous\n",
    "         C-contiguous order in memory(last index varies the fastest)\n",
    "         C order means that operating row-rise on the array will be slightly quicker\n",
    "         FORTRAN-contiguous order in memory (first index varies the fastest).\n",
    "         F order means that column-wise operations will be faster. \n",
    "dtype : [optional, float(byDeafult)] Data type of returned array.  \n",
    "Returns : \n",
    "\n",
    "ndarray of zeros having given shape, order and datatype."
   ]
  },
  {
   "cell_type": "code",
   "execution_count": 164,
   "id": "2eac49de",
   "metadata": {},
   "outputs": [
    {
     "name": "stdout",
     "output_type": "stream",
     "text": [
      "[[1. 1.]\n",
      " [1. 1.]]\n"
     ]
    }
   ],
   "source": [
    "print(np.ones([2, 2]))"
   ]
  },
  {
   "cell_type": "raw",
   "id": "a608f522",
   "metadata": {},
   "source": [
    "Syntax: numpy.ones(shape, dtype = None, order = 'C') \n",
    "Parameters : \n",
    "\n",
    "shape : integer or sequence of integers\n",
    "order  : C_contiguous or F_contiguous\n",
    "         C-contiguous order in memory(last index varies the fastest)\n",
    "         C order means that operating row-rise on the array will be slightly quicker\n",
    "         FORTRAN-contiguous order in memory (first index varies the fastest).\n",
    "         F order means that column-wise operations will be faster. \n",
    "dtype : [optional, float(byDefault)] Data type of returned array.  \n",
    "Returns : \n",
    " \n",
    "\n",
    "ndarray of ones having given shape, order and datatype."
   ]
  },
  {
   "cell_type": "code",
   "execution_count": 4,
   "id": "458c128e",
   "metadata": {},
   "outputs": [
    {
     "name": "stdout",
     "output_type": "stream",
     "text": [
      "[[[ 0  1]\n",
      "  [ 2  3]]\n",
      "\n",
      " [[ 4  5]\n",
      "  [ 6  7]]\n",
      "\n",
      " [[ 8  9]\n",
      "  [10 11]]\n",
      "\n",
      " [[12 13]\n",
      "  [14 15]]\n",
      "\n",
      " [[16 17]\n",
      "  [18 19]]]\n"
     ]
    }
   ],
   "source": [
    "a= np.arange(20).reshape(5,2,2)\n",
    "print(a)"
   ]
  },
  {
   "cell_type": "code",
   "execution_count": 27,
   "id": "494903ce",
   "metadata": {},
   "outputs": [
    {
     "name": "stdout",
     "output_type": "stream",
     "text": [
      "[ 0  1  2  3  4  5  6  7  8  9 10 11 12 13 14 15 16 17 18 19]\n"
     ]
    }
   ],
   "source": [
    "a= np.arange(20)\n",
    "print(a)"
   ]
  },
  {
   "cell_type": "code",
   "execution_count": 167,
   "id": "0eda8a23",
   "metadata": {},
   "outputs": [
    {
     "name": "stdout",
     "output_type": "stream",
     "text": [
      "[[[ 0  1]\n",
      "  [ 2  3]]\n",
      "\n",
      " [[ 4  5]\n",
      "  [ 6  7]]\n",
      "\n",
      " [[ 8  9]\n",
      "  [10 11]]\n",
      "\n",
      " [[12 13]\n",
      "  [14 15]]\n",
      "\n",
      " [[16 17]\n",
      "  [18 19]]]\n"
     ]
    }
   ],
   "source": [
    "a= np.arange(20).reshape(5,2,2)\n",
    "print(a)"
   ]
  },
  {
   "cell_type": "raw",
   "id": "215883c7",
   "metadata": {},
   "source": [
    "The arange([start, stop, step,], dtype) : Returns an array with evenly spaced elements as per the interval. The interval mentioned is half-opened i.e. [Start, Stop) \n",
    "\n",
    "\n",
    "start : [optional] start of interval range. By default start = 0\n",
    "stop  : end of interval range\n",
    "step  : [optional] step size of interval. By default step size = 1,  \n",
    "For any output out, this is the distance between two adjacent values, out[i+1] - out[i]. \n",
    "dtype : type of output array\n",
    "Return: \n",
    "\n",
    "Array of evenly spaced values.\n",
    "Length of array being generated  = Ceil((Stop - Start) / Step) "
   ]
  },
  {
   "cell_type": "code",
   "execution_count": 5,
   "id": "eaf9e545",
   "metadata": {},
   "outputs": [
    {
     "name": "stdout",
     "output_type": "stream",
     "text": [
      "[[[ 0]\n",
      "  [ 1]\n",
      "  [ 2]\n",
      "  [ 3]\n",
      "  [ 4]]\n",
      "\n",
      " [[ 5]\n",
      "  [ 6]\n",
      "  [ 7]\n",
      "  [ 8]\n",
      "  [ 9]]\n",
      "\n",
      " [[10]\n",
      "  [11]\n",
      "  [12]\n",
      "  [13]\n",
      "  [14]]\n",
      "\n",
      " [[15]\n",
      "  [16]\n",
      "  [17]\n",
      "  [18]\n",
      "  [19]]]\n"
     ]
    }
   ],
   "source": [
    "a= np.arange(20).reshape(4,5,-1)\n",
    "print(a)"
   ]
  },
  {
   "cell_type": "code",
   "execution_count": 169,
   "id": "4f39eb3a",
   "metadata": {},
   "outputs": [
    {
     "name": "stdout",
     "output_type": "stream",
     "text": [
      "[[1, 0], [0, 1]]\n",
      "[[4, 1], [2, 2]]\n",
      "-----------------\n",
      "(2, 2)\n"
     ]
    }
   ],
   "source": [
    "a = [[1, 0], [0,1]]\n",
    "print(a)\n",
    "b = [[4, 1], [2, 2]]\n",
    "print(b)\n",
    "\n",
    "print('-----------------')\n",
    "np.dot(a, b)\n",
    "print(np.dot(a, b).shape)"
   ]
  },
  {
   "cell_type": "code",
   "execution_count": 175,
   "id": "65c949e0",
   "metadata": {},
   "outputs": [
    {
     "name": "stdout",
     "output_type": "stream",
     "text": [
      "Help on function dot in module numpy:\n",
      "\n",
      "dot(...)\n",
      "    dot(a, b, out=None)\n",
      "    \n",
      "    Dot product of two arrays. Specifically,\n",
      "    \n",
      "    - If both `a` and `b` are 1-D arrays, it is inner product of vectors\n",
      "      (without complex conjugation).\n",
      "    \n",
      "    - If both `a` and `b` are 2-D arrays, it is matrix multiplication,\n",
      "      but using :func:`matmul` or ``a @ b`` is preferred.\n",
      "    \n",
      "    - If either `a` or `b` is 0-D (scalar), it is equivalent to :func:`multiply`\n",
      "      and using ``numpy.multiply(a, b)`` or ``a * b`` is preferred.\n",
      "    \n",
      "    - If `a` is an N-D array and `b` is a 1-D array, it is a sum product over\n",
      "      the last axis of `a` and `b`.\n",
      "    \n",
      "    - If `a` is an N-D array and `b` is an M-D array (where ``M>=2``), it is a\n",
      "      sum product over the last axis of `a` and the second-to-last axis of `b`::\n",
      "    \n",
      "        dot(a, b)[i,j,k,m] = sum(a[i,j,:] * b[k,:,m])\n",
      "    \n",
      "    Parameters\n",
      "    ----------\n",
      "    a : array_like\n",
      "        First argument.\n",
      "    b : array_like\n",
      "        Second argument.\n",
      "    out : ndarray, optional\n",
      "        Output argument. This must have the exact kind that would be returned\n",
      "        if it was not used. In particular, it must have the right type, must be\n",
      "        C-contiguous, and its dtype must be the dtype that would be returned\n",
      "        for `dot(a,b)`. This is a performance feature. Therefore, if these\n",
      "        conditions are not met, an exception is raised, instead of attempting\n",
      "        to be flexible.\n",
      "    \n",
      "    Returns\n",
      "    -------\n",
      "    output : ndarray\n",
      "        Returns the dot product of `a` and `b`.  If `a` and `b` are both\n",
      "        scalars or both 1-D arrays then a scalar is returned; otherwise\n",
      "        an array is returned.\n",
      "        If `out` is given, then it is returned.\n",
      "    \n",
      "    Raises\n",
      "    ------\n",
      "    ValueError\n",
      "        If the last dimension of `a` is not the same size as\n",
      "        the second-to-last dimension of `b`.\n",
      "    \n",
      "    See Also\n",
      "    --------\n",
      "    vdot : Complex-conjugating dot product.\n",
      "    tensordot : Sum products over arbitrary axes.\n",
      "    einsum : Einstein summation convention.\n",
      "    matmul : '@' operator as method with out parameter.\n",
      "    linalg.multi_dot : Chained dot product.\n",
      "    \n",
      "    Examples\n",
      "    --------\n",
      "    >>> np.dot(3, 4)\n",
      "    12\n",
      "    \n",
      "    Neither argument is complex-conjugated:\n",
      "    \n",
      "    >>> np.dot([2j, 3j], [2j, 3j])\n",
      "    (-13+0j)\n",
      "    \n",
      "    For 2-D arrays it is the matrix product:\n",
      "    \n",
      "    >>> a = [[1, 0], [0, 1]]\n",
      "    >>> b = [[4, 1], [2, 2]]\n",
      "    >>> np.dot(a, b)\n",
      "    array([[4, 1],\n",
      "           [2, 2]])\n",
      "    \n",
      "    >>> a = np.arange(3*4*5*6).reshape((3,4,5,6))\n",
      "    >>> b = np.arange(3*4*5*6)[::-1].reshape((5,4,6,3))\n",
      "    >>> np.dot(a, b)[2,3,2,1,2,2]\n",
      "    499128\n",
      "    >>> sum(a[2,3,2,:] * b[1,2,:,2])\n",
      "    499128\n",
      "\n"
     ]
    }
   ],
   "source": [
    "help(np.dot)"
   ]
  },
  {
   "cell_type": "code",
   "execution_count": 170,
   "id": "1aa34e77",
   "metadata": {},
   "outputs": [
    {
     "data": {
      "text/plain": [
       "array([[4, 1],\n",
       "       [2, 2]])"
      ]
     },
     "execution_count": 170,
     "metadata": {},
     "output_type": "execute_result"
    }
   ],
   "source": [
    "a = [[1, 0], [0,1]]\n",
    "b = [[4, 1], [2, 2]]\n",
    "np.matmul(a, b)"
   ]
  },
  {
   "cell_type": "code",
   "execution_count": 176,
   "id": "862e7dbd",
   "metadata": {},
   "outputs": [
    {
     "name": "stdout",
     "output_type": "stream",
     "text": [
      "Help on ufunc:\n",
      "\n",
      "matmul = <ufunc 'matmul'>\n",
      "    matmul(x1, x2, /, out=None, *, casting='same_kind', order='K', dtype=None, subok=True[, signature, extobj, axes, axis])\n",
      "    \n",
      "    Matrix product of two arrays.\n",
      "    \n",
      "    Parameters\n",
      "    ----------\n",
      "    x1, x2 : array_like\n",
      "        Input arrays, scalars not allowed.\n",
      "    out : ndarray, optional\n",
      "        A location into which the result is stored. If provided, it must have\n",
      "        a shape that matches the signature `(n,k),(k,m)->(n,m)`. If not\n",
      "        provided or None, a freshly-allocated array is returned.\n",
      "    **kwargs\n",
      "        For other keyword-only arguments, see the\n",
      "        :ref:`ufunc docs <ufuncs.kwargs>`.\n",
      "    \n",
      "        .. versionadded:: 1.16\n",
      "           Now handles ufunc kwargs\n",
      "    \n",
      "    Returns\n",
      "    -------\n",
      "    y : ndarray\n",
      "        The matrix product of the inputs.\n",
      "        This is a scalar only when both x1, x2 are 1-d vectors.\n",
      "    \n",
      "    Raises\n",
      "    ------\n",
      "    ValueError\n",
      "        If the last dimension of `x1` is not the same size as\n",
      "        the second-to-last dimension of `x2`.\n",
      "    \n",
      "        If a scalar value is passed in.\n",
      "    \n",
      "    See Also\n",
      "    --------\n",
      "    vdot : Complex-conjugating dot product.\n",
      "    tensordot : Sum products over arbitrary axes.\n",
      "    einsum : Einstein summation convention.\n",
      "    dot : alternative matrix product with different broadcasting rules.\n",
      "    \n",
      "    Notes\n",
      "    -----\n",
      "    \n",
      "    The behavior depends on the arguments in the following way.\n",
      "    \n",
      "    - If both arguments are 2-D they are multiplied like conventional\n",
      "      matrices.\n",
      "    - If either argument is N-D, N > 2, it is treated as a stack of\n",
      "      matrices residing in the last two indexes and broadcast accordingly.\n",
      "    - If the first argument is 1-D, it is promoted to a matrix by\n",
      "      prepending a 1 to its dimensions. After matrix multiplication\n",
      "      the prepended 1 is removed.\n",
      "    - If the second argument is 1-D, it is promoted to a matrix by\n",
      "      appending a 1 to its dimensions. After matrix multiplication\n",
      "      the appended 1 is removed.\n",
      "    \n",
      "    ``matmul`` differs from ``dot`` in two important ways:\n",
      "    \n",
      "    - Multiplication by scalars is not allowed, use ``*`` instead.\n",
      "    - Stacks of matrices are broadcast together as if the matrices\n",
      "      were elements, respecting the signature ``(n,k),(k,m)->(n,m)``:\n",
      "    \n",
      "      >>> a = np.ones([9, 5, 7, 4])\n",
      "      >>> c = np.ones([9, 5, 4, 3])\n",
      "      >>> np.dot(a, c).shape\n",
      "      (9, 5, 7, 9, 5, 3)\n",
      "      >>> np.matmul(a, c).shape\n",
      "      (9, 5, 7, 3)\n",
      "      >>> # n is 7, k is 4, m is 3\n",
      "    \n",
      "    The matmul function implements the semantics of the ``@`` operator introduced\n",
      "    in Python 3.5 following :pep:`465`.\n",
      "    \n",
      "    Examples\n",
      "    --------\n",
      "    For 2-D arrays it is the matrix product:\n",
      "    \n",
      "    >>> a = np.array([[1, 0],\n",
      "    ...               [0, 1]])\n",
      "    >>> b = np.array([[4, 1],\n",
      "    ...               [2, 2]])\n",
      "    >>> np.matmul(a, b)\n",
      "    array([[4, 1],\n",
      "           [2, 2]])\n",
      "    \n",
      "    For 2-D mixed with 1-D, the result is the usual.\n",
      "    \n",
      "    >>> a = np.array([[1, 0],\n",
      "    ...               [0, 1]])\n",
      "    >>> b = np.array([1, 2])\n",
      "    >>> np.matmul(a, b)\n",
      "    array([1, 2])\n",
      "    >>> np.matmul(b, a)\n",
      "    array([1, 2])\n",
      "    \n",
      "    \n",
      "    Broadcasting is conventional for stacks of arrays\n",
      "    \n",
      "    >>> a = np.arange(2 * 2 * 4).reshape((2, 2, 4))\n",
      "    >>> b = np.arange(2 * 2 * 4).reshape((2, 4, 2))\n",
      "    >>> np.matmul(a,b).shape\n",
      "    (2, 2, 2)\n",
      "    >>> np.matmul(a, b)[0, 1, 1]\n",
      "    98\n",
      "    >>> sum(a[0, 1, :] * b[0 , :, 1])\n",
      "    98\n",
      "    \n",
      "    Vector, vector returns the scalar inner product, but neither argument\n",
      "    is complex-conjugated:\n",
      "    \n",
      "    >>> np.matmul([2j, 3j], [2j, 3j])\n",
      "    (-13+0j)\n",
      "    \n",
      "    Scalar multiplication raises an error.\n",
      "    \n",
      "    >>> np.matmul([1,2], 3)\n",
      "    Traceback (most recent call last):\n",
      "    ...\n",
      "    ValueError: matmul: Input operand 1 does not have enough dimensions ...\n",
      "    \n",
      "    The ``@`` operator can be used as a shorthand for ``np.matmul`` on\n",
      "    ndarrays.\n",
      "    \n",
      "    >>> x1 = np.array([2j, 3j])\n",
      "    >>> x2 = np.array([2j, 3j])\n",
      "    >>> x1 @ x2\n",
      "    (-13+0j)\n",
      "    \n",
      "    .. versionadded:: 1.10.0\n",
      "\n"
     ]
    }
   ],
   "source": [
    "help(np.matmul)"
   ]
  },
  {
   "cell_type": "raw",
   "id": "6334c4f3",
   "metadata": {},
   "source": [
    "numpy.eye\n",
    "numpy.eye(N, M=None, k=0, dtype=<class 'float'>, order='C', *, like=None)\n",
    "Return a 2-D array with ones on the diagonal and zeros elsewhere."
   ]
  },
  {
   "cell_type": "code",
   "execution_count": 1,
   "id": "a3f183a8",
   "metadata": {},
   "outputs": [
    {
     "data": {
      "text/plain": [
       "array([[1, 0],\n",
       "       [0, 1]])"
      ]
     },
     "execution_count": 1,
     "metadata": {},
     "output_type": "execute_result"
    }
   ],
   "source": [
    "import numpy as np \n",
    "np.eye(2, dtype=int)"
   ]
  },
  {
   "cell_type": "raw",
   "id": "f37cac3a",
   "metadata": {},
   "source": [
    "numpy.full\n",
    "numpy.full(shape, fill_value, dtype=None, order='C', *, like=None)[source]\n",
    "Return a new array of given shape and type, filled with fill_value."
   ]
  },
  {
   "cell_type": "code",
   "execution_count": 4,
   "id": "033b44d6",
   "metadata": {},
   "outputs": [
    {
     "data": {
      "text/plain": [
       "array([[10, 10],\n",
       "       [10, 10]])"
      ]
     },
     "execution_count": 4,
     "metadata": {},
     "output_type": "execute_result"
    }
   ],
   "source": [
    "np.full((2, 2), 10)\n"
   ]
  },
  {
   "cell_type": "code",
   "execution_count": 9,
   "id": "581bd003",
   "metadata": {},
   "outputs": [
    {
     "name": "stdout",
     "output_type": "stream",
     "text": [
      "[[0 1 2]\n",
      " [3 4 5]\n",
      " [6 7 8]]\n"
     ]
    }
   ],
   "source": [
    "x = np.arange(9).reshape((3,3))\n",
    "print(x)"
   ]
  },
  {
   "cell_type": "code",
   "execution_count": 10,
   "id": "90e0c169",
   "metadata": {},
   "outputs": [
    {
     "name": "stdout",
     "output_type": "stream",
     "text": [
      "[0 4 8]\n"
     ]
    }
   ],
   "source": [
    "print(np.diag(x))"
   ]
  },
  {
   "cell_type": "code",
   "execution_count": 11,
   "id": "562f2d22",
   "metadata": {},
   "outputs": [
    {
     "data": {
      "text/plain": [
       "array([[0, 0, 0],\n",
       "       [0, 4, 0],\n",
       "       [0, 0, 8]])"
      ]
     },
     "execution_count": 11,
     "metadata": {},
     "output_type": "execute_result"
    }
   ],
   "source": [
    "np.diag(np.diag(x))"
   ]
  },
  {
   "cell_type": "code",
   "execution_count": 12,
   "id": "78034df4",
   "metadata": {},
   "outputs": [
    {
     "data": {
      "text/plain": [
       "array([[1, 0, 0, 0, 0],\n",
       "       [0, 2, 0, 0, 0],\n",
       "       [0, 0, 3, 0, 0],\n",
       "       [0, 0, 0, 4, 0],\n",
       "       [0, 0, 0, 0, 5]])"
      ]
     },
     "execution_count": 12,
     "metadata": {},
     "output_type": "execute_result"
    }
   ],
   "source": [
    "#create a numpy array using diag function passing a list [1,2,3,4,5]\n",
    "np.diag([1, 2, 3, 4, 5])"
   ]
  },
  {
   "cell_type": "code",
   "execution_count": 177,
   "id": "c4815676",
   "metadata": {},
   "outputs": [
    {
     "name": "stdout",
     "output_type": "stream",
     "text": [
      "[1 2]\n",
      "[1 2]\n"
     ]
    }
   ],
   "source": [
    "import numpy.matlib \n",
    "import numpy as np \n",
    "\n",
    "a = [[1,0],[0,1]] \n",
    "b = [1,2] \n",
    "print(np.matmul(a,b)) \n",
    "print(np.matmul(b,a))"
   ]
  },
  {
   "cell_type": "raw",
   "id": "dc17fd1d",
   "metadata": {},
   "source": [
    "numpy.tile(A, reps)\n",
    "Construct an array by repeating A the number of times given by reps.\n",
    "\n",
    "If reps has length d, the result will have dimension of max(d, A.ndim).\n",
    "\n",
    "If A.ndim < d, A is promoted to be d-dimensional by prepending new axes. So a shape (3,) array is promoted to (1, 3) for 2-D replication, or shape (1, 1, 3) for 3-D replication. If this is not the desired behavior, promote A to d-dimensions manually before calling this function.\n",
    "\n",
    "If A.ndim > d, reps is promoted to A.ndim by pre-pending 1’s to it. Thus for an A of shape (2, 3, 4, 5), a reps of (2, 2) is treated as (1, 1, 2, 2).\n",
    "\n",
    "Note : Although tile may be used for broadcasting, it is strongly recommended to use numpy’s broadcasting operations and functions."
   ]
  },
  {
   "cell_type": "code",
   "execution_count": 13,
   "id": "bc31fa6e",
   "metadata": {},
   "outputs": [
    {
     "data": {
      "text/plain": [
       "array([[1, 2, 3],\n",
       "       [1, 2, 3],\n",
       "       [1, 2, 3]])"
      ]
     },
     "execution_count": 13,
     "metadata": {},
     "output_type": "execute_result"
    }
   ],
   "source": [
    "# Create a numpy array v with [1,2,3] as its elements\n",
    "v = np.array([1,2,3])\n",
    "\n",
    "\n",
    "#Use tile function of numpy and pass v and (3,1) as its parametrs\n",
    "np.tile(v,(3,1))"
   ]
  },
  {
   "cell_type": "code",
   "execution_count": 14,
   "id": "5561d6ae",
   "metadata": {},
   "outputs": [
    {
     "data": {
      "text/plain": [
       "array([[1, 2, 1, 2],\n",
       "       [3, 4, 3, 4]])"
      ]
     },
     "execution_count": 14,
     "metadata": {},
     "output_type": "execute_result"
    }
   ],
   "source": [
    "b = np.array([[1, 2], [3, 4]])\n",
    "np.tile(b, 2)\n"
   ]
  },
  {
   "cell_type": "code",
   "execution_count": 19,
   "id": "01f39783",
   "metadata": {},
   "outputs": [
    {
     "data": {
      "text/plain": [
       "array([[[1, 2, 1, 2],\n",
       "        [3, 4, 3, 4],\n",
       "        [1, 2, 1, 2],\n",
       "        [3, 4, 3, 4],\n",
       "        [1, 2, 1, 2],\n",
       "        [3, 4, 3, 4],\n",
       "        [1, 2, 1, 2],\n",
       "        [3, 4, 3, 4],\n",
       "        [1, 2, 1, 2],\n",
       "        [3, 4, 3, 4]],\n",
       "\n",
       "       [[1, 2, 1, 2],\n",
       "        [3, 4, 3, 4],\n",
       "        [1, 2, 1, 2],\n",
       "        [3, 4, 3, 4],\n",
       "        [1, 2, 1, 2],\n",
       "        [3, 4, 3, 4],\n",
       "        [1, 2, 1, 2],\n",
       "        [3, 4, 3, 4],\n",
       "        [1, 2, 1, 2],\n",
       "        [3, 4, 3, 4]]])"
      ]
     },
     "execution_count": 19,
     "metadata": {},
     "output_type": "execute_result"
    }
   ],
   "source": [
    "np.tile(b, (2, 5)) #five times repetition of columns as it is 5\n",
    "#twice repetition of rows as it is 2."
   ]
  },
  {
   "cell_type": "raw",
   "id": "f057a267",
   "metadata": {},
   "source": [
    "numpy.linspace\n",
    "numpy.linspace(start, stop, num=50, endpoint=True, retstep=False, dtype=None, axis=0)[source]\n",
    "Return evenly spaced numbers over a specified interval.\n",
    "\n",
    "Returns num evenly spaced samples, calculated over the interval [start, stop].\n",
    "\n",
    "The endpoint of the interval can optionally be excluded.\n",
    "\n",
    "Changed in version 1.16.0: Non-scalar start and stop"
   ]
  },
  {
   "cell_type": "code",
   "execution_count": 20,
   "id": "2aaf57e8",
   "metadata": {},
   "outputs": [
    {
     "data": {
      "text/plain": [
       "array([ 1.        ,  1.49494949,  1.98989899,  2.48484848,  2.97979798,\n",
       "        3.47474747,  3.96969697,  4.46464646,  4.95959596,  5.45454545,\n",
       "        5.94949495,  6.44444444,  6.93939394,  7.43434343,  7.92929293,\n",
       "        8.42424242,  8.91919192,  9.41414141,  9.90909091, 10.4040404 ,\n",
       "       10.8989899 , 11.39393939, 11.88888889, 12.38383838, 12.87878788,\n",
       "       13.37373737, 13.86868687, 14.36363636, 14.85858586, 15.35353535,\n",
       "       15.84848485, 16.34343434, 16.83838384, 17.33333333, 17.82828283,\n",
       "       18.32323232, 18.81818182, 19.31313131, 19.80808081, 20.3030303 ,\n",
       "       20.7979798 , 21.29292929, 21.78787879, 22.28282828, 22.77777778,\n",
       "       23.27272727, 23.76767677, 24.26262626, 24.75757576, 25.25252525,\n",
       "       25.74747475, 26.24242424, 26.73737374, 27.23232323, 27.72727273,\n",
       "       28.22222222, 28.71717172, 29.21212121, 29.70707071, 30.2020202 ,\n",
       "       30.6969697 , 31.19191919, 31.68686869, 32.18181818, 32.67676768,\n",
       "       33.17171717, 33.66666667, 34.16161616, 34.65656566, 35.15151515,\n",
       "       35.64646465, 36.14141414, 36.63636364, 37.13131313, 37.62626263,\n",
       "       38.12121212, 38.61616162, 39.11111111, 39.60606061, 40.1010101 ,\n",
       "       40.5959596 , 41.09090909, 41.58585859, 42.08080808, 42.57575758,\n",
       "       43.07070707, 43.56565657, 44.06060606, 44.55555556, 45.05050505,\n",
       "       45.54545455, 46.04040404, 46.53535354, 47.03030303, 47.52525253,\n",
       "       48.02020202, 48.51515152, 49.01010101, 49.50505051, 50.        ])"
      ]
     },
     "execution_count": 20,
     "metadata": {},
     "output_type": "execute_result"
    }
   ],
   "source": [
    "# Create an array with 100 values between 1 and 50 using linspace\n",
    "np.linspace(1, 50, 100)"
   ]
  },
  {
   "cell_type": "code",
   "execution_count": 21,
   "id": "b20fa4fc",
   "metadata": {},
   "outputs": [
    {
     "data": {
      "text/plain": [
       "array([[0.98642244, 0.87107484, 0.5823207 ],\n",
       "       [0.44020268, 0.25657427, 0.96805817],\n",
       "       [0.02951696, 0.43372013, 0.22911349]])"
      ]
     },
     "execution_count": 21,
     "metadata": {},
     "output_type": "execute_result"
    }
   ],
   "source": [
    "np.random.random((3,3))"
   ]
  },
  {
   "cell_type": "raw",
   "id": "8404dd73",
   "metadata": {},
   "source": [
    "Another cool Fact: -1 can be used to flatten an array which means converting a multidimensional array into a 1D array."
   ]
  },
  {
   "cell_type": "code",
   "execution_count": 22,
   "id": "eac3216c",
   "metadata": {},
   "outputs": [
    {
     "data": {
      "text/plain": [
       "array([ 1,  2,  3,  4,  5,  6,  7,  8,  9, 10, 11, 12, 13, 14, 15, 16])"
      ]
     },
     "execution_count": 22,
     "metadata": {},
     "output_type": "execute_result"
    }
   ],
   "source": [
    "# Flattening y\n",
    "x=np.arange(1,17)\n",
    "y = x.reshape(2,4,-1)\n",
    "y.reshape(-1)"
   ]
  },
  {
   "cell_type": "code",
   "execution_count": 178,
   "id": "ea99464b",
   "metadata": {},
   "outputs": [
    {
     "name": "stdout",
     "output_type": "stream",
     "text": [
      "Help on function ones in module numpy:\n",
      "\n",
      "ones(shape, dtype=None, order='C', *, like=None)\n",
      "    Return a new array of given shape and type, filled with ones.\n",
      "    \n",
      "    Parameters\n",
      "    ----------\n",
      "    shape : int or sequence of ints\n",
      "        Shape of the new array, e.g., ``(2, 3)`` or ``2``.\n",
      "    dtype : data-type, optional\n",
      "        The desired data-type for the array, e.g., `numpy.int8`.  Default is\n",
      "        `numpy.float64`.\n",
      "    order : {'C', 'F'}, optional, default: C\n",
      "        Whether to store multi-dimensional data in row-major\n",
      "        (C-style) or column-major (Fortran-style) order in\n",
      "        memory.\n",
      "    like : array_like\n",
      "        Reference object to allow the creation of arrays which are not\n",
      "        NumPy arrays. If an array-like passed in as ``like`` supports\n",
      "        the ``__array_function__`` protocol, the result will be defined\n",
      "        by it. In this case, it ensures the creation of an array object\n",
      "        compatible with that passed in via this argument.\n",
      "    \n",
      "        .. versionadded:: 1.20.0\n",
      "    \n",
      "    Returns\n",
      "    -------\n",
      "    out : ndarray\n",
      "        Array of ones with the given shape, dtype, and order.\n",
      "    \n",
      "    See Also\n",
      "    --------\n",
      "    ones_like : Return an array of ones with shape and type of input.\n",
      "    empty : Return a new uninitialized array.\n",
      "    zeros : Return a new array setting values to zero.\n",
      "    full : Return a new array of given shape filled with value.\n",
      "    \n",
      "    \n",
      "    Examples\n",
      "    --------\n",
      "    >>> np.ones(5)\n",
      "    array([1., 1., 1., 1., 1.])\n",
      "    \n",
      "    >>> np.ones((5,), dtype=int)\n",
      "    array([1, 1, 1, 1, 1])\n",
      "    \n",
      "    >>> np.ones((2, 1))\n",
      "    array([[1.],\n",
      "           [1.]])\n",
      "    \n",
      "    >>> s = (2,2)\n",
      "    >>> np.ones(s)\n",
      "    array([[1.,  1.],\n",
      "           [1.,  1.]])\n",
      "\n"
     ]
    }
   ],
   "source": [
    "help(np.ones)"
   ]
  },
  {
   "cell_type": "code",
   "execution_count": 179,
   "id": "38dbeb0f",
   "metadata": {},
   "outputs": [
    {
     "name": "stdout",
     "output_type": "stream",
     "text": [
      "[[[[1. 1. 1. 1.]\n",
      "   [1. 1. 1. 1.]\n",
      "   [1. 1. 1. 1.]\n",
      "   ...\n",
      "   [1. 1. 1. 1.]\n",
      "   [1. 1. 1. 1.]\n",
      "   [1. 1. 1. 1.]]\n",
      "\n",
      "  [[1. 1. 1. 1.]\n",
      "   [1. 1. 1. 1.]\n",
      "   [1. 1. 1. 1.]\n",
      "   ...\n",
      "   [1. 1. 1. 1.]\n",
      "   [1. 1. 1. 1.]\n",
      "   [1. 1. 1. 1.]]\n",
      "\n",
      "  [[1. 1. 1. 1.]\n",
      "   [1. 1. 1. 1.]\n",
      "   [1. 1. 1. 1.]\n",
      "   ...\n",
      "   [1. 1. 1. 1.]\n",
      "   [1. 1. 1. 1.]\n",
      "   [1. 1. 1. 1.]]\n",
      "\n",
      "  [[1. 1. 1. 1.]\n",
      "   [1. 1. 1. 1.]\n",
      "   [1. 1. 1. 1.]\n",
      "   ...\n",
      "   [1. 1. 1. 1.]\n",
      "   [1. 1. 1. 1.]\n",
      "   [1. 1. 1. 1.]]\n",
      "\n",
      "  [[1. 1. 1. 1.]\n",
      "   [1. 1. 1. 1.]\n",
      "   [1. 1. 1. 1.]\n",
      "   ...\n",
      "   [1. 1. 1. 1.]\n",
      "   [1. 1. 1. 1.]\n",
      "   [1. 1. 1. 1.]]]\n",
      "\n",
      "\n",
      " [[[1. 1. 1. 1.]\n",
      "   [1. 1. 1. 1.]\n",
      "   [1. 1. 1. 1.]\n",
      "   ...\n",
      "   [1. 1. 1. 1.]\n",
      "   [1. 1. 1. 1.]\n",
      "   [1. 1. 1. 1.]]\n",
      "\n",
      "  [[1. 1. 1. 1.]\n",
      "   [1. 1. 1. 1.]\n",
      "   [1. 1. 1. 1.]\n",
      "   ...\n",
      "   [1. 1. 1. 1.]\n",
      "   [1. 1. 1. 1.]\n",
      "   [1. 1. 1. 1.]]\n",
      "\n",
      "  [[1. 1. 1. 1.]\n",
      "   [1. 1. 1. 1.]\n",
      "   [1. 1. 1. 1.]\n",
      "   ...\n",
      "   [1. 1. 1. 1.]\n",
      "   [1. 1. 1. 1.]\n",
      "   [1. 1. 1. 1.]]\n",
      "\n",
      "  [[1. 1. 1. 1.]\n",
      "   [1. 1. 1. 1.]\n",
      "   [1. 1. 1. 1.]\n",
      "   ...\n",
      "   [1. 1. 1. 1.]\n",
      "   [1. 1. 1. 1.]\n",
      "   [1. 1. 1. 1.]]\n",
      "\n",
      "  [[1. 1. 1. 1.]\n",
      "   [1. 1. 1. 1.]\n",
      "   [1. 1. 1. 1.]\n",
      "   ...\n",
      "   [1. 1. 1. 1.]\n",
      "   [1. 1. 1. 1.]\n",
      "   [1. 1. 1. 1.]]]\n",
      "\n",
      "\n",
      " [[[1. 1. 1. 1.]\n",
      "   [1. 1. 1. 1.]\n",
      "   [1. 1. 1. 1.]\n",
      "   ...\n",
      "   [1. 1. 1. 1.]\n",
      "   [1. 1. 1. 1.]\n",
      "   [1. 1. 1. 1.]]\n",
      "\n",
      "  [[1. 1. 1. 1.]\n",
      "   [1. 1. 1. 1.]\n",
      "   [1. 1. 1. 1.]\n",
      "   ...\n",
      "   [1. 1. 1. 1.]\n",
      "   [1. 1. 1. 1.]\n",
      "   [1. 1. 1. 1.]]\n",
      "\n",
      "  [[1. 1. 1. 1.]\n",
      "   [1. 1. 1. 1.]\n",
      "   [1. 1. 1. 1.]\n",
      "   ...\n",
      "   [1. 1. 1. 1.]\n",
      "   [1. 1. 1. 1.]\n",
      "   [1. 1. 1. 1.]]\n",
      "\n",
      "  [[1. 1. 1. 1.]\n",
      "   [1. 1. 1. 1.]\n",
      "   [1. 1. 1. 1.]\n",
      "   ...\n",
      "   [1. 1. 1. 1.]\n",
      "   [1. 1. 1. 1.]\n",
      "   [1. 1. 1. 1.]]\n",
      "\n",
      "  [[1. 1. 1. 1.]\n",
      "   [1. 1. 1. 1.]\n",
      "   [1. 1. 1. 1.]\n",
      "   ...\n",
      "   [1. 1. 1. 1.]\n",
      "   [1. 1. 1. 1.]\n",
      "   [1. 1. 1. 1.]]]\n",
      "\n",
      "\n",
      " ...\n",
      "\n",
      "\n",
      " [[[1. 1. 1. 1.]\n",
      "   [1. 1. 1. 1.]\n",
      "   [1. 1. 1. 1.]\n",
      "   ...\n",
      "   [1. 1. 1. 1.]\n",
      "   [1. 1. 1. 1.]\n",
      "   [1. 1. 1. 1.]]\n",
      "\n",
      "  [[1. 1. 1. 1.]\n",
      "   [1. 1. 1. 1.]\n",
      "   [1. 1. 1. 1.]\n",
      "   ...\n",
      "   [1. 1. 1. 1.]\n",
      "   [1. 1. 1. 1.]\n",
      "   [1. 1. 1. 1.]]\n",
      "\n",
      "  [[1. 1. 1. 1.]\n",
      "   [1. 1. 1. 1.]\n",
      "   [1. 1. 1. 1.]\n",
      "   ...\n",
      "   [1. 1. 1. 1.]\n",
      "   [1. 1. 1. 1.]\n",
      "   [1. 1. 1. 1.]]\n",
      "\n",
      "  [[1. 1. 1. 1.]\n",
      "   [1. 1. 1. 1.]\n",
      "   [1. 1. 1. 1.]\n",
      "   ...\n",
      "   [1. 1. 1. 1.]\n",
      "   [1. 1. 1. 1.]\n",
      "   [1. 1. 1. 1.]]\n",
      "\n",
      "  [[1. 1. 1. 1.]\n",
      "   [1. 1. 1. 1.]\n",
      "   [1. 1. 1. 1.]\n",
      "   ...\n",
      "   [1. 1. 1. 1.]\n",
      "   [1. 1. 1. 1.]\n",
      "   [1. 1. 1. 1.]]]\n",
      "\n",
      "\n",
      " [[[1. 1. 1. 1.]\n",
      "   [1. 1. 1. 1.]\n",
      "   [1. 1. 1. 1.]\n",
      "   ...\n",
      "   [1. 1. 1. 1.]\n",
      "   [1. 1. 1. 1.]\n",
      "   [1. 1. 1. 1.]]\n",
      "\n",
      "  [[1. 1. 1. 1.]\n",
      "   [1. 1. 1. 1.]\n",
      "   [1. 1. 1. 1.]\n",
      "   ...\n",
      "   [1. 1. 1. 1.]\n",
      "   [1. 1. 1. 1.]\n",
      "   [1. 1. 1. 1.]]\n",
      "\n",
      "  [[1. 1. 1. 1.]\n",
      "   [1. 1. 1. 1.]\n",
      "   [1. 1. 1. 1.]\n",
      "   ...\n",
      "   [1. 1. 1. 1.]\n",
      "   [1. 1. 1. 1.]\n",
      "   [1. 1. 1. 1.]]\n",
      "\n",
      "  [[1. 1. 1. 1.]\n",
      "   [1. 1. 1. 1.]\n",
      "   [1. 1. 1. 1.]\n",
      "   ...\n",
      "   [1. 1. 1. 1.]\n",
      "   [1. 1. 1. 1.]\n",
      "   [1. 1. 1. 1.]]\n",
      "\n",
      "  [[1. 1. 1. 1.]\n",
      "   [1. 1. 1. 1.]\n",
      "   [1. 1. 1. 1.]\n",
      "   ...\n",
      "   [1. 1. 1. 1.]\n",
      "   [1. 1. 1. 1.]\n",
      "   [1. 1. 1. 1.]]]\n",
      "\n",
      "\n",
      " [[[1. 1. 1. 1.]\n",
      "   [1. 1. 1. 1.]\n",
      "   [1. 1. 1. 1.]\n",
      "   ...\n",
      "   [1. 1. 1. 1.]\n",
      "   [1. 1. 1. 1.]\n",
      "   [1. 1. 1. 1.]]\n",
      "\n",
      "  [[1. 1. 1. 1.]\n",
      "   [1. 1. 1. 1.]\n",
      "   [1. 1. 1. 1.]\n",
      "   ...\n",
      "   [1. 1. 1. 1.]\n",
      "   [1. 1. 1. 1.]\n",
      "   [1. 1. 1. 1.]]\n",
      "\n",
      "  [[1. 1. 1. 1.]\n",
      "   [1. 1. 1. 1.]\n",
      "   [1. 1. 1. 1.]\n",
      "   ...\n",
      "   [1. 1. 1. 1.]\n",
      "   [1. 1. 1. 1.]\n",
      "   [1. 1. 1. 1.]]\n",
      "\n",
      "  [[1. 1. 1. 1.]\n",
      "   [1. 1. 1. 1.]\n",
      "   [1. 1. 1. 1.]\n",
      "   ...\n",
      "   [1. 1. 1. 1.]\n",
      "   [1. 1. 1. 1.]\n",
      "   [1. 1. 1. 1.]]\n",
      "\n",
      "  [[1. 1. 1. 1.]\n",
      "   [1. 1. 1. 1.]\n",
      "   [1. 1. 1. 1.]\n",
      "   ...\n",
      "   [1. 1. 1. 1.]\n",
      "   [1. 1. 1. 1.]\n",
      "   [1. 1. 1. 1.]]]]\n",
      "(9, 5, 7, 4)\n"
     ]
    }
   ],
   "source": [
    "a = np.ones([9, 5, 7, 4])\n",
    "print(a)\n",
    "print(a.shape)"
   ]
  },
  {
   "cell_type": "code",
   "execution_count": 31,
   "id": "d7464186",
   "metadata": {},
   "outputs": [
    {
     "name": "stdout",
     "output_type": "stream",
     "text": [
      "[[[[1. 1. 1. 1.]\n",
      "   [1. 1. 1. 1.]\n",
      "   [1. 1. 1. 1.]\n",
      "   ...\n",
      "   [1. 1. 1. 1.]\n",
      "   [1. 1. 1. 1.]\n",
      "   [1. 1. 1. 1.]]\n",
      "\n",
      "  [[1. 1. 1. 1.]\n",
      "   [1. 1. 1. 1.]\n",
      "   [1. 1. 1. 1.]\n",
      "   ...\n",
      "   [1. 1. 1. 1.]\n",
      "   [1. 1. 1. 1.]\n",
      "   [1. 1. 1. 1.]]\n",
      "\n",
      "  [[1. 1. 1. 1.]\n",
      "   [1. 1. 1. 1.]\n",
      "   [1. 1. 1. 1.]\n",
      "   ...\n",
      "   [1. 1. 1. 1.]\n",
      "   [1. 1. 1. 1.]\n",
      "   [1. 1. 1. 1.]]\n",
      "\n",
      "  [[1. 1. 1. 1.]\n",
      "   [1. 1. 1. 1.]\n",
      "   [1. 1. 1. 1.]\n",
      "   ...\n",
      "   [1. 1. 1. 1.]\n",
      "   [1. 1. 1. 1.]\n",
      "   [1. 1. 1. 1.]]\n",
      "\n",
      "  [[1. 1. 1. 1.]\n",
      "   [1. 1. 1. 1.]\n",
      "   [1. 1. 1. 1.]\n",
      "   ...\n",
      "   [1. 1. 1. 1.]\n",
      "   [1. 1. 1. 1.]\n",
      "   [1. 1. 1. 1.]]]\n",
      "\n",
      "\n",
      " [[[1. 1. 1. 1.]\n",
      "   [1. 1. 1. 1.]\n",
      "   [1. 1. 1. 1.]\n",
      "   ...\n",
      "   [1. 1. 1. 1.]\n",
      "   [1. 1. 1. 1.]\n",
      "   [1. 1. 1. 1.]]\n",
      "\n",
      "  [[1. 1. 1. 1.]\n",
      "   [1. 1. 1. 1.]\n",
      "   [1. 1. 1. 1.]\n",
      "   ...\n",
      "   [1. 1. 1. 1.]\n",
      "   [1. 1. 1. 1.]\n",
      "   [1. 1. 1. 1.]]\n",
      "\n",
      "  [[1. 1. 1. 1.]\n",
      "   [1. 1. 1. 1.]\n",
      "   [1. 1. 1. 1.]\n",
      "   ...\n",
      "   [1. 1. 1. 1.]\n",
      "   [1. 1. 1. 1.]\n",
      "   [1. 1. 1. 1.]]\n",
      "\n",
      "  [[1. 1. 1. 1.]\n",
      "   [1. 1. 1. 1.]\n",
      "   [1. 1. 1. 1.]\n",
      "   ...\n",
      "   [1. 1. 1. 1.]\n",
      "   [1. 1. 1. 1.]\n",
      "   [1. 1. 1. 1.]]\n",
      "\n",
      "  [[1. 1. 1. 1.]\n",
      "   [1. 1. 1. 1.]\n",
      "   [1. 1. 1. 1.]\n",
      "   ...\n",
      "   [1. 1. 1. 1.]\n",
      "   [1. 1. 1. 1.]\n",
      "   [1. 1. 1. 1.]]]\n",
      "\n",
      "\n",
      " [[[1. 1. 1. 1.]\n",
      "   [1. 1. 1. 1.]\n",
      "   [1. 1. 1. 1.]\n",
      "   ...\n",
      "   [1. 1. 1. 1.]\n",
      "   [1. 1. 1. 1.]\n",
      "   [1. 1. 1. 1.]]\n",
      "\n",
      "  [[1. 1. 1. 1.]\n",
      "   [1. 1. 1. 1.]\n",
      "   [1. 1. 1. 1.]\n",
      "   ...\n",
      "   [1. 1. 1. 1.]\n",
      "   [1. 1. 1. 1.]\n",
      "   [1. 1. 1. 1.]]\n",
      "\n",
      "  [[1. 1. 1. 1.]\n",
      "   [1. 1. 1. 1.]\n",
      "   [1. 1. 1. 1.]\n",
      "   ...\n",
      "   [1. 1. 1. 1.]\n",
      "   [1. 1. 1. 1.]\n",
      "   [1. 1. 1. 1.]]\n",
      "\n",
      "  [[1. 1. 1. 1.]\n",
      "   [1. 1. 1. 1.]\n",
      "   [1. 1. 1. 1.]\n",
      "   ...\n",
      "   [1. 1. 1. 1.]\n",
      "   [1. 1. 1. 1.]\n",
      "   [1. 1. 1. 1.]]\n",
      "\n",
      "  [[1. 1. 1. 1.]\n",
      "   [1. 1. 1. 1.]\n",
      "   [1. 1. 1. 1.]\n",
      "   ...\n",
      "   [1. 1. 1. 1.]\n",
      "   [1. 1. 1. 1.]\n",
      "   [1. 1. 1. 1.]]]\n",
      "\n",
      "\n",
      " ...\n",
      "\n",
      "\n",
      " [[[1. 1. 1. 1.]\n",
      "   [1. 1. 1. 1.]\n",
      "   [1. 1. 1. 1.]\n",
      "   ...\n",
      "   [1. 1. 1. 1.]\n",
      "   [1. 1. 1. 1.]\n",
      "   [1. 1. 1. 1.]]\n",
      "\n",
      "  [[1. 1. 1. 1.]\n",
      "   [1. 1. 1. 1.]\n",
      "   [1. 1. 1. 1.]\n",
      "   ...\n",
      "   [1. 1. 1. 1.]\n",
      "   [1. 1. 1. 1.]\n",
      "   [1. 1. 1. 1.]]\n",
      "\n",
      "  [[1. 1. 1. 1.]\n",
      "   [1. 1. 1. 1.]\n",
      "   [1. 1. 1. 1.]\n",
      "   ...\n",
      "   [1. 1. 1. 1.]\n",
      "   [1. 1. 1. 1.]\n",
      "   [1. 1. 1. 1.]]\n",
      "\n",
      "  [[1. 1. 1. 1.]\n",
      "   [1. 1. 1. 1.]\n",
      "   [1. 1. 1. 1.]\n",
      "   ...\n",
      "   [1. 1. 1. 1.]\n",
      "   [1. 1. 1. 1.]\n",
      "   [1. 1. 1. 1.]]\n",
      "\n",
      "  [[1. 1. 1. 1.]\n",
      "   [1. 1. 1. 1.]\n",
      "   [1. 1. 1. 1.]\n",
      "   ...\n",
      "   [1. 1. 1. 1.]\n",
      "   [1. 1. 1. 1.]\n",
      "   [1. 1. 1. 1.]]]\n",
      "\n",
      "\n",
      " [[[1. 1. 1. 1.]\n",
      "   [1. 1. 1. 1.]\n",
      "   [1. 1. 1. 1.]\n",
      "   ...\n",
      "   [1. 1. 1. 1.]\n",
      "   [1. 1. 1. 1.]\n",
      "   [1. 1. 1. 1.]]\n",
      "\n",
      "  [[1. 1. 1. 1.]\n",
      "   [1. 1. 1. 1.]\n",
      "   [1. 1. 1. 1.]\n",
      "   ...\n",
      "   [1. 1. 1. 1.]\n",
      "   [1. 1. 1. 1.]\n",
      "   [1. 1. 1. 1.]]\n",
      "\n",
      "  [[1. 1. 1. 1.]\n",
      "   [1. 1. 1. 1.]\n",
      "   [1. 1. 1. 1.]\n",
      "   ...\n",
      "   [1. 1. 1. 1.]\n",
      "   [1. 1. 1. 1.]\n",
      "   [1. 1. 1. 1.]]\n",
      "\n",
      "  [[1. 1. 1. 1.]\n",
      "   [1. 1. 1. 1.]\n",
      "   [1. 1. 1. 1.]\n",
      "   ...\n",
      "   [1. 1. 1. 1.]\n",
      "   [1. 1. 1. 1.]\n",
      "   [1. 1. 1. 1.]]\n",
      "\n",
      "  [[1. 1. 1. 1.]\n",
      "   [1. 1. 1. 1.]\n",
      "   [1. 1. 1. 1.]\n",
      "   ...\n",
      "   [1. 1. 1. 1.]\n",
      "   [1. 1. 1. 1.]\n",
      "   [1. 1. 1. 1.]]]\n",
      "\n",
      "\n",
      " [[[1. 1. 1. 1.]\n",
      "   [1. 1. 1. 1.]\n",
      "   [1. 1. 1. 1.]\n",
      "   ...\n",
      "   [1. 1. 1. 1.]\n",
      "   [1. 1. 1. 1.]\n",
      "   [1. 1. 1. 1.]]\n",
      "\n",
      "  [[1. 1. 1. 1.]\n",
      "   [1. 1. 1. 1.]\n",
      "   [1. 1. 1. 1.]\n",
      "   ...\n",
      "   [1. 1. 1. 1.]\n",
      "   [1. 1. 1. 1.]\n",
      "   [1. 1. 1. 1.]]\n",
      "\n",
      "  [[1. 1. 1. 1.]\n",
      "   [1. 1. 1. 1.]\n",
      "   [1. 1. 1. 1.]\n",
      "   ...\n",
      "   [1. 1. 1. 1.]\n",
      "   [1. 1. 1. 1.]\n",
      "   [1. 1. 1. 1.]]\n",
      "\n",
      "  [[1. 1. 1. 1.]\n",
      "   [1. 1. 1. 1.]\n",
      "   [1. 1. 1. 1.]\n",
      "   ...\n",
      "   [1. 1. 1. 1.]\n",
      "   [1. 1. 1. 1.]\n",
      "   [1. 1. 1. 1.]]\n",
      "\n",
      "  [[1. 1. 1. 1.]\n",
      "   [1. 1. 1. 1.]\n",
      "   [1. 1. 1. 1.]\n",
      "   ...\n",
      "   [1. 1. 1. 1.]\n",
      "   [1. 1. 1. 1.]\n",
      "   [1. 1. 1. 1.]]]]\n",
      "________________\n",
      "[[4, 1], [2, 2]]\n"
     ]
    },
    {
     "data": {
      "text/plain": [
       "(9, 5, 7, 3)"
      ]
     },
     "execution_count": 31,
     "metadata": {},
     "output_type": "execute_result"
    }
   ],
   "source": [
    "a = np.ones([9, 5, 7, 4])\n",
    "c = np.ones([9, 5, 4, 3])\n",
    "\n",
    "\n",
    "np.dot(a, c).shape\n",
    "#(9, 5, 7, 9, 5, 3)  \n",
    "np.matmul(a, c).shape\n",
    "#(9, 5, 7, 3)"
   ]
  },
  {
   "cell_type": "code",
   "execution_count": 8,
   "id": "3344329e",
   "metadata": {},
   "outputs": [
    {
     "data": {
      "text/plain": [
       "array([[4, 0],\n",
       "       [0, 2]])"
      ]
     },
     "execution_count": 8,
     "metadata": {},
     "output_type": "execute_result"
    }
   ],
   "source": [
    "a = [[1, 0], [0,1]]   # https://www.mathsisfun.com/algebra/matrix-multiplying.html\n",
    "b = [[4, 1], [2, 2]]  # matrix multiplication\n",
    "np.multiply(a, b)"
   ]
  },
  {
   "cell_type": "code",
   "execution_count": 186,
   "id": "2be8cdb9",
   "metadata": {},
   "outputs": [
    {
     "name": "stdout",
     "output_type": "stream",
     "text": [
      "a: [99 98 97 96 95] \n",
      "\n",
      "b: [[ 0  1  2  3]\n",
      " [ 4  5  6  7]\n",
      " [ 8  9 10 11]\n",
      " [12 13 14 15]\n",
      " [16 17 18 19]] \n",
      "\n",
      "c: [[0]\n",
      " [1]\n",
      " [2]\n",
      " [3]\n",
      " [4]] \n",
      "\n",
      "d: [[ 0  1  2  3  0]\n",
      " [ 4  5  6  7  1]\n",
      " [ 8  9 10 11  2]\n",
      " [12 13 14 15  3]\n",
      " [16 17 18 19  4]] \n",
      "\n",
      "[[ 0  1  2  3  0]\n",
      " [ 4  5  6  7  1]\n",
      " [ 8  9 10 11  2]\n",
      " [12 13 14 15  3]\n",
      " [16 17 18 19  4]\n",
      " [99 98 97 96 95]]\n"
     ]
    }
   ],
   "source": [
    "import numpy as np \n",
    "a = np.array([99, 98, 97, 96, 95])\n",
    "print('a:', a ,'\\n')\n",
    "b = np.arange(20).reshape(5, 4)\n",
    "print('b:', b,'\\n')\n",
    "c = np.arange(5).reshape(1, 5).T\n",
    "print('c:', c,'\\n')\n",
    "d = np.hstack((b, c))#number of rows should be same\n",
    "print('d:',d,'\\n')\n",
    "print(np.vstack((d, a))) #number of column should be same"
   ]
  },
  {
   "cell_type": "code",
   "execution_count": 185,
   "id": "69a7c51f",
   "metadata": {},
   "outputs": [
    {
     "data": {
      "text/plain": [
       "array([0, 1, 2, 3, 4])"
      ]
     },
     "execution_count": 185,
     "metadata": {},
     "output_type": "execute_result"
    }
   ],
   "source": [
    "c = np.arange(5)\n",
    "c\n"
   ]
  },
  {
   "cell_type": "markdown",
   "id": "36c4a5e6",
   "metadata": {},
   "source": [
    "# Assert:\n",
    "\n",
    "Python Provides the assert statement to check if a given logical expression is true or false. Program execution procceds only if the expression is true and raises the assertionError when it is false. The following code shows the usage of the assert statement."
   ]
  },
  {
   "cell_type": "code",
   "execution_count": 1,
   "id": "45698870",
   "metadata": {},
   "outputs": [
    {
     "ename": "AssertionError",
     "evalue": "",
     "output_type": "error",
     "traceback": [
      "\u001b[1;31m---------------------------------------------------------------------------\u001b[0m",
      "\u001b[1;31mAssertionError\u001b[0m                            Traceback (most recent call last)",
      "\u001b[1;32m~\\AppData\\Local\\Temp\\ipykernel_11448\\1370101930.py\u001b[0m in \u001b[0;36m<module>\u001b[1;34m\u001b[0m\n\u001b[0;32m      1\u001b[0m \u001b[1;31m#Example\u001b[0m\u001b[1;33m\u001b[0m\u001b[1;33m\u001b[0m\u001b[0m\n\u001b[0;32m      2\u001b[0m \u001b[0mnum\u001b[0m \u001b[1;33m=\u001b[0m \u001b[1;36m10\u001b[0m\u001b[1;33m\u001b[0m\u001b[1;33m\u001b[0m\u001b[0m\n\u001b[1;32m----> 3\u001b[1;33m \u001b[1;32massert\u001b[0m \u001b[0mnum\u001b[0m \u001b[1;33m>\u001b[0m \u001b[1;36m10\u001b[0m\u001b[1;33m\u001b[0m\u001b[1;33m\u001b[0m\u001b[0m\n\u001b[0m",
      "\u001b[1;31mAssertionError\u001b[0m: "
     ]
    }
   ],
   "source": [
    "#Example\n",
    "num = 10\n",
    "assert num > 10 #false condition"
   ]
  },
  {
   "cell_type": "code",
   "execution_count": 4,
   "id": "bbf143f8",
   "metadata": {},
   "outputs": [],
   "source": [
    "num = 10\n",
    "assert num >= 10 #executed fine----no error raised"
   ]
  },
  {
   "cell_type": "code",
   "execution_count": 193,
   "id": "452be97b",
   "metadata": {},
   "outputs": [
    {
     "name": "stdout",
     "output_type": "stream",
     "text": [
      "[[-5 -4 -3]\n",
      " [-2 -1  0]\n",
      " [ 1  2  3]]\n",
      "3\n",
      "[[0 0 0]\n",
      " [0 0 0]\n",
      " [1 2 3]]\n"
     ]
    }
   ],
   "source": [
    "import numpy as np\n",
    "x = np.arange(-5, 4).reshape(3, 3)\n",
    "print(x)\n",
    "print(x.shape[1])\n",
    "def navie_relu(x):\n",
    "    assert len(x.shape) == 2\n",
    "   \n",
    "    x = x.copy()\n",
    "    for i in range(x.shape[0]):\n",
    "        for j in range(x.shape[1]):\n",
    "              x[i, j] = max(x[i, j], 0)\n",
    "    return x        \n",
    "print(navie_relu(x))"
   ]
  },
  {
   "cell_type": "code",
   "execution_count": 198,
   "id": "47006811",
   "metadata": {},
   "outputs": [
    {
     "data": {
      "text/plain": [
       "7"
      ]
     },
     "execution_count": 198,
     "metadata": {},
     "output_type": "execute_result"
    }
   ],
   "source": [
    "x=max(1, 7)\n",
    "x"
   ]
  },
  {
   "cell_type": "code",
   "execution_count": 4,
   "id": "d7362447",
   "metadata": {},
   "outputs": [
    {
     "name": "stdout",
     "output_type": "stream",
     "text": [
      "[[-5 -4 -3]\n",
      " [-2 -1  0]\n",
      " [ 1  2  3]]\n",
      "(3, 3)\n"
     ]
    }
   ],
   "source": [
    "x = np.arange(-5, 4).reshape(3, 3)\n",
    "\n",
    "print(x)\n",
    "\n",
    "print(x.shape)"
   ]
  },
  {
   "cell_type": "code",
   "execution_count": 211,
   "id": "d9863777",
   "metadata": {},
   "outputs": [
    {
     "name": "stdout",
     "output_type": "stream",
     "text": [
      "x: [[-5 -4 -3]\n",
      " [-2 -1  0]\n",
      " [ 1  2  3]]\n",
      "y: [[0 1 2]\n",
      " [3 4 5]\n",
      " [6 7 8]]\n",
      "shape of x: (3, 3)\n",
      "shape of y: (3, 3)\n",
      "2\n",
      "2\n",
      "[[-5 -3 -1]\n",
      " [ 1  3  5]\n",
      " [ 7  9 11]]\n"
     ]
    }
   ],
   "source": [
    "x = np.arange(-5,4).reshape(3,3)\n",
    "y = np.arange(0,9).reshape(3,3)\n",
    "\n",
    "print('x:', x)\n",
    "print('y:', y)\n",
    "print('shape of x:', x.shape)\n",
    "print('shape of y:', y.shape)\n",
    "print(len(x.shape))\n",
    "print(len(y.shape))\n",
    "def guess_what_function(x, y):\n",
    "    assert len(x.shape) == 2\n",
    "    assert x.shape == y.shape\n",
    "    x = x.copy()\n",
    "    for i in range(x.shape[0]):\n",
    "        for j in range(x.shape[1]):\n",
    "              x[i, j] += y[i, j]\n",
    "    return x        \n",
    "print(guess_what_function(x, y))"
   ]
  },
  {
   "cell_type": "code",
   "execution_count": 202,
   "id": "c16ba015",
   "metadata": {},
   "outputs": [
    {
     "name": "stdout",
     "output_type": "stream",
     "text": [
      "[[-5 -4 -3]\n",
      " [-2 -1  0]\n",
      " [ 1  2  3]]\n",
      "[[0 1 2]\n",
      " [3 4 5]\n",
      " [6 7 8]]\n"
     ]
    }
   ],
   "source": [
    "x = np.arange(-5,4).reshape(3,3)\n",
    "y = np.arange(0,9).reshape(3,3)\n",
    "print(x)\n",
    "print(y)"
   ]
  },
  {
   "cell_type": "raw",
   "id": "2242238b",
   "metadata": {},
   "source": [
    "Basically, the length of an array is the total number of the elements which is contained by all the dimensions of that array. Property Value: This property returns the total number of elements in all the dimensions of the Array. It can also return zero if there are no elements in the array."
   ]
  },
  {
   "cell_type": "code",
   "execution_count": 209,
   "id": "13d7acc1",
   "metadata": {},
   "outputs": [
    {
     "name": "stdout",
     "output_type": "stream",
     "text": [
      "2\n",
      "1\n",
      "[[-4 -2  0]\n",
      " [-1  1  3]\n",
      " [ 2  4  6]]\n"
     ]
    }
   ],
   "source": [
    "a = np.arange(-5, 4).reshape(3, 3)\n",
    "b = np.array([1,2, 3 ])\n",
    "print(len(a.shape))\n",
    "print(len(b.shape)) \n",
    "def guess_what(x,y):\n",
    "    assert len(x.shape) == 2\n",
    "    assert len(y.shape) == 1\n",
    "    x = x.copy()\n",
    "    for i in range(x.shape[0]):\n",
    "        for j in range(x.shape[1]):\n",
    "              x[i, j] += y[j] \n",
    "    return x        \n",
    "print(guess_what(a,b))"
   ]
  },
  {
   "cell_type": "code",
   "execution_count": 212,
   "id": "52f8bf93",
   "metadata": {},
   "outputs": [
    {
     "name": "stdout",
     "output_type": "stream",
     "text": [
      "26\n",
      "1\n"
     ]
    }
   ],
   "source": [
    "def guess_what(x,y):\n",
    "    assert len(x.shape) == 1\n",
    "    assert len(y.shape) == 1\n",
    "    assert x.shape[0] == y.shape[0]\n",
    "    z = 0\n",
    "    for i in range(x.shape[0]):\n",
    "        z += x[i] *y[i]\n",
    "    return z\n",
    "\n",
    "c = np.array([3, 4, 5])\n",
    "d = np.array([1, 2, 3])\n",
    "print(guess_what(c, d))\n",
    "print(len(c.shape))\n"
   ]
  },
  {
   "cell_type": "code",
   "execution_count": 13,
   "id": "bdd0a1c9",
   "metadata": {},
   "outputs": [
    {
     "name": "stdout",
     "output_type": "stream",
     "text": [
      "1\n"
     ]
    }
   ],
   "source": [
    "c = np.array([3, 4, 5])\n",
    "print(len(c.shape))"
   ]
  },
  {
   "cell_type": "code",
   "execution_count": 225,
   "id": "d8aacb04",
   "metadata": {},
   "outputs": [
    {
     "name": "stdout",
     "output_type": "stream",
     "text": [
      "c: [[0 1 2]\n",
      " [3 4 5]\n",
      " [6 7 8]]\n",
      "len of c: 2\n",
      "shape of c 3\n",
      "d: [[0]\n",
      " [1]\n",
      " [2]]\n",
      "len of d: 2\n",
      "shape of d 3\n",
      "z: [0. 0. 0.]\n",
      "[ 5. 14. 23.]\n"
     ]
    }
   ],
   "source": [
    "def guess_what(x,y):\n",
    "    assert len(x.shape) == 2\n",
    "    assert len(y.shape) == 2\n",
    "    assert x.shape[1] == y.shape[0]\n",
    "    z = np.zeros(x.shape[0])\n",
    "    print('z:',z)\n",
    "    for i in range(x.shape[0]):\n",
    "        for j in range(x.shape[1]):\n",
    "            z[i] += x[i, j]*y[j]\n",
    "    return z\n",
    "c = np.arange(9).reshape(3, 3)\n",
    "d = np.arange(3).reshape(3, 1)\n",
    "print('c:', c)\n",
    "print('len of c:',len(c.shape))\n",
    "print('shape of c',c.shape[1])\n",
    "print('d:', d)\n",
    "print('len of d:',len(d.shape))\n",
    "print('shape of d',d.shape[0])\n",
    "print(guess_what(c, d))\n"
   ]
  },
  {
   "cell_type": "code",
   "execution_count": 31,
   "id": "509467d0",
   "metadata": {},
   "outputs": [
    {
     "data": {
      "text/plain": [
       "'df1:'"
      ]
     },
     "metadata": {},
     "output_type": "display_data"
    },
    {
     "data": {
      "text/html": [
       "<div>\n",
       "<style scoped>\n",
       "    .dataframe tbody tr th:only-of-type {\n",
       "        vertical-align: middle;\n",
       "    }\n",
       "\n",
       "    .dataframe tbody tr th {\n",
       "        vertical-align: top;\n",
       "    }\n",
       "\n",
       "    .dataframe thead th {\n",
       "        text-align: right;\n",
       "    }\n",
       "</style>\n",
       "<table border=\"1\" class=\"dataframe\">\n",
       "  <thead>\n",
       "    <tr style=\"text-align: right;\">\n",
       "      <th></th>\n",
       "      <th>A</th>\n",
       "      <th>B</th>\n",
       "      <th>C</th>\n",
       "      <th>D</th>\n",
       "    </tr>\n",
       "  </thead>\n",
       "  <tbody>\n",
       "    <tr>\n",
       "      <th>1</th>\n",
       "      <td>20</td>\n",
       "      <td>9</td>\n",
       "      <td>19</td>\n",
       "      <td>18</td>\n",
       "    </tr>\n",
       "    <tr>\n",
       "      <th>2</th>\n",
       "      <td>4</td>\n",
       "      <td>15</td>\n",
       "      <td>4</td>\n",
       "      <td>13</td>\n",
       "    </tr>\n",
       "    <tr>\n",
       "      <th>3</th>\n",
       "      <td>3</td>\n",
       "      <td>17</td>\n",
       "      <td>5</td>\n",
       "      <td>17</td>\n",
       "    </tr>\n",
       "    <tr>\n",
       "      <th>4</th>\n",
       "      <td>7</td>\n",
       "      <td>15</td>\n",
       "      <td>24</td>\n",
       "      <td>1</td>\n",
       "    </tr>\n",
       "  </tbody>\n",
       "</table>\n",
       "</div>"
      ],
      "text/plain": [
       "    A   B   C   D\n",
       "1  20   9  19  18\n",
       "2   4  15   4  13\n",
       "3   3  17   5  17\n",
       "4   7  15  24   1"
      ]
     },
     "metadata": {},
     "output_type": "display_data"
    },
    {
     "data": {
      "text/plain": [
       "'df2:'"
      ]
     },
     "metadata": {},
     "output_type": "display_data"
    },
    {
     "data": {
      "text/html": [
       "<div>\n",
       "<style scoped>\n",
       "    .dataframe tbody tr th:only-of-type {\n",
       "        vertical-align: middle;\n",
       "    }\n",
       "\n",
       "    .dataframe tbody tr th {\n",
       "        vertical-align: top;\n",
       "    }\n",
       "\n",
       "    .dataframe thead th {\n",
       "        text-align: right;\n",
       "    }\n",
       "</style>\n",
       "<table border=\"1\" class=\"dataframe\">\n",
       "  <thead>\n",
       "    <tr style=\"text-align: right;\">\n",
       "      <th></th>\n",
       "      <th>A</th>\n",
       "      <th>B</th>\n",
       "      <th>C</th>\n",
       "      <th>D</th>\n",
       "    </tr>\n",
       "  </thead>\n",
       "  <tbody>\n",
       "    <tr>\n",
       "      <th>5</th>\n",
       "      <td>8</td>\n",
       "      <td>8</td>\n",
       "      <td>15</td>\n",
       "      <td>8</td>\n",
       "    </tr>\n",
       "    <tr>\n",
       "      <th>6</th>\n",
       "      <td>16</td>\n",
       "      <td>17</td>\n",
       "      <td>11</td>\n",
       "      <td>15</td>\n",
       "    </tr>\n",
       "    <tr>\n",
       "      <th>7</th>\n",
       "      <td>2</td>\n",
       "      <td>4</td>\n",
       "      <td>18</td>\n",
       "      <td>3</td>\n",
       "    </tr>\n",
       "    <tr>\n",
       "      <th>8</th>\n",
       "      <td>15</td>\n",
       "      <td>21</td>\n",
       "      <td>20</td>\n",
       "      <td>15</td>\n",
       "    </tr>\n",
       "    <tr>\n",
       "      <th>9</th>\n",
       "      <td>22</td>\n",
       "      <td>11</td>\n",
       "      <td>14</td>\n",
       "      <td>4</td>\n",
       "    </tr>\n",
       "    <tr>\n",
       "      <th>10</th>\n",
       "      <td>4</td>\n",
       "      <td>5</td>\n",
       "      <td>20</td>\n",
       "      <td>18</td>\n",
       "    </tr>\n",
       "  </tbody>\n",
       "</table>\n",
       "</div>"
      ],
      "text/plain": [
       "     A   B   C   D\n",
       "5    8   8  15   8\n",
       "6   16  17  11  15\n",
       "7    2   4  18   3\n",
       "8   15  21  20  15\n",
       "9   22  11  14   4\n",
       "10   4   5  20  18"
      ]
     },
     "metadata": {},
     "output_type": "display_data"
    },
    {
     "data": {
      "text/plain": [
       "'df3:'"
      ]
     },
     "metadata": {},
     "output_type": "display_data"
    },
    {
     "data": {
      "text/html": [
       "<div>\n",
       "<style scoped>\n",
       "    .dataframe tbody tr th:only-of-type {\n",
       "        vertical-align: middle;\n",
       "    }\n",
       "\n",
       "    .dataframe tbody tr th {\n",
       "        vertical-align: top;\n",
       "    }\n",
       "\n",
       "    .dataframe thead th {\n",
       "        text-align: right;\n",
       "    }\n",
       "</style>\n",
       "<table border=\"1\" class=\"dataframe\">\n",
       "  <thead>\n",
       "    <tr style=\"text-align: right;\">\n",
       "      <th></th>\n",
       "      <th>A</th>\n",
       "      <th>B</th>\n",
       "      <th>C</th>\n",
       "      <th>D</th>\n",
       "    </tr>\n",
       "  </thead>\n",
       "  <tbody>\n",
       "    <tr>\n",
       "      <th>0</th>\n",
       "      <td>20</td>\n",
       "      <td>21</td>\n",
       "      <td>7</td>\n",
       "      <td>24</td>\n",
       "    </tr>\n",
       "    <tr>\n",
       "      <th>1</th>\n",
       "      <td>14</td>\n",
       "      <td>12</td>\n",
       "      <td>0</td>\n",
       "      <td>5</td>\n",
       "    </tr>\n",
       "    <tr>\n",
       "      <th>2</th>\n",
       "      <td>13</td>\n",
       "      <td>1</td>\n",
       "      <td>23</td>\n",
       "      <td>1</td>\n",
       "    </tr>\n",
       "    <tr>\n",
       "      <th>3</th>\n",
       "      <td>16</td>\n",
       "      <td>0</td>\n",
       "      <td>4</td>\n",
       "      <td>1</td>\n",
       "    </tr>\n",
       "  </tbody>\n",
       "</table>\n",
       "</div>"
      ],
      "text/plain": [
       "    A   B   C   D\n",
       "0  20  21   7  24\n",
       "1  14  12   0   5\n",
       "2  13   1  23   1\n",
       "3  16   0   4   1"
      ]
     },
     "metadata": {},
     "output_type": "display_data"
    },
    {
     "data": {
      "text/plain": [
       "'df4:'"
      ]
     },
     "metadata": {},
     "output_type": "display_data"
    },
    {
     "data": {
      "text/html": [
       "<div>\n",
       "<style scoped>\n",
       "    .dataframe tbody tr th:only-of-type {\n",
       "        vertical-align: middle;\n",
       "    }\n",
       "\n",
       "    .dataframe tbody tr th {\n",
       "        vertical-align: top;\n",
       "    }\n",
       "\n",
       "    .dataframe thead th {\n",
       "        text-align: right;\n",
       "    }\n",
       "</style>\n",
       "<table border=\"1\" class=\"dataframe\">\n",
       "  <thead>\n",
       "    <tr style=\"text-align: right;\">\n",
       "      <th></th>\n",
       "      <th>E</th>\n",
       "      <th>F</th>\n",
       "      <th>G</th>\n",
       "      <th>H</th>\n",
       "    </tr>\n",
       "  </thead>\n",
       "  <tbody>\n",
       "    <tr>\n",
       "      <th>0</th>\n",
       "      <td>9</td>\n",
       "      <td>0</td>\n",
       "      <td>0</td>\n",
       "      <td>24</td>\n",
       "    </tr>\n",
       "    <tr>\n",
       "      <th>1</th>\n",
       "      <td>24</td>\n",
       "      <td>22</td>\n",
       "      <td>6</td>\n",
       "      <td>3</td>\n",
       "    </tr>\n",
       "    <tr>\n",
       "      <th>2</th>\n",
       "      <td>20</td>\n",
       "      <td>9</td>\n",
       "      <td>22</td>\n",
       "      <td>24</td>\n",
       "    </tr>\n",
       "    <tr>\n",
       "      <th>3</th>\n",
       "      <td>6</td>\n",
       "      <td>17</td>\n",
       "      <td>13</td>\n",
       "      <td>7</td>\n",
       "    </tr>\n",
       "  </tbody>\n",
       "</table>\n",
       "</div>"
      ],
      "text/plain": [
       "    E   F   G   H\n",
       "0   9   0   0  24\n",
       "1  24  22   6   3\n",
       "2  20   9  22  24\n",
       "3   6  17  13   7"
      ]
     },
     "metadata": {},
     "output_type": "display_data"
    }
   ],
   "source": [
    "import pandas as pd\n",
    "import numpy as np\n",
    " \n",
    "df1 = pd.DataFrame(np.random.randint(25, size=(4, 4)),\n",
    "                   index=[\"1\", \"2\", \"3\", \"4\"],\n",
    "                   columns=[\"A\", \"B\", \"C\", \"D\"])\n",
    " \n",
    "df2 = pd.DataFrame(np.random.randint(25, size=(6, 4)),\n",
    "                   index=[\"5\", \"6\", \"7\", \"8\", \"9\", \"10\"],\n",
    "                   columns=[\"A\", \"B\", \"C\", \"D\"])\n",
    " \n",
    "df3 = pd.DataFrame(np.random.randint(25, size=(4, 4)),\n",
    "                   columns=[\"A\", \"B\", \"C\", \"D\"])\n",
    " \n",
    "df4 = pd.DataFrame(np.random.randint(25, size=(4, 4)),\n",
    "                   columns=[\"E\", \"F\", \"G\", \"H\"])\n",
    " \n",
    "display('df1:',df1, 'df2:', df2, 'df3:',df3, 'df4:',df4,)"
   ]
  },
  {
   "cell_type": "code",
   "execution_count": null,
   "id": "f4c4e811",
   "metadata": {},
   "outputs": [],
   "source": []
  },
  {
   "cell_type": "code",
   "execution_count": null,
   "id": "b97f4f77",
   "metadata": {},
   "outputs": [],
   "source": []
  },
  {
   "cell_type": "code",
   "execution_count": null,
   "id": "ddcb3d8f",
   "metadata": {},
   "outputs": [],
   "source": []
  },
  {
   "cell_type": "code",
   "execution_count": null,
   "id": "0d7bb36a",
   "metadata": {},
   "outputs": [],
   "source": []
  },
  {
   "cell_type": "code",
   "execution_count": null,
   "id": "d60969cb",
   "metadata": {},
   "outputs": [],
   "source": []
  },
  {
   "cell_type": "code",
   "execution_count": null,
   "id": "58eec5a5",
   "metadata": {},
   "outputs": [],
   "source": []
  },
  {
   "cell_type": "code",
   "execution_count": null,
   "id": "ace70dd2",
   "metadata": {},
   "outputs": [],
   "source": []
  },
  {
   "cell_type": "code",
   "execution_count": null,
   "id": "fde6e9f6",
   "metadata": {},
   "outputs": [],
   "source": []
  },
  {
   "cell_type": "code",
   "execution_count": null,
   "id": "65581fe7",
   "metadata": {},
   "outputs": [],
   "source": []
  },
  {
   "cell_type": "code",
   "execution_count": null,
   "id": "75025e04",
   "metadata": {},
   "outputs": [],
   "source": []
  },
  {
   "cell_type": "code",
   "execution_count": null,
   "id": "464b64f2",
   "metadata": {},
   "outputs": [],
   "source": []
  }
 ],
 "metadata": {
  "kernelspec": {
   "display_name": "Python 3 (ipykernel)",
   "language": "python",
   "name": "python3"
  },
  "language_info": {
   "codemirror_mode": {
    "name": "ipython",
    "version": 3
   },
   "file_extension": ".py",
   "mimetype": "text/x-python",
   "name": "python",
   "nbconvert_exporter": "python",
   "pygments_lexer": "ipython3",
   "version": "3.11.5"
  }
 },
 "nbformat": 4,
 "nbformat_minor": 5
}
